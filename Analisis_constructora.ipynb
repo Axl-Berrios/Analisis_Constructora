{
 "cells": [
  {
   "cell_type": "code",
   "execution_count": 3,
   "id": "6b9940ae",
   "metadata": {},
   "outputs": [],
   "source": [
    "from sklearn.linear_model import LinearRegression\n",
    "import pandas as pd\n",
    "import numpy as np"
   ]
  },
  {
   "cell_type": "code",
   "execution_count": 4,
   "id": "7619cfa6",
   "metadata": {},
   "outputs": [],
   "source": [
    "# Preprocesamiento\n",
    "\n",
    "df = pd.read_excel(\"datos_constructora.xlsx\")"
   ]
  },
  {
   "cell_type": "code",
   "execution_count": 5,
   "id": "b4871c84",
   "metadata": {},
   "outputs": [
    {
     "data": {
      "text/html": [
       "<div>\n",
       "<style scoped>\n",
       "    .dataframe tbody tr th:only-of-type {\n",
       "        vertical-align: middle;\n",
       "    }\n",
       "\n",
       "    .dataframe tbody tr th {\n",
       "        vertical-align: top;\n",
       "    }\n",
       "\n",
       "    .dataframe thead th {\n",
       "        text-align: right;\n",
       "    }\n",
       "</style>\n",
       "<table border=\"1\" class=\"dataframe\">\n",
       "  <thead>\n",
       "    <tr style=\"text-align: right;\">\n",
       "      <th></th>\n",
       "      <th>ID Proyecto</th>\n",
       "      <th>Nombre Proyecto</th>\n",
       "      <th>Fecha Inicio</th>\n",
       "      <th>Fecha Termino</th>\n",
       "      <th>Estado Proyecto</th>\n",
       "      <th>Item Costo</th>\n",
       "      <th>Categoria Gasto</th>\n",
       "      <th>Costo Presupuestado</th>\n",
       "      <th>Costo Real</th>\n",
       "      <th>Proveedor</th>\n",
       "      <th>...</th>\n",
       "      <th>Fecha Encuesta</th>\n",
       "      <th>Puntaje Satisfaccion</th>\n",
       "      <th>Comentarios Cliente</th>\n",
       "      <th>Problemas Reportados</th>\n",
       "      <th>Tipo Edificio</th>\n",
       "      <th>Consumo Energia (kWh)</th>\n",
       "      <th>Tipo Energia</th>\n",
       "      <th>Impacto CO2 Estimado</th>\n",
       "      <th>Certificacion LEED</th>\n",
       "      <th>Puntaje Eficiencia Energetica</th>\n",
       "    </tr>\n",
       "  </thead>\n",
       "  <tbody>\n",
       "    <tr>\n",
       "      <th>0</th>\n",
       "      <td>PJT-001</td>\n",
       "      <td>Proyecto Santa Rosa</td>\n",
       "      <td>2023-01-01</td>\n",
       "      <td>2024-01-01</td>\n",
       "      <td>En ejecucion</td>\n",
       "      <td>Aislacion</td>\n",
       "      <td>Mano de Obra</td>\n",
       "      <td>19981605</td>\n",
       "      <td>43028572</td>\n",
       "      <td>Servicios del Sur</td>\n",
       "      <td>...</td>\n",
       "      <td>2025-07-02</td>\n",
       "      <td>7</td>\n",
       "      <td>Postventa lenta</td>\n",
       "      <td>11</td>\n",
       "      <td>Local comercial</td>\n",
       "      <td>19929</td>\n",
       "      <td>Gas</td>\n",
       "      <td>16.39</td>\n",
       "      <td>No</td>\n",
       "      <td>2</td>\n",
       "    </tr>\n",
       "    <tr>\n",
       "      <th>1</th>\n",
       "      <td>PJT-002</td>\n",
       "      <td>Proyecto La Reina</td>\n",
       "      <td>2023-01-08</td>\n",
       "      <td>2024-01-10</td>\n",
       "      <td>Finalizado</td>\n",
       "      <td>Excavacion</td>\n",
       "      <td>Transporte</td>\n",
       "      <td>40919509</td>\n",
       "      <td>14361118</td>\n",
       "      <td>Constructora Los Andes</td>\n",
       "      <td>...</td>\n",
       "      <td>2025-07-03</td>\n",
       "      <td>1</td>\n",
       "      <td>Sin problemas</td>\n",
       "      <td>20</td>\n",
       "      <td>Oficina</td>\n",
       "      <td>3070</td>\n",
       "      <td>Gas</td>\n",
       "      <td>186.45</td>\n",
       "      <td>SI</td>\n",
       "      <td>24</td>\n",
       "    </tr>\n",
       "    <tr>\n",
       "      <th>2</th>\n",
       "      <td>PJT-003</td>\n",
       "      <td>Proyecto Independencia</td>\n",
       "      <td>2023-01-15</td>\n",
       "      <td>2024-01-19</td>\n",
       "      <td>Finalizado</td>\n",
       "      <td>Excavacion</td>\n",
       "      <td>Mano de Obra</td>\n",
       "      <td>8485017</td>\n",
       "      <td>56970569</td>\n",
       "      <td>Proyectos Austral</td>\n",
       "      <td>...</td>\n",
       "      <td>2025-07-04</td>\n",
       "      <td>9</td>\n",
       "      <td>Postventa lenta</td>\n",
       "      <td>3</td>\n",
       "      <td>Oficina</td>\n",
       "      <td>24906</td>\n",
       "      <td>Gas</td>\n",
       "      <td>160.16</td>\n",
       "      <td>SI</td>\n",
       "      <td>87</td>\n",
       "    </tr>\n",
       "    <tr>\n",
       "      <th>3</th>\n",
       "      <td>PJT-004</td>\n",
       "      <td>Proyecto Mapocho</td>\n",
       "      <td>2023-01-22</td>\n",
       "      <td>2024-01-28</td>\n",
       "      <td>En ejecucion</td>\n",
       "      <td>Pintura</td>\n",
       "      <td>Maquinaria</td>\n",
       "      <td>33322903</td>\n",
       "      <td>5823380</td>\n",
       "      <td>Constructora Maipo</td>\n",
       "      <td>...</td>\n",
       "      <td>2025-07-05</td>\n",
       "      <td>4</td>\n",
       "      <td>Demora</td>\n",
       "      <td>26</td>\n",
       "      <td>Local comercial</td>\n",
       "      <td>3850</td>\n",
       "      <td>Gas</td>\n",
       "      <td>149.38</td>\n",
       "      <td>SI</td>\n",
       "      <td>66</td>\n",
       "    </tr>\n",
       "    <tr>\n",
       "      <th>4</th>\n",
       "      <td>PJT-005</td>\n",
       "      <td>Proyecto Mapocho</td>\n",
       "      <td>2023-01-29</td>\n",
       "      <td>2024-02-06</td>\n",
       "      <td>Finalizado</td>\n",
       "      <td>Terminaciones</td>\n",
       "      <td>Materiales</td>\n",
       "      <td>791658296</td>\n",
       "      <td>205660460</td>\n",
       "      <td>Constructora Maipo</td>\n",
       "      <td>...</td>\n",
       "      <td>2025-07-06</td>\n",
       "      <td>3</td>\n",
       "      <td>Demora</td>\n",
       "      <td>1</td>\n",
       "      <td>Edificio</td>\n",
       "      <td>23437</td>\n",
       "      <td>Gas</td>\n",
       "      <td>188.00</td>\n",
       "      <td>No</td>\n",
       "      <td>38</td>\n",
       "    </tr>\n",
       "  </tbody>\n",
       "</table>\n",
       "<p>5 rows × 65 columns</p>\n",
       "</div>"
      ],
      "text/plain": [
       "  ID Proyecto         Nombre Proyecto Fecha Inicio Fecha Termino  \\\n",
       "0     PJT-001     Proyecto Santa Rosa   2023-01-01    2024-01-01   \n",
       "1     PJT-002       Proyecto La Reina   2023-01-08    2024-01-10   \n",
       "2     PJT-003  Proyecto Independencia   2023-01-15    2024-01-19   \n",
       "3     PJT-004        Proyecto Mapocho   2023-01-22    2024-01-28   \n",
       "4     PJT-005        Proyecto Mapocho   2023-01-29    2024-02-06   \n",
       "\n",
       "  Estado Proyecto     Item Costo Categoria Gasto  Costo Presupuestado  \\\n",
       "0    En ejecucion      Aislacion    Mano de Obra             19981605   \n",
       "1      Finalizado     Excavacion      Transporte             40919509   \n",
       "2      Finalizado     Excavacion    Mano de Obra              8485017   \n",
       "3    En ejecucion        Pintura      Maquinaria             33322903   \n",
       "4      Finalizado  Terminaciones      Materiales            791658296   \n",
       "\n",
       "   Costo Real               Proveedor  ... Fecha Encuesta  \\\n",
       "0    43028572       Servicios del Sur  ...     2025-07-02   \n",
       "1    14361118  Constructora Los Andes  ...     2025-07-03   \n",
       "2    56970569       Proyectos Austral  ...     2025-07-04   \n",
       "3     5823380      Constructora Maipo  ...     2025-07-05   \n",
       "4   205660460      Constructora Maipo  ...     2025-07-06   \n",
       "\n",
       "  Puntaje Satisfaccion  Comentarios Cliente  Problemas Reportados  \\\n",
       "0                    7      Postventa lenta                    11   \n",
       "1                    1        Sin problemas                    20   \n",
       "2                    9      Postventa lenta                     3   \n",
       "3                    4               Demora                    26   \n",
       "4                    3               Demora                     1   \n",
       "\n",
       "     Tipo Edificio Consumo Energia (kWh) Tipo Energia Impacto CO2 Estimado  \\\n",
       "0  Local comercial                 19929          Gas                16.39   \n",
       "1          Oficina                  3070          Gas               186.45   \n",
       "2          Oficina                 24906          Gas               160.16   \n",
       "3  Local comercial                  3850          Gas               149.38   \n",
       "4         Edificio                 23437          Gas               188.00   \n",
       "\n",
       "  Certificacion LEED  Puntaje Eficiencia Energetica  \n",
       "0                 No                              2  \n",
       "1                 SI                             24  \n",
       "2                 SI                             87  \n",
       "3                 SI                             66  \n",
       "4                 No                             38  \n",
       "\n",
       "[5 rows x 65 columns]"
      ]
     },
     "execution_count": 5,
     "metadata": {},
     "output_type": "execute_result"
    }
   ],
   "source": [
    "df.head()"
   ]
  },
  {
   "cell_type": "code",
   "execution_count": 6,
   "id": "159cd398",
   "metadata": {},
   "outputs": [
    {
     "data": {
      "text/plain": [
       "Index(['ID Proyecto', 'Nombre Proyecto', 'Fecha Inicio', 'Fecha Termino',\n",
       "       'Estado Proyecto', 'Item Costo', 'Categoria Gasto',\n",
       "       'Costo Presupuestado', 'Costo Real', 'Proveedor', 'ID Material',\n",
       "       'Nombre Material', 'Cantidad Utilizada', 'Cantidad Comprada',\n",
       "       'Fecha Uso Material', 'ID Trabajador', 'Nombre Trabajador', 'Rol',\n",
       "       'Habilidades', 'Horas Trabajadas', 'ID Maquinaria', 'Uso Maquinaria',\n",
       "       'Costo Operación', 'Fecha Incidente', 'Tipo Incidente', 'Gravedad',\n",
       "       'Causa Incidente', 'Porcentaje Avance Esperado',\n",
       "       'Porcentaje Avance Real', 'Fecha Estimacion Entrega',\n",
       "       'Fecha Real Entrega', 'Lluvia (mm)', 'Temperatura (°C)',\n",
       "       'Viento (km/h)', 'Fecha', 'Fase Obra', 'Rendimiento Equipo', 'Retrasos',\n",
       "       'Motivo Retraso', 'Horas Laborales', 'Horas Perdidas',\n",
       "       'ID Cuello Botella', 'Descripcion Problema', 'Fecha Accidente',\n",
       "       'Parte Afectada', 'Dias Incapacidad', 'Hospitalizacion', 'Uso EPP',\n",
       "       'Capacitaciones Realizadas', 'Fecha Capacitacion',\n",
       "       'Resultado Inspeccion', 'Recomendaciones', 'ID Cliente',\n",
       "       'Segmento Cliente', 'Fecha Entrega', 'Fecha Encuesta',\n",
       "       'Puntaje Satisfaccion', 'Comentarios Cliente', 'Problemas Reportados',\n",
       "       'Tipo Edificio', 'Consumo Energia (kWh)', 'Tipo Energia',\n",
       "       'Impacto CO2 Estimado', 'Certificacion LEED',\n",
       "       'Puntaje Eficiencia Energetica'],\n",
       "      dtype='object')"
      ]
     },
     "execution_count": 6,
     "metadata": {},
     "output_type": "execute_result"
    }
   ],
   "source": [
    "df.columns"
   ]
  },
  {
   "cell_type": "code",
   "execution_count": 7,
   "id": "5166077e",
   "metadata": {},
   "outputs": [
    {
     "name": "stdout",
     "output_type": "stream",
     "text": [
      "2025-10-16: $176,163,951\n",
      "2025-11-15: $176,693,847\n",
      "2025-12-15: $177,223,742\n",
      "2026-01-14: $177,753,638\n",
      "2026-02-13: $178,283,534\n",
      "2026-03-15: $178,813,430\n"
     ]
    },
    {
     "name": "stderr",
     "output_type": "stream",
     "text": [
      "c:\\Users\\Axel\\AppData\\Local\\Programs\\Python\\Python313\\Lib\\site-packages\\sklearn\\utils\\validation.py:2739: UserWarning:\n",
      "\n",
      "X does not have valid feature names, but LinearRegression was fitted with feature names\n",
      "\n"
     ]
    }
   ],
   "source": [
    "# Preparar datos\n",
    "df_fechas = df.copy()\n",
    "df_fechas = df_fechas.dropna(subset=[\"Fecha Inicio\", \"Costo Real\"])\n",
    "df_fechas[\"Fecha Ord\"] = df_fechas[\"Fecha Inicio\"].map(pd.Timestamp.toordinal)\n",
    "\n",
    "# Entrenar modelo\n",
    "X = df_fechas[[\"Fecha Ord\"]]\n",
    "y = df_fechas[\"Costo Real\"]\n",
    "modelo = LinearRegression()\n",
    "modelo.fit(X, y)\n",
    "\n",
    "# Predecir costos para los próximos 6 meses\n",
    "import datetime\n",
    "fechas_futuras = [datetime.date.today() + datetime.timedelta(days=30*i) for i in range(1, 7)]\n",
    "fechas_ord = np.array([f.toordinal() for f in fechas_futuras]).reshape(-1, 1)\n",
    "costos_predichos = modelo.predict(fechas_ord)\n",
    "\n",
    "# Mostrar predicciones\n",
    "for fecha, pred in zip(fechas_futuras, costos_predichos):\n",
    "    print(f\"{fecha}: ${pred:,.0f}\")"
   ]
  },
  {
   "cell_type": "code",
   "execution_count": 8,
   "id": "564fe7fe",
   "metadata": {},
   "outputs": [
    {
     "name": "stdout",
     "output_type": "stream",
     "text": [
      "                      Costo Presupuestado  Costo Real  Desviación Absoluta  \\\n",
      "Nombre Proyecto                                                              \n",
      "Proyecto Santa Rosa            1693055333  3389636859           1696581526   \n",
      "Proyecto Vitacura              1326254041  2194724350            868470309   \n",
      "Proyecto Aurora                2780556564  4189838682           1409282118   \n",
      "Proyecto Puente Alto           2327529361  3450841963           1123312602   \n",
      "Proyecto Providencia           4574022921  5085425301            511402380   \n",
      "\n",
      "                      Desviación %  \n",
      "Nombre Proyecto                     \n",
      "Proyecto Santa Rosa     100.208274  \n",
      "Proyecto Vitacura        65.482953  \n",
      "Proyecto Aurora          50.683454  \n",
      "Proyecto Puente Alto     48.262016  \n",
      "Proyecto Providencia     11.180582  \n"
     ]
    },
    {
     "data": {
      "image/png": "[encoded data removed]",
      "text/plain": [
       "<Figure size 1200x600 with 1 Axes>"
      ]
     },
     "metadata": {},
     "output_type": "display_data"
    }
   ],
   "source": [
    "import matplotlib.pyplot as plt\n",
    "\n",
    "# Agrupación por proyecto\n",
    "df_costos = df.groupby(\"Nombre Proyecto\")[[\"Costo Presupuestado\", \"Costo Real\"]].sum()\n",
    "df_costos[\"Desviación Absoluta\"] = df_costos[\"Costo Real\"] - df_costos[\"Costo Presupuestado\"]\n",
    "df_costos[\"Desviación %\"] = (df_costos[\"Desviación Absoluta\"] / df_costos[\"Costo Presupuestado\"]) * 100\n",
    "\n",
    "# Mostrar principales desviaciones\n",
    "print(df_costos.sort_values(by=\"Desviación %\", ascending=False).head())\n",
    "\n",
    "# Visualización\n",
    "df_costos[[\"Costo Presupuestado\", \"Costo Real\"]].plot(kind=\"bar\", figsize=(12,6), title=\"Presupuesto vs Costo Real\")\n",
    "plt.ylabel(\"Costo en CLP\")\n",
    "plt.tight_layout()\n",
    "plt.show()"
   ]
  },
  {
   "cell_type": "code",
   "execution_count": 9,
   "id": "bb91abe2",
   "metadata": {},
   "outputs": [
    {
     "name": "stderr",
     "output_type": "stream",
     "text": [
      "C:\\Users\\Axel\\AppData\\Local\\Temp\\ipykernel_23124\\1145425175.py:4: SettingWithCopyWarning:\n",
      "\n",
      "\n",
      "A value is trying to be set on a copy of a slice from a DataFrame.\n",
      "Try using .loc[row_indexer,col_indexer] = value instead\n",
      "\n",
      "See the caveats in the documentation: https://pandas.pydata.org/pandas-docs/stable/user_guide/indexing.html#returning-a-view-versus-a-copy\n",
      "\n",
      "C:\\Users\\Axel\\AppData\\Local\\Temp\\ipykernel_23124\\1145425175.py:5: SettingWithCopyWarning:\n",
      "\n",
      "\n",
      "A value is trying to be set on a copy of a slice from a DataFrame.\n",
      "Try using .loc[row_indexer,col_indexer] = value instead\n",
      "\n",
      "See the caveats in the documentation: https://pandas.pydata.org/pandas-docs/stable/user_guide/indexing.html#returning-a-view-versus-a-copy\n",
      "\n"
     ]
    },
    {
     "data": {
      "image/png": "[encoded data removed]",
      "text/plain": [
       "<Figure size 1200x600 with 1 Axes>"
      ]
     },
     "metadata": {},
     "output_type": "display_data"
    }
   ],
   "source": [
    "# Filtrar columnas necesarias\n",
    "materiales_df = df[[\"Nombre Material\", \"Cantidad Utilizada\", \"Cantidad Comprada\"]]\n",
    "# Convertir a tipo numérico\n",
    "materiales_df[\"Cantidad Utilizada\"] = pd.to_numeric(materiales_df[\"Cantidad Utilizada\"], errors='coerce')\n",
    "materiales_df[\"Cantidad Comprada\"] = pd.to_numeric(materiales_df[\"Cantidad Comprada\"], errors='coerce')\n",
    "# Eliminar filas con valores NaN\n",
    "materiales_df = materiales_df.dropna()\n",
    "# Calcular desperdicio\n",
    "materiales_df[\"Desperdicio\"] = materiales_df[\"Cantidad Comprada\"] - materiales_df[\"Cantidad Utilizada\"]\n",
    "# Agrupar por tipo de material\n",
    "materiales_agrupados = materiales_df.groupby(\"Nombre Material\").sum().sort_values(\"Desperdicio\", ascending=False)\n",
    "# Visualizar uso vs comprado\n",
    "materiales_agrupados[[\"Cantidad Utilizada\", \"Cantidad Comprada\"]].plot(\n",
    "    kind=\"bar\", figsize=(12,6), title=\"Uso de Materiales vs Cantidad Comprada\")\n",
    "plt.ylabel(\"Cantidad\")\n",
    "plt.grid(True)\n",
    "plt.tight_layout()\n",
    "plt.show()"
   ]
  },
  {
   "cell_type": "code",
   "execution_count": 10,
   "id": "a8927f72",
   "metadata": {},
   "outputs": [
    {
     "name": "stdout",
     "output_type": "stream",
     "text": [
      "🔎 Top 10 materiales más desperdiciados por proyecto:\n",
      "           Nombre Proyecto Nombre Material  Desperdicio Material\n",
      "33    Proyecto Providencia        Ceramica                  2708\n",
      "7   Proyecto Independencia           Arena                  2652\n",
      "28        Proyecto Mapocho        Ceramica                  2140\n",
      "20          Proyecto Macul        Cableado                  2008\n",
      "10  Proyecto Independencia        Ceramica                  1965\n",
      "24        Proyecto Mapocho           Acero                  1760\n",
      "8   Proyecto Independencia        Cableado                  1677\n",
      "43       Proyecto Recoleta         Cemento                  1450\n",
      "54       Proyecto Vitacura        Cableado                  1434\n",
      "40       Proyecto Recoleta           Acero                  1378\n"
     ]
    },
    {
     "name": "stderr",
     "output_type": "stream",
     "text": [
      "C:\\Users\\Axel\\AppData\\Local\\Temp\\ipykernel_23124\\400909183.py:19: UserWarning:\n",
      "\n",
      "Glyph 128230 (\\N{PACKAGE}) missing from font(s) DejaVu Sans.\n",
      "\n",
      "C:\\Users\\Axel\\AppData\\Roaming\\Python\\Python313\\site-packages\\IPython\\core\\pylabtools.py:170: UserWarning:\n",
      "\n",
      "Glyph 128230 (\\N{PACKAGE}) missing from font(s) DejaVu Sans.\n",
      "\n"
     ]
    },
    {
     "data": {
      "image/png": "[encoded data removed]",
      "text/plain": [
       "<Figure size 1200x600 with 1 Axes>"
      ]
     },
     "metadata": {},
     "output_type": "display_data"
    }
   ],
   "source": [
    "# Calcular desperdicio de materiales\n",
    "df['Desperdicio Material'] = df['Cantidad Comprada'] - df['Cantidad Utilizada']\n",
    "# Agrupar por nombre de proyecto y nombre de material\n",
    "desperdicio_por_proyecto = df.groupby(['Nombre Proyecto', 'Nombre Material'])['Desperdicio Material'].sum().reset_index()\n",
    "# Ordenar por mayor desperdicio\n",
    "desperdicio_ordenado = desperdicio_por_proyecto.sort_values(by='Desperdicio Material', ascending=False)\n",
    "# Mostrar los 10 materiales con mayor desperdicio por proyecto\n",
    "print(\"🔎 Top 10 materiales más desperdiciados por proyecto:\")\n",
    "print(desperdicio_ordenado.head(10))\n",
    "# Visualización: desperdicio total por nombre de proyecto\n",
    "total_desp_por_proyecto = desperdicio_por_proyecto.groupby('Nombre Proyecto')['Desperdicio Material'].sum().sort_values(ascending=False)\n",
    "# Plot\n",
    "plt.figure(figsize=(12, 6))\n",
    "total_desp_por_proyecto.plot(kind='bar', color='green')\n",
    "plt.title(\"📦 Desperdicio Total de Material por Proyecto\")\n",
    "plt.ylabel(\"Unidades Desperdiciadas\")\n",
    "plt.xlabel(\"Nombre Proyecto\")\n",
    "plt.xticks(rotation=45)\n",
    "plt.tight_layout()\n",
    "plt.grid(axis='y')\n",
    "plt.show()\n"
   ]
  },
  {
   "cell_type": "code",
   "execution_count": 11,
   "id": "81701996",
   "metadata": {},
   "outputs": [
    {
     "data": {
      "image/png": "[encoded data removed]",
      "text/plain": [
       "<Figure size 1200x600 with 1 Axes>"
      ]
     },
     "metadata": {},
     "output_type": "display_data"
    }
   ],
   "source": [
    "import seaborn as sns\n",
    "\n",
    "# Asegurarse que estén estas columnas en el archivo\n",
    "personal_df = df[[\"Nombre Proyecto\", \"Nombre Trabajador\", \"Rol\", \"Horas Laborales\", \"Horas Trabajadas\"]].dropna()\n",
    "\n",
    "# Calcular desviación de horas\n",
    "personal_df[\"Desviación Horas\"] = personal_df[\"Horas Laborales\"] - personal_df[\"Horas Trabajadas\"]\n",
    "\n",
    "# Agrupar por proyecto y cargo\n",
    "asignacion = personal_df.groupby([\"Nombre Proyecto\", \"Rol\"]).agg({\n",
    "    \"Nombre Trabajador\": \"count\",\n",
    "    \"Horas Laborales\": \"sum\",\n",
    "    \"Horas Trabajadas\": \"sum\",\n",
    "    \"Desviación Horas\": \"sum\"\n",
    "}).rename(columns={\"Nombre Trabajador\": \"Cantidad Trabajadores\"}).reset_index()\n",
    "\n",
    "# Visualizar desviación por proyecto\n",
    "plt.figure(figsize=(12,6))\n",
    "sns.barplot(data=asignacion, x=\"Nombre Proyecto\", y=\"Desviación Horas\", hue=\"Rol\")\n",
    "plt.title(\"Desviación de Horas por Proyecto y Cargo\")\n",
    "plt.xticks(rotation=45)\n",
    "plt.tight_layout()\n",
    "plt.grid(True)\n",
    "plt.show()"
   ]
  },
  {
   "cell_type": "code",
   "execution_count": 12,
   "id": "0473b600",
   "metadata": {},
   "outputs": [
    {
     "name": "stderr",
     "output_type": "stream",
     "text": [
      "C:\\Users\\Axel\\AppData\\Local\\Temp\\ipykernel_23124\\948016454.py:15: FutureWarning:\n",
      "\n",
      "\n",
      "\n",
      "Passing `palette` without assigning `hue` is deprecated and will be removed in v0.14.0. Assign the `y` variable to `hue` and set `legend=False` for the same effect.\n",
      "\n",
      "\n"
     ]
    },
    {
     "data": {
      "image/png": "[encoded data removed]",
      "text/plain": [
       "<Figure size 1000x600 with 1 Axes>"
      ]
     },
     "metadata": {},
     "output_type": "display_data"
    },
    {
     "name": "stderr",
     "output_type": "stream",
     "text": [
      "C:\\Users\\Axel\\AppData\\Local\\Temp\\ipykernel_23124\\948016454.py:45: FutureWarning:\n",
      "\n",
      "\n",
      "\n",
      "Passing `palette` without assigning `hue` is deprecated and will be removed in v0.14.0. Assign the `y` variable to `hue` and set `legend=False` for the same effect.\n",
      "\n",
      "\n"
     ]
    },
    {
     "name": "stdout",
     "output_type": "stream",
     "text": [
      "\n",
      "📌 Fases con menor productividad (cuellos de botella):\n",
      "fase obra\n",
      "Instalaciones    0.656454\n",
      "Terminaciones    0.675077\n",
      "Cimentacion      0.705526\n",
      "Name: productividad, dtype: float64\n",
      "\n",
      "🔍 Se identificaron 200 cuellos de botella registrados:\n",
      "       fase obra id cuello botella descripcion problema\n",
      "0    Cimentacion           CBT-001   Problema logistica\n",
      "1    Cimentacion           CBT-002         Sin problema\n",
      "2  Terminaciones           CBT-003       Demora externa\n",
      "3    Cimentacion           CBT-004       Demora externa\n",
      "4  Instalaciones           CBT-005       Demora externa\n"
     ]
    },
    {
     "data": {
      "image/png": "[encoded data removed]",
      "text/plain": [
       "<Figure size 1000x600 with 1 Axes>"
      ]
     },
     "metadata": {},
     "output_type": "display_data"
    },
    {
     "name": "stdout",
     "output_type": "stream",
     "text": [
      "\n",
      "⚠️ Fases con mayor pérdida de tiempo:\n",
      "fase obra\n",
      "Cimentacion      0.872356\n",
      "Instalaciones    0.872588\n",
      "Terminaciones    0.886220\n",
      "Name: eficiencia_tiempo, dtype: float64\n"
     ]
    }
   ],
   "source": [
    "# Normalizar nombres de columnas\n",
    "df.columns = df.columns.str.strip().str.lower()\n",
    "\n",
    "# --- 1. Seguimiento de la productividad por fase de obra ---\n",
    "\n",
    "# Verificamos las columnas necesarias\n",
    "if {'fase obra', 'horas trabajadas', 'horas laborales', 'rendimiento equipo'}.issubset(df.columns):\n",
    "\n",
    "    # Productividad por fase: (horas trabajadas / horas laborales)\n",
    "    df['productividad'] = df['horas trabajadas'] / df['horas laborales']\n",
    "    \n",
    "    productividad_fase = df.groupby('fase obra')['productividad'].mean().sort_values()\n",
    "\n",
    "    plt.figure(figsize=(10, 6))\n",
    "    sns.barplot(x=productividad_fase.values, y=productividad_fase.index, palette='coolwarm')\n",
    "    plt.title(\"Productividad promedio por fase de obra\")\n",
    "    plt.xlabel(\"Productividad (horas trabajadas / horas laborales)\")\n",
    "    plt.ylabel(\"Fase de obra\")\n",
    "    plt.tight_layout()\n",
    "    plt.show()\n",
    "\n",
    "    print(\"\\n📌 Fases con menor productividad (cuellos de botella):\")\n",
    "    print(productividad_fase.head(3))\n",
    "else:\n",
    "    print(\"Faltan columnas necesarias para calcular productividad por fase.\")\n",
    "\n",
    "# --- 2. Identificación de cuellos de botella según registros específicos ---\n",
    "\n",
    "if 'id cuello botella' in df.columns and 'descripcion problema' in df.columns:\n",
    "    cuellos = df[['fase obra', 'id cuello botella', 'descripcion problema']].dropna().drop_duplicates()\n",
    "\n",
    "    print(f\"\\n🔍 Se identificaron {cuellos.shape[0]} cuellos de botella registrados:\")\n",
    "    print(cuellos.head(5))\n",
    "else:\n",
    "    print(\"No se encontraron columnas de cuellos de botella para análisis específico.\")\n",
    "\n",
    "# --- 3. Eficiencia y pérdidas de tiempo ---\n",
    "\n",
    "if 'horas laborales' in df.columns and 'horas perdidas' in df.columns:\n",
    "    df['eficiencia_tiempo'] = 1 - (df['horas perdidas'] / df['horas laborales'])\n",
    "\n",
    "    eficiencia_por_fase = df.groupby('fase obra')['eficiencia_tiempo'].mean().sort_values()\n",
    "\n",
    "    plt.figure(figsize=(10, 6))\n",
    "    sns.barplot(x=eficiencia_por_fase.values, y=eficiencia_por_fase.index, palette='YlGnBu')\n",
    "    plt.title(\"Eficiencia de uso del tiempo por fase\")\n",
    "    plt.xlabel(\"Eficiencia (1 - Horas perdidas / Horas laborales)\")\n",
    "    plt.ylabel(\"Fase de obra\")\n",
    "    plt.tight_layout()\n",
    "    plt.show()\n",
    "\n",
    "    print(\"\\n⚠️ Fases con mayor pérdida de tiempo:\")\n",
    "    print(eficiencia_por_fase.head(3))\n",
    "else:\n",
    "    print(\"No se puede calcular eficiencia de tiempo. Columnas 'horas laborales' o 'horas perdidas' no existen.\")\n"
   ]
  },
  {
   "cell_type": "markdown",
   "id": "efb06402",
   "metadata": {},
   "source": [
    "Interpretación:\n",
    "\n",
    "¿Qué mide la eficiencia del tiempo?\n",
    "\n",
    "La métrica eficiencia_tiempo = 1 - (horas perdidas / horas laborales) representa la proporción del tiempo laboral que fue efectivamente utilizado.\n",
    "\n",
    "Por ejemplo, un valor de 0.87 significa que el 87% del tiempo fue útil, y el 13% se perdió por diversos motivos (esperas, mal uso de recursos, problemas logísticos, etc.).\n",
    "\n",
    "📌 Análisis por fase:\n",
    "Fase de Obra\tEficiencia (%)\tTiempo Perdido (%)\tInterpretación\n",
    "Cimentación\t87.24%\t12.76%\tAlta pérdida de tiempo para una fase crítica inicial. Puede deberse a atrasos logísticos, mal clima, fallos de planificación o disponibilidad de materiales.\n",
    "Instalaciones\t87.26%\t12.74%\tSimilar a cimentación, esta etapa intermedia está perdiendo más de 12% del tiempo. Puede deberse a errores de coordinación entre equipos (electricidad, sanitarios, etc.).\n",
    "Terminaciones\t88.62%\t11.38%\tAunque algo mejor que las anteriores, sigue teniendo una pérdida relevante. A menudo las terminaciones se atrasan por dependencia de tareas anteriores no completadas o falta de insumos específicos.\n",
    "🛠️ Recomendaciones:\n",
    "\n",
    "Cimentación:\n",
    "\n",
    "Revisar logística de entrega de materiales pesados.\n",
    "\n",
    "Analizar interferencias por clima o problemas en la excavación.\n",
    "\n",
    "Evaluar si la maquinaria o el personal estaba disponible en los tiempos requeridos.\n",
    "\n",
    "Instalaciones:\n",
    "\n",
    "Mejorar la coordinación entre disciplinas (gas, electricidad, sanitario).\n",
    "\n",
    "Verificar si existen conflictos en planos o rediseños constantes.\n",
    "\n",
    "Implementar mayor supervisión y control de tiempos.\n",
    "\n",
    "Terminaciones:\n",
    "\n",
    "Revisar cuellos de botella de materiales de terminación (acabados, pinturas, etc.).\n",
    "\n",
    "Analizar si se están haciendo reprocesos por errores en fases anteriores.\n",
    "\n",
    "✅ Conclusión:\n",
    "\n",
    "Las tres fases con mayor pérdida de tiempo concentran entre un 11% y 13% de ineficiencia, lo cual puede significar semanas de retraso acumulado en un proyecto completo si no se toman acciones correctivas."
   ]
  },
  {
   "cell_type": "code",
   "execution_count": 13,
   "id": "78c36820",
   "metadata": {},
   "outputs": [
    {
     "name": "stdout",
     "output_type": "stream",
     "text": [
      "Frecuencia de accidentes:\n",
      "Accidente\n",
      "1    200\n",
      "Name: count, dtype: int64\n",
      "\n",
      "Partes del cuerpo más afectadas:\n",
      "Parte Afectada\n",
      "Ninguna    62\n",
      "Brazo      54\n",
      "Pierna     44\n",
      "Cabeza     40\n",
      "Name: count, dtype: int64\n",
      "\n",
      "Promedio de días de incapacidad en accidentes:\n",
      "14.78\n"
     ]
    },
    {
     "data": {
      "image/png": "[encoded data removed]",
      "text/plain": [
       "<Figure size 800x500 with 1 Axes>"
      ]
     },
     "metadata": {},
     "output_type": "display_data"
    },
    {
     "name": "stdout",
     "output_type": "stream",
     "text": [
      "\n",
      "Reporte de clasificación:\n",
      "              precision    recall  f1-score   support\n",
      "\n",
      "           1       1.00      1.00      1.00        40\n",
      "\n",
      "    accuracy                           1.00        40\n",
      "   macro avg       1.00      1.00      1.00        40\n",
      "weighted avg       1.00      1.00      1.00        40\n",
      "\n",
      "\n",
      "Matriz de confusión:\n",
      "[[40]]\n",
      "\n",
      "Importancia de variables en la predicción de accidentes:\n",
      "Parte Afectada      0.0\n",
      "Dias Incapacidad    0.0\n",
      "Hospitalizacion     0.0\n",
      "dtype: float64\n"
     ]
    },
    {
     "name": "stderr",
     "output_type": "stream",
     "text": [
      "c:\\Users\\Axel\\AppData\\Local\\Programs\\Python\\Python313\\Lib\\site-packages\\sklearn\\metrics\\_classification.py:407: UserWarning:\n",
      "\n",
      "A single label was found in 'y_true' and 'y_pred'. For the confusion matrix to have the correct shape, use the 'labels' parameter to pass all known labels.\n",
      "\n"
     ]
    }
   ],
   "source": [
    "import pandas as pd\n",
    "import numpy as np\n",
    "import matplotlib.pyplot as plt\n",
    "import seaborn as sns\n",
    "from sklearn.model_selection import train_test_split\n",
    "from sklearn.preprocessing import LabelEncoder\n",
    "from sklearn.ensemble import RandomForestClassifier\n",
    "from sklearn.metrics import classification_report, confusion_matrix\n",
    "\n",
    "# 1. Cargar datos\n",
    "df = pd.read_excel(\"datos_constructora.xlsx\")\n",
    "\n",
    "# 2. Crear variable binaria 'Accidente'\n",
    "df['Accidente'] = df['Fecha Accidente'].notna().astype(int)\n",
    "\n",
    "# 3. Limpiar datos\n",
    "# Convertir días de incapacidad a numérico\n",
    "df['Dias Incapacidad'] = pd.to_numeric(df['Dias Incapacidad'], errors='coerce').fillna(0)\n",
    "\n",
    "# Rellenar valores nulos en columnas categóricas\n",
    "cat_cols = ['Parte Afectada', 'Hospitalizacion']\n",
    "for col in cat_cols:\n",
    "    df[col] = df[col].fillna(\"No Especificado\")\n",
    "\n",
    "# 4. Análisis descriptivo\n",
    "print(\"Frecuencia de accidentes:\")\n",
    "print(df['Accidente'].value_counts())\n",
    "\n",
    "print(\"\\nPartes del cuerpo más afectadas:\")\n",
    "print(df['Parte Afectada'].value_counts())\n",
    "\n",
    "print(\"\\nPromedio de días de incapacidad en accidentes:\")\n",
    "print(df.loc[df['Accidente'] == 1, 'Dias Incapacidad'].mean())\n",
    "\n",
    "# Visualización: Accidentes por parte afectada\n",
    "plt.figure(figsize=(8,5))\n",
    "sns.countplot(data=df[df['Accidente']==1], x='Parte Afectada', order=df['Parte Afectada'].value_counts().index)\n",
    "plt.xticks(rotation=45)\n",
    "plt.title(\"Accidentes por parte del cuerpo afectada\")\n",
    "plt.tight_layout()\n",
    "plt.show()\n",
    "\n",
    "# 5. Preparar datos para modelo predictivo\n",
    "features = ['Parte Afectada', 'Dias Incapacidad', 'Hospitalizacion']\n",
    "df_model = df[features + ['Accidente']].copy()\n",
    "\n",
    "# Codificar variables categóricas\n",
    "le = LabelEncoder()\n",
    "for col in ['Parte Afectada', 'Hospitalizacion']:\n",
    "    df_model[col] = le.fit_transform(df_model[col])\n",
    "\n",
    "# Variables X e y\n",
    "X = df_model[features]\n",
    "y = df_model['Accidente']\n",
    "\n",
    "# Entrenar modelo\n",
    "X_train, X_test, y_train, y_test = train_test_split(X, y, test_size=0.2, random_state=42)\n",
    "clf = RandomForestClassifier(random_state=42)\n",
    "clf.fit(X_train, y_train)\n",
    "\n",
    "# Predicciones\n",
    "y_pred = clf.predict(X_test)\n",
    "\n",
    "print(\"\\nReporte de clasificación:\")\n",
    "print(classification_report(y_test, y_pred))\n",
    "print(\"\\nMatriz de confusión:\")\n",
    "print(confusion_matrix(y_test, y_pred))\n",
    "\n",
    "# Importancia de variables\n",
    "importances = pd.Series(clf.feature_importances_, index=features).sort_values(ascending=False)\n",
    "print(\"\\nImportancia de variables en la predicción de accidentes:\")\n",
    "print(importances)\n"
   ]
  },
  {
   "cell_type": "code",
   "execution_count": 14,
   "id": "d0aa01f0",
   "metadata": {},
   "outputs": [
    {
     "name": "stdout",
     "output_type": "stream",
     "text": [
      "\n",
      "===== MONITOREO DE SEGURIDAD =====\n",
      "Accidente\n",
      "1    100.0\n",
      "Name: proportion, dtype: float64\n"
     ]
    },
    {
     "data": {
      "image/png": "[encoded data removed]",
      "text/plain": [
       "<Figure size 600x400 with 1 Axes>"
      ]
     },
     "metadata": {},
     "output_type": "display_data"
    },
    {
     "data": {
      "image/png": "[encoded data removed]",
      "text/plain": [
       "<Figure size 600x400 with 1 Axes>"
      ]
     },
     "metadata": {},
     "output_type": "display_data"
    },
    {
     "name": "stdout",
     "output_type": "stream",
     "text": [
      "\n",
      "⚠ No hay suficientes clases para entrenar un modelo.\n"
     ]
    }
   ],
   "source": [
    "# ================================================\n",
    "# ANÁLISIS DE SEGURIDAD Y PREDICCIÓN DE ACCIDENTES\n",
    "# ================================================\n",
    "import pandas as pd\n",
    "import numpy as np\n",
    "import matplotlib.pyplot as plt\n",
    "import seaborn as sns\n",
    "from sklearn.model_selection import train_test_split\n",
    "from sklearn.ensemble import RandomForestClassifier\n",
    "from sklearn.preprocessing import OneHotEncoder\n",
    "from sklearn.compose import ColumnTransformer\n",
    "from sklearn.pipeline import Pipeline\n",
    "from sklearn.metrics import classification_report\n",
    "\n",
    "# --- 1. Cargar datos ---\n",
    "df = pd.read_excel(\"datos_constructora.xlsx\")\n",
    "\n",
    "# --- 2. Crear variable objetivo ---\n",
    "df['Accidente'] = np.where(df['Fecha Accidente'].notna(), 1, 0)\n",
    "\n",
    "# --- 3. Monitoreo de seguridad ---\n",
    "print(\"\\n===== MONITOREO DE SEGURIDAD =====\")\n",
    "print(df['Accidente'].value_counts(normalize=True) * 100)\n",
    "\n",
    "# Accidentes por tipo\n",
    "if 'Tipo Incidente' in df.columns:\n",
    "    plt.figure(figsize=(6,4))\n",
    "    sns.countplot(data=df[df['Accidente']==1], x='Tipo Incidente', order=df['Tipo Incidente'].value_counts().index)\n",
    "    plt.xticks(rotation=45)\n",
    "    plt.title(\"Distribución de accidentes por tipo\")\n",
    "    plt.show()\n",
    "\n",
    "# Accidentes por fase\n",
    "if 'Fase Obra' in df.columns:\n",
    "    plt.figure(figsize=(6,4))\n",
    "    sns.countplot(data=df[df['Accidente']==1], x='Fase Obra', order=df['Fase Obra'].value_counts().index)\n",
    "    plt.xticks(rotation=45)\n",
    "    plt.title(\"Accidentes por fase de obra\")\n",
    "    plt.show()\n",
    "\n",
    "# --- 4. Preparar datos para predicción ---\n",
    "features = [\n",
    "    'Fase Obra', 'Estado Proyecto', 'Rendimiento Equipo', 'Retrasos',\n",
    "    'Horas Laborales', 'Horas Perdidas',\n",
    "    'Lluvia (mm)', 'Temperatura (°C)', 'Viento (km/h)',\n",
    "    'Uso EPP', 'Capacitaciones Realizadas', 'Resultado Inspeccion'\n",
    "]\n",
    "\n",
    "df_modelo = df[features + ['Accidente']].dropna()\n",
    "\n",
    "X = df_modelo[features]\n",
    "y = df_modelo['Accidente']\n",
    "\n",
    "cat_cols = X.select_dtypes(include=['object']).columns.tolist()\n",
    "num_cols = X.select_dtypes(include=['int64', 'float64']).columns.tolist()\n",
    "\n",
    "preprocesador = ColumnTransformer([\n",
    "    ('cat', OneHotEncoder(handle_unknown='ignore', sparse_output=False), cat_cols),\n",
    "    ('num', 'passthrough', num_cols)\n",
    "])\n",
    "\n",
    "modelo_seguridad = Pipeline(steps=[\n",
    "    ('preprocesamiento', preprocesador),\n",
    "    ('clasificador', RandomForestClassifier(n_estimators=200, random_state=42))\n",
    "])\n",
    "\n",
    "# --- 5. Entrenar y evaluar ---\n",
    "if y.nunique() > 1:\n",
    "    X_train, X_test, y_train, y_test = train_test_split(X, y, test_size=0.2, random_state=42)\n",
    "    modelo_seguridad.fit(X_train, y_train)\n",
    "    \n",
    "    y_pred = modelo_seguridad.predict(X_test)\n",
    "    print(\"\\n===== EVALUACIÓN DEL MODELO =====\")\n",
    "    print(classification_report(y_test, y_pred))\n",
    "    \n",
    "    # Importancia de variables\n",
    "    importancias = modelo_seguridad.named_steps['clasificador'].feature_importances_\n",
    "    columnas_codificadas = modelo_seguridad.named_steps['preprocesamiento'].get_feature_names_out()\n",
    "    importancia_df = pd.DataFrame({'Variable': columnas_codificadas, 'Importancia': importancias})\n",
    "    importancia_df = importancia_df.sort_values(by='Importancia', ascending=False).head(10)\n",
    "    \n",
    "    plt.figure(figsize=(8,5))\n",
    "    sns.barplot(data=importancia_df, x='Importancia', y='Variable')\n",
    "    plt.title(\"Variables más influyentes en accidentes\")\n",
    "    plt.show()\n",
    "    \n",
    "    # Ranking de riesgo por proyecto\n",
    "    df['Riesgo_Predicho'] = modelo_seguridad.predict_proba(df[features].dropna())[:,1]\n",
    "    ranking = df.groupby(['ID Proyecto', 'Nombre Proyecto'])['Riesgo_Predicho'].mean().sort_values(ascending=False).head(5)\n",
    "    print(\"\\n===== TOP 5 PROYECTOS CON MAYOR RIESGO =====\")\n",
    "    print(ranking)\n",
    "\n",
    "else:\n",
    "    print(\"\\n⚠ No hay suficientes clases para entrenar un modelo.\")\n"
   ]
  },
  {
   "cell_type": "code",
   "execution_count": 15,
   "id": "58c83b5f",
   "metadata": {},
   "outputs": [
    {
     "data": {
      "image/png": "[encoded data removed]",
      "text/plain": [
       "<Figure size 1400x1000 with 2 Axes>"
      ]
     },
     "metadata": {},
     "output_type": "display_data"
    }
   ],
   "source": [
    "import pandas as pd\n",
    "import seaborn as sns\n",
    "import matplotlib.pyplot as plt\n",
    "\n",
    "# ==============================\n",
    "# 1. Cargar datos\n",
    "# ==============================\n",
    "# Cambia la ruta del archivo si es necesario\n",
    "df = pd.read_excel(\"datos_constructora.xlsx\")\n",
    "\n",
    "# ==============================\n",
    "# 2. Seleccionar columnas numéricas de interés\n",
    "# ==============================\n",
    "columnas_interes = [\n",
    "    \"Costo Presupuestado\", \"Costo Real\", \"Cantidad Utilizada\", \"Cantidad Comprada\",\n",
    "    \"Horas Trabajadas\", \"Costo Operación\", \"Porcentaje Avance Esperado\",\n",
    "    \"Porcentaje Avance Real\", \"Lluvia (mm)\", \"Temperatura (°C)\", \"Viento (km/h)\",\n",
    "    \"Rendimiento Equipo\", \"Horas Laborales\", \"Horas Perdidas\", \"Dias Incapacidad\",\n",
    "    \"Puntaje Satisfaccion\", \"Consumo Energia (kWh)\", \"Impacto CO2 Estimado\",\n",
    "    \"Puntaje Eficiencia Energetica\"\n",
    "]\n",
    "\n",
    "# Filtrar solo columnas numéricas que existan en el dataset\n",
    "columnas_numericas = [col for col in columnas_interes if col in df.columns]\n",
    "\n",
    "# Convertir a numérico por si hay datos no numéricos\n",
    "df[columnas_numericas] = df[columnas_numericas].apply(pd.to_numeric, errors=\"coerce\")\n",
    "\n",
    "# ==============================\n",
    "# 3. Calcular la matriz de correlaciones\n",
    "# ==============================\n",
    "corr_matrix = df[columnas_numericas].corr()\n",
    "\n",
    "# ==============================\n",
    "# 4. Crear el mapa de calor\n",
    "# ==============================\n",
    "plt.figure(figsize=(14, 10))\n",
    "sns.heatmap(\n",
    "    corr_matrix,\n",
    "    annot=True,      # Muestra valores numéricos\n",
    "    fmt=\".2f\",       # Formato de los números\n",
    "    cmap=\"coolwarm\", # Colores del mapa\n",
    "    center=0,        # Centrar en 0\n",
    "    linewidths=0.5   # Líneas entre celdas\n",
    ")\n",
    "plt.title(\"Mapa de Calor de Correlaciones con Costo Real\", fontsize=16)\n",
    "plt.tight_layout()\n",
    "plt.show()\n"
   ]
  },
  {
   "cell_type": "code",
   "execution_count": 16,
   "id": "f638f4a3",
   "metadata": {},
   "outputs": [
    {
     "name": "stderr",
     "output_type": "stream",
     "text": [
      "C:\\Users\\Axel\\AppData\\Local\\Temp\\ipykernel_23124\\474358473.py:14: FutureWarning:\n",
      "\n",
      "'M' is deprecated and will be removed in a future version, please use 'ME' instead.\n",
      "\n",
      "C:\\Users\\Axel\\AppData\\Local\\Temp\\ipykernel_23124\\474358473.py:20: FutureWarning:\n",
      "\n",
      "'M' is deprecated and will be removed in a future version, please use 'ME' instead.\n",
      "\n"
     ]
    },
    {
     "data": {
      "application/vnd.plotly.v1+json": {
       "config": {
        "plotlyServerURL": "https://plot.ly"
       },
       "data": [
        {
         "coloraxis": "coloraxis",
         "histfunc": "sum",
         "hovertemplate": "Mes=%{x}<br>Nombre Proyecto=%{y}<br>sum of Costo Real=%{z}<extra></extra>",
         "name": "",
         "type": "histogram2d",
         "x": [
          "2023-02",
          "2023-03",
          "2023-12",
          "2024-06",
          "2024-07",
          "2024-08",
          "2024-09",
          "2024-10",
          "2024-11",
          "2025-01",
          "2025-02",
          "2025-03",
          "2025-05",
          "2025-06",
          "2025-08",
          "2025-11",
          "2025-12",
          "2026-01",
          "2026-02",
          "2026-03",
          "2026-05",
          "2026-07",
          "2026-08",
          "2023-01",
          "2023-04",
          "2023-08",
          "2023-09",
          "2023-12",
          "2024-01",
          "2024-08",
          "2024-09",
          "2024-11",
          "2025-01",
          "2025-03",
          "2025-04",
          "2025-06",
          "2025-07",
          "2025-08",
          "2025-09",
          "2025-10",
          "2025-11",
          "2026-01",
          "2026-02",
          "2026-05",
          "2026-09",
          "2023-01",
          "2023-04",
          "2023-05",
          "2023-07",
          "2023-08",
          "2023-09",
          "2023-10",
          "2023-11",
          "2023-12",
          "2024-01",
          "2024-02",
          "2024-05",
          "2024-06",
          "2024-07",
          "2024-08",
          "2024-09",
          "2024-10",
          "2024-11",
          "2024-12",
          "2025-01",
          "2025-02",
          "2025-03",
          "2025-04",
          "2025-05",
          "2025-06",
          "2025-07",
          "2025-08",
          "2025-09",
          "2025-10",
          "2025-11",
          "2025-12",
          "2026-03",
          "2026-04",
          "2026-09",
          "2023-04",
          "2023-05",
          "2023-11",
          "2024-07",
          "2024-09",
          "2024-12",
          "2025-01",
          "2025-02",
          "2025-03",
          "2025-06",
          "2025-10",
          "2025-11",
          "2025-12",
          "2026-01",
          "2026-02",
          "2026-03",
          "2026-04",
          "2026-05",
          "2026-06",
          "2026-07",
          "2026-08",
          "2026-10",
          "2023-01",
          "2023-02",
          "2023-07",
          "2023-09",
          "2023-10",
          "2023-11",
          "2024-02",
          "2024-04",
          "2024-05",
          "2024-08",
          "2024-09",
          "2024-10",
          "2024-11",
          "2024-12",
          "2025-01",
          "2025-02",
          "2025-03",
          "2025-04",
          "2025-06",
          "2025-07",
          "2025-08",
          "2025-09",
          "2025-11",
          "2025-12",
          "2026-01",
          "2026-02",
          "2026-04",
          "2026-07",
          "2026-08",
          "2023-02",
          "2023-03",
          "2023-04",
          "2023-05",
          "2023-06",
          "2023-08",
          "2023-11",
          "2023-12",
          "2024-06",
          "2024-08",
          "2024-09",
          "2024-10",
          "2024-11",
          "2024-12",
          "2025-01",
          "2025-03",
          "2025-04",
          "2025-05",
          "2025-06",
          "2025-07",
          "2025-08",
          "2025-10",
          "2025-12",
          "2026-01",
          "2026-02",
          "2026-03",
          "2026-05",
          "2026-06",
          "2026-08",
          "2026-10",
          "2023-06",
          "2023-07",
          "2023-10",
          "2024-03",
          "2024-05",
          "2024-10",
          "2024-12",
          "2025-02",
          "2025-03",
          "2025-07",
          "2025-10",
          "2025-11",
          "2025-12",
          "2026-03",
          "2026-04",
          "2026-09",
          "2023-02",
          "2023-03",
          "2023-06",
          "2023-12",
          "2024-01",
          "2024-03",
          "2024-06",
          "2024-07",
          "2024-08",
          "2024-10",
          "2024-12",
          "2025-01",
          "2025-02",
          "2025-03",
          "2025-04",
          "2025-05",
          "2025-06",
          "2025-07",
          "2025-11",
          "2025-12",
          "2026-01",
          "2026-03",
          "2026-05",
          "2026-10",
          "2023-01",
          "2023-08",
          "2023-09",
          "2023-10",
          "2024-04",
          "2024-08",
          "2024-09",
          "2024-11",
          "2024-12",
          "2025-02",
          "2025-03",
          "2025-04",
          "2025-05",
          "2025-07",
          "2025-08",
          "2025-09",
          "2025-11",
          "2026-01",
          "2026-06",
          "2023-04",
          "2023-05",
          "2024-02",
          "2024-03",
          "2024-04",
          "2024-06",
          "2024-09",
          "2024-10",
          "2024-11",
          "2024-12",
          "2025-01",
          "2025-02",
          "2025-03",
          "2025-05",
          "2025-06",
          "2025-07",
          "2025-09",
          "2025-10",
          "2025-11"
         ],
         "xaxis": "x",
         "xbingroup": "x",
         "y": [
          "Proyecto Aurora",
          "Proyecto Aurora",
          "Proyecto Aurora",
          "Proyecto Aurora",
          "Proyecto Aurora",
          "Proyecto Aurora",
          "Proyecto Aurora",
          "Proyecto Aurora",
          "Proyecto Aurora",
          "Proyecto Aurora",
          "Proyecto Aurora",
          "Proyecto Aurora",
          "Proyecto Aurora",
          "Proyecto Aurora",
          "Proyecto Aurora",
          "Proyecto Aurora",
          "Proyecto Aurora",
          "Proyecto Aurora",
          "Proyecto Aurora",
          "Proyecto Aurora",
          "Proyecto Aurora",
          "Proyecto Aurora",
          "Proyecto Aurora",
          "Proyecto Independencia",
          "Proyecto Independencia",
          "Proyecto Independencia",
          "Proyecto Independencia",
          "Proyecto Independencia",
          "Proyecto Independencia",
          "Proyecto Independencia",
          "Proyecto Independencia",
          "Proyecto Independencia",
          "Proyecto Independencia",
          "Proyecto Independencia",
          "Proyecto Independencia",
          "Proyecto Independencia",
          "Proyecto Independencia",
          "Proyecto Independencia",
          "Proyecto Independencia",
          "Proyecto Independencia",
          "Proyecto Independencia",
          "Proyecto Independencia",
          "Proyecto Independencia",
          "Proyecto Independencia",
          "Proyecto Independencia",
          "Proyecto La Reina",
          "Proyecto La Reina",
          "Proyecto La Reina",
          "Proyecto La Reina",
          "Proyecto La Reina",
          "Proyecto La Reina",
          "Proyecto La Reina",
          "Proyecto La Reina",
          "Proyecto La Reina",
          "Proyecto La Reina",
          "Proyecto La Reina",
          "Proyecto La Reina",
          "Proyecto La Reina",
          "Proyecto La Reina",
          "Proyecto La Reina",
          "Proyecto La Reina",
          "Proyecto La Reina",
          "Proyecto La Reina",
          "Proyecto La Reina",
          "Proyecto La Reina",
          "Proyecto La Reina",
          "Proyecto La Reina",
          "Proyecto La Reina",
          "Proyecto La Reina",
          "Proyecto La Reina",
          "Proyecto La Reina",
          "Proyecto La Reina",
          "Proyecto La Reina",
          "Proyecto La Reina",
          "Proyecto La Reina",
          "Proyecto La Reina",
          "Proyecto La Reina",
          "Proyecto La Reina",
          "Proyecto La Reina",
          "Proyecto Macul",
          "Proyecto Macul",
          "Proyecto Macul",
          "Proyecto Macul",
          "Proyecto Macul",
          "Proyecto Macul",
          "Proyecto Macul",
          "Proyecto Macul",
          "Proyecto Macul",
          "Proyecto Macul",
          "Proyecto Macul",
          "Proyecto Macul",
          "Proyecto Macul",
          "Proyecto Macul",
          "Proyecto Macul",
          "Proyecto Macul",
          "Proyecto Macul",
          "Proyecto Macul",
          "Proyecto Macul",
          "Proyecto Macul",
          "Proyecto Macul",
          "Proyecto Macul",
          "Proyecto Mapocho",
          "Proyecto Mapocho",
          "Proyecto Mapocho",
          "Proyecto Mapocho",
          "Proyecto Mapocho",
          "Proyecto Mapocho",
          "Proyecto Mapocho",
          "Proyecto Mapocho",
          "Proyecto Mapocho",
          "Proyecto Mapocho",
          "Proyecto Mapocho",
          "Proyecto Mapocho",
          "Proyecto Mapocho",
          "Proyecto Mapocho",
          "Proyecto Mapocho",
          "Proyecto Mapocho",
          "Proyecto Mapocho",
          "Proyecto Mapocho",
          "Proyecto Mapocho",
          "Proyecto Mapocho",
          "Proyecto Mapocho",
          "Proyecto Mapocho",
          "Proyecto Mapocho",
          "Proyecto Mapocho",
          "Proyecto Mapocho",
          "Proyecto Mapocho",
          "Proyecto Mapocho",
          "Proyecto Mapocho",
          "Proyecto Mapocho",
          "Proyecto Providencia",
          "Proyecto Providencia",
          "Proyecto Providencia",
          "Proyecto Providencia",
          "Proyecto Providencia",
          "Proyecto Providencia",
          "Proyecto Providencia",
          "Proyecto Providencia",
          "Proyecto Providencia",
          "Proyecto Providencia",
          "Proyecto Providencia",
          "Proyecto Providencia",
          "Proyecto Providencia",
          "Proyecto Providencia",
          "Proyecto Providencia",
          "Proyecto Providencia",
          "Proyecto Providencia",
          "Proyecto Providencia",
          "Proyecto Providencia",
          "Proyecto Providencia",
          "Proyecto Providencia",
          "Proyecto Providencia",
          "Proyecto Providencia",
          "Proyecto Providencia",
          "Proyecto Providencia",
          "Proyecto Providencia",
          "Proyecto Providencia",
          "Proyecto Providencia",
          "Proyecto Providencia",
          "Proyecto Providencia",
          "Proyecto Puente Alto",
          "Proyecto Puente Alto",
          "Proyecto Puente Alto",
          "Proyecto Puente Alto",
          "Proyecto Puente Alto",
          "Proyecto Puente Alto",
          "Proyecto Puente Alto",
          "Proyecto Puente Alto",
          "Proyecto Puente Alto",
          "Proyecto Puente Alto",
          "Proyecto Puente Alto",
          "Proyecto Puente Alto",
          "Proyecto Puente Alto",
          "Proyecto Puente Alto",
          "Proyecto Puente Alto",
          "Proyecto Puente Alto",
          "Proyecto Recoleta",
          "Proyecto Recoleta",
          "Proyecto Recoleta",
          "Proyecto Recoleta",
          "Proyecto Recoleta",
          "Proyecto Recoleta",
          "Proyecto Recoleta",
          "Proyecto Recoleta",
          "Proyecto Recoleta",
          "Proyecto Recoleta",
          "Proyecto Recoleta",
          "Proyecto Recoleta",
          "Proyecto Recoleta",
          "Proyecto Recoleta",
          "Proyecto Recoleta",
          "Proyecto Recoleta",
          "Proyecto Recoleta",
          "Proyecto Recoleta",
          "Proyecto Recoleta",
          "Proyecto Recoleta",
          "Proyecto Recoleta",
          "Proyecto Recoleta",
          "Proyecto Recoleta",
          "Proyecto Recoleta",
          "Proyecto Santa Rosa",
          "Proyecto Santa Rosa",
          "Proyecto Santa Rosa",
          "Proyecto Santa Rosa",
          "Proyecto Santa Rosa",
          "Proyecto Santa Rosa",
          "Proyecto Santa Rosa",
          "Proyecto Santa Rosa",
          "Proyecto Santa Rosa",
          "Proyecto Santa Rosa",
          "Proyecto Santa Rosa",
          "Proyecto Santa Rosa",
          "Proyecto Santa Rosa",
          "Proyecto Santa Rosa",
          "Proyecto Santa Rosa",
          "Proyecto Santa Rosa",
          "Proyecto Santa Rosa",
          "Proyecto Santa Rosa",
          "Proyecto Santa Rosa",
          "Proyecto Vitacura",
          "Proyecto Vitacura",
          "Proyecto Vitacura",
          "Proyecto Vitacura",
          "Proyecto Vitacura",
          "Proyecto Vitacura",
          "Proyecto Vitacura",
          "Proyecto Vitacura",
          "Proyecto Vitacura",
          "Proyecto Vitacura",
          "Proyecto Vitacura",
          "Proyecto Vitacura",
          "Proyecto Vitacura",
          "Proyecto Vitacura",
          "Proyecto Vitacura",
          "Proyecto Vitacura",
          "Proyecto Vitacura",
          "Proyecto Vitacura",
          "Proyecto Vitacura"
         ],
         "yaxis": "y",
         "ybingroup": "y",
         "z": {
          "bdata": "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",
          "dtype": "f8"
         }
        }
       ],
       "layout": {
        "coloraxis": {
         "colorbar": {
          "title": {
           "text": "Costo Real ($)"
          }
         },
         "colorscale": [
          [
           0,
           "rgb(255,245,240)"
          ],
          [
           0.125,
           "rgb(254,224,210)"
          ],
          [
           0.25,
           "rgb(252,187,161)"
          ],
          [
           0.375,
           "rgb(252,146,114)"
          ],
          [
           0.5,
           "rgb(251,106,74)"
          ],
          [
           0.625,
           "rgb(239,59,44)"
          ],
          [
           0.75,
           "rgb(203,24,29)"
          ],
          [
           0.875,
           "rgb(165,15,21)"
          ],
          [
           1,
           "rgb(103,0,13)"
          ]
         ]
        },
        "legend": {
         "tracegroupgap": 0
        },
        "template": {
         "data": {
          "bar": [
           {
            "error_x": {
             "color": "#2a3f5f"
            },
            "error_y": {
             "color": "#2a3f5f"
            },
            "marker": {
             "line": {
              "color": "#E5ECF6",
              "width": 0.5
             },
             "pattern": {
              "fillmode": "overlay",
              "size": 10,
              "solidity": 0.2
             }
            },
            "type": "bar"
           }
          ],
          "barpolar": [
           {
            "marker": {
             "line": {
              "color": "#E5ECF6",
              "width": 0.5
             },
             "pattern": {
              "fillmode": "overlay",
              "size": 10,
              "solidity": 0.2
             }
            },
            "type": "barpolar"
           }
          ],
          "carpet": [
           {
            "aaxis": {
             "endlinecolor": "#2a3f5f",
             "gridcolor": "white",
             "linecolor": "white",
             "minorgridcolor": "white",
             "startlinecolor": "#2a3f5f"
            },
            "baxis": {
             "endlinecolor": "#2a3f5f",
             "gridcolor": "white",
             "linecolor": "white",
             "minorgridcolor": "white",
             "startlinecolor": "#2a3f5f"
            },
            "type": "carpet"
           }
          ],
          "choropleth": [
           {
            "colorbar": {
             "outlinewidth": 0,
             "ticks": ""
            },
            "type": "choropleth"
           }
          ],
          "contour": [
           {
            "colorbar": {
             "outlinewidth": 0,
             "ticks": ""
            },
            "colorscale": [
             [
              0,
              "#0d0887"
             ],
             [
              0.1111111111111111,
              "#46039f"
             ],
             [
              0.2222222222222222,
              "#7201a8"
             ],
             [
              0.3333333333333333,
              "#9c179e"
             ],
             [
              0.4444444444444444,
              "#bd3786"
             ],
             [
              0.5555555555555556,
              "#d8576b"
             ],
             [
              0.6666666666666666,
              "#ed7953"
             ],
             [
              0.7777777777777778,
              "#fb9f3a"
             ],
             [
              0.8888888888888888,
              "#fdca26"
             ],
             [
              1,
              "#f0f921"
             ]
            ],
            "type": "contour"
           }
          ],
          "contourcarpet": [
           {
            "colorbar": {
             "outlinewidth": 0,
             "ticks": ""
            },
            "type": "contourcarpet"
           }
          ],
          "heatmap": [
           {
            "colorbar": {
             "outlinewidth": 0,
             "ticks": ""
            },
            "colorscale": [
             [
              0,
              "#0d0887"
             ],
             [
              0.1111111111111111,
              "#46039f"
             ],
             [
              0.2222222222222222,
              "#7201a8"
             ],
             [
              0.3333333333333333,
              "#9c179e"
             ],
             [
              0.4444444444444444,
              "#bd3786"
             ],
             [
              0.5555555555555556,
              "#d8576b"
             ],
             [
              0.6666666666666666,
              "#ed7953"
             ],
             [
              0.7777777777777778,
              "#fb9f3a"
             ],
             [
              0.8888888888888888,
              "#fdca26"
             ],
             [
              1,
              "#f0f921"
             ]
            ],
            "type": "heatmap"
           }
          ],
          "histogram": [
           {
            "marker": {
             "pattern": {
              "fillmode": "overlay",
              "size": 10,
              "solidity": 0.2
             }
            },
            "type": "histogram"
           }
          ],
          "histogram2d": [
           {
            "colorbar": {
             "outlinewidth": 0,
             "ticks": ""
            },
            "colorscale": [
             [
              0,
              "#0d0887"
             ],
             [
              0.1111111111111111,
              "#46039f"
             ],
             [
              0.2222222222222222,
              "#7201a8"
             ],
             [
              0.3333333333333333,
              "#9c179e"
             ],
             [
              0.4444444444444444,
              "#bd3786"
             ],
             [
              0.5555555555555556,
              "#d8576b"
             ],
             [
              0.6666666666666666,
              "#ed7953"
             ],
             [
              0.7777777777777778,
              "#fb9f3a"
             ],
             [
              0.8888888888888888,
              "#fdca26"
             ],
             [
              1,
              "#f0f921"
             ]
            ],
            "type": "histogram2d"
           }
          ],
          "histogram2dcontour": [
           {
            "colorbar": {
             "outlinewidth": 0,
             "ticks": ""
            },
            "colorscale": [
             [
              0,
              "#0d0887"
             ],
             [
              0.1111111111111111,
              "#46039f"
             ],
             [
              0.2222222222222222,
              "#7201a8"
             ],
             [
              0.3333333333333333,
              "#9c179e"
             ],
             [
              0.4444444444444444,
              "#bd3786"
             ],
             [
              0.5555555555555556,
              "#d8576b"
             ],
             [
              0.6666666666666666,
              "#ed7953"
             ],
             [
              0.7777777777777778,
              "#fb9f3a"
             ],
             [
              0.8888888888888888,
              "#fdca26"
             ],
             [
              1,
              "#f0f921"
             ]
            ],
            "type": "histogram2dcontour"
           }
          ],
          "mesh3d": [
           {
            "colorbar": {
             "outlinewidth": 0,
             "ticks": ""
            },
            "type": "mesh3d"
           }
          ],
          "parcoords": [
           {
            "line": {
             "colorbar": {
              "outlinewidth": 0,
              "ticks": ""
             }
            },
            "type": "parcoords"
           }
          ],
          "pie": [
           {
            "automargin": true,
            "type": "pie"
           }
          ],
          "scatter": [
           {
            "fillpattern": {
             "fillmode": "overlay",
             "size": 10,
             "solidity": 0.2
            },
            "type": "scatter"
           }
          ],
          "scatter3d": [
           {
            "line": {
             "colorbar": {
              "outlinewidth": 0,
              "ticks": ""
             }
            },
            "marker": {
             "colorbar": {
              "outlinewidth": 0,
              "ticks": ""
             }
            },
            "type": "scatter3d"
           }
          ],
          "scattercarpet": [
           {
            "marker": {
             "colorbar": {
              "outlinewidth": 0,
              "ticks": ""
             }
            },
            "type": "scattercarpet"
           }
          ],
          "scattergeo": [
           {
            "marker": {
             "colorbar": {
              "outlinewidth": 0,
              "ticks": ""
             }
            },
            "type": "scattergeo"
           }
          ],
          "scattergl": [
           {
            "marker": {
             "colorbar": {
              "outlinewidth": 0,
              "ticks": ""
             }
            },
            "type": "scattergl"
           }
          ],
          "scattermap": [
           {
            "marker": {
             "colorbar": {
              "outlinewidth": 0,
              "ticks": ""
             }
            },
            "type": "scattermap"
           }
          ],
          "scattermapbox": [
           {
            "marker": {
             "colorbar": {
              "outlinewidth": 0,
              "ticks": ""
             }
            },
            "type": "scattermapbox"
           }
          ],
          "scatterpolar": [
           {
            "marker": {
             "colorbar": {
              "outlinewidth": 0,
              "ticks": ""
             }
            },
            "type": "scatterpolar"
           }
          ],
          "scatterpolargl": [
           {
            "marker": {
             "colorbar": {
              "outlinewidth": 0,
              "ticks": ""
             }
            },
            "type": "scatterpolargl"
           }
          ],
          "scatterternary": [
           {
            "marker": {
             "colorbar": {
              "outlinewidth": 0,
              "ticks": ""
             }
            },
            "type": "scatterternary"
           }
          ],
          "surface": [
           {
            "colorbar": {
             "outlinewidth": 0,
             "ticks": ""
            },
            "colorscale": [
             [
              0,
              "#0d0887"
             ],
             [
              0.1111111111111111,
              "#46039f"
             ],
             [
              0.2222222222222222,
              "#7201a8"
             ],
             [
              0.3333333333333333,
              "#9c179e"
             ],
             [
              0.4444444444444444,
              "#bd3786"
             ],
             [
              0.5555555555555556,
              "#d8576b"
             ],
             [
              0.6666666666666666,
              "#ed7953"
             ],
             [
              0.7777777777777778,
              "#fb9f3a"
             ],
             [
              0.8888888888888888,
              "#fdca26"
             ],
             [
              1,
              "#f0f921"
             ]
            ],
            "type": "surface"
           }
          ],
          "table": [
           {
            "cells": {
             "fill": {
              "color": "#EBF0F8"
             },
             "line": {
              "color": "white"
             }
            },
            "header": {
             "fill": {
              "color": "#C8D4E3"
             },
             "line": {
              "color": "white"
             }
            },
            "type": "table"
           }
          ]
         },
         "layout": {
          "annotationdefaults": {
           "arrowcolor": "#2a3f5f",
           "arrowhead": 0,
           "arrowwidth": 1
          },
          "autotypenumbers": "strict",
          "coloraxis": {
           "colorbar": {
            "outlinewidth": 0,
            "ticks": ""
           }
          },
          "colorscale": {
           "diverging": [
            [
             0,
             "#8e0152"
            ],
            [
             0.1,
             "#c51b7d"
            ],
            [
             0.2,
             "#de77ae"
            ],
            [
             0.3,
             "#f1b6da"
            ],
            [
             0.4,
             "#fde0ef"
            ],
            [
             0.5,
             "#f7f7f7"
            ],
            [
             0.6,
             "#e6f5d0"
            ],
            [
             0.7,
             "#b8e186"
            ],
            [
             0.8,
             "#7fbc41"
            ],
            [
             0.9,
             "#4d9221"
            ],
            [
             1,
             "#276419"
            ]
           ],
           "sequential": [
            [
             0,
             "#0d0887"
            ],
            [
             0.1111111111111111,
             "#46039f"
            ],
            [
             0.2222222222222222,
             "#7201a8"
            ],
            [
             0.3333333333333333,
             "#9c179e"
            ],
            [
             0.4444444444444444,
             "#bd3786"
            ],
            [
             0.5555555555555556,
             "#d8576b"
            ],
            [
             0.6666666666666666,
             "#ed7953"
            ],
            [
             0.7777777777777778,
             "#fb9f3a"
            ],
            [
             0.8888888888888888,
             "#fdca26"
            ],
            [
             1,
             "#f0f921"
            ]
           ],
           "sequentialminus": [
            [
             0,
             "#0d0887"
            ],
            [
             0.1111111111111111,
             "#46039f"
            ],
            [
             0.2222222222222222,
             "#7201a8"
            ],
            [
             0.3333333333333333,
             "#9c179e"
            ],
            [
             0.4444444444444444,
             "#bd3786"
            ],
            [
             0.5555555555555556,
             "#d8576b"
            ],
            [
             0.6666666666666666,
             "#ed7953"
            ],
            [
             0.7777777777777778,
             "#fb9f3a"
            ],
            [
             0.8888888888888888,
             "#fdca26"
            ],
            [
             1,
             "#f0f921"
            ]
           ]
          },
          "colorway": [
           "#636efa",
           "#EF553B",
           "#00cc96",
           "#ab63fa",
           "#FFA15A",
           "#19d3f3",
           "#FF6692",
           "#B6E880",
           "#FF97FF",
           "#FECB52"
          ],
          "font": {
           "color": "#2a3f5f"
          },
          "geo": {
           "bgcolor": "white",
           "lakecolor": "white",
           "landcolor": "#E5ECF6",
           "showlakes": true,
           "showland": true,
           "subunitcolor": "white"
          },
          "hoverlabel": {
           "align": "left"
          },
          "hovermode": "closest",
          "mapbox": {
           "style": "light"
          },
          "paper_bgcolor": "white",
          "plot_bgcolor": "#E5ECF6",
          "polar": {
           "angularaxis": {
            "gridcolor": "white",
            "linecolor": "white",
            "ticks": ""
           },
           "bgcolor": "#E5ECF6",
           "radialaxis": {
            "gridcolor": "white",
            "linecolor": "white",
            "ticks": ""
           }
          },
          "scene": {
           "xaxis": {
            "backgroundcolor": "#E5ECF6",
            "gridcolor": "white",
            "gridwidth": 2,
            "linecolor": "white",
            "showbackground": true,
            "ticks": "",
            "zerolinecolor": "white"
           },
           "yaxis": {
            "backgroundcolor": "#E5ECF6",
            "gridcolor": "white",
            "gridwidth": 2,
            "linecolor": "white",
            "showbackground": true,
            "ticks": "",
            "zerolinecolor": "white"
           },
           "zaxis": {
            "backgroundcolor": "#E5ECF6",
            "gridcolor": "white",
            "gridwidth": 2,
            "linecolor": "white",
            "showbackground": true,
            "ticks": "",
            "zerolinecolor": "white"
           }
          },
          "shapedefaults": {
           "line": {
            "color": "#2a3f5f"
           }
          },
          "ternary": {
           "aaxis": {
            "gridcolor": "white",
            "linecolor": "white",
            "ticks": ""
           },
           "baxis": {
            "gridcolor": "white",
            "linecolor": "white",
            "ticks": ""
           },
           "bgcolor": "#E5ECF6",
           "caxis": {
            "gridcolor": "white",
            "linecolor": "white",
            "ticks": ""
           }
          },
          "title": {
           "x": 0.05
          },
          "xaxis": {
           "automargin": true,
           "gridcolor": "white",
           "linecolor": "white",
           "ticks": "",
           "title": {
            "standoff": 15
           },
           "zerolinecolor": "white",
           "zerolinewidth": 2
          },
          "yaxis": {
           "automargin": true,
           "gridcolor": "white",
           "linecolor": "white",
           "ticks": "",
           "title": {
            "standoff": 15
           },
           "zerolinecolor": "white",
           "zerolinewidth": 2
          }
         }
        },
        "title": {
         "text": "Mapa de Calor - Costos Reales por Proyecto y Mes"
        },
        "xaxis": {
         "anchor": "y",
         "domain": [
          0,
          1
         ],
         "title": {
          "text": "Mes"
         }
        },
        "yaxis": {
         "anchor": "x",
         "domain": [
          0,
          1
         ],
         "title": {
          "text": "Proyecto"
         }
        }
       }
      }
     },
     "metadata": {},
     "output_type": "display_data"
    },
    {
     "data": {
      "application/vnd.plotly.v1+json": {
       "config": {
        "plotlyServerURL": "https://plot.ly"
       },
       "data": [
        {
         "coloraxis": "coloraxis",
         "histfunc": "sum",
         "hovertemplate": "Mes=%{x}<br>Nombre Proyecto=%{y}<br>sum of Cantidad Incidentes=%{z}<extra></extra>",
         "name": "",
         "type": "histogram2d",
         "x": [
          "2023-02",
          "2023-03",
          "2023-12",
          "2024-06",
          "2024-07",
          "2024-08",
          "2024-09",
          "2024-10",
          "2024-11",
          "2025-01",
          "2025-02",
          "2025-03",
          "2025-05",
          "2025-06",
          "2025-08",
          "2025-11",
          "2025-12",
          "2026-01",
          "2026-02",
          "2026-03",
          "2026-05",
          "2026-07",
          "2026-08",
          "2023-01",
          "2023-04",
          "2023-08",
          "2023-09",
          "2023-12",
          "2024-01",
          "2024-08",
          "2024-09",
          "2024-11",
          "2025-01",
          "2025-03",
          "2025-04",
          "2025-06",
          "2025-07",
          "2025-08",
          "2025-09",
          "2025-10",
          "2025-11",
          "2026-01",
          "2026-02",
          "2026-05",
          "2026-09",
          "2023-01",
          "2023-04",
          "2023-05",
          "2023-07",
          "2023-08",
          "2023-09",
          "2023-10",
          "2023-11",
          "2023-12",
          "2024-01",
          "2024-02",
          "2024-05",
          "2024-06",
          "2024-07",
          "2024-08",
          "2024-09",
          "2024-10",
          "2024-11",
          "2024-12",
          "2025-01",
          "2025-02",
          "2025-03",
          "2025-04",
          "2025-05",
          "2025-06",
          "2025-07",
          "2025-08",
          "2025-09",
          "2025-10",
          "2025-11",
          "2025-12",
          "2026-03",
          "2026-04",
          "2026-09",
          "2023-04",
          "2023-05",
          "2023-11",
          "2024-07",
          "2024-09",
          "2024-12",
          "2025-01",
          "2025-02",
          "2025-03",
          "2025-06",
          "2025-10",
          "2025-11",
          "2025-12",
          "2026-01",
          "2026-02",
          "2026-03",
          "2026-04",
          "2026-05",
          "2026-06",
          "2026-07",
          "2026-08",
          "2026-10",
          "2023-01",
          "2023-02",
          "2023-07",
          "2023-09",
          "2023-10",
          "2023-11",
          "2024-02",
          "2024-04",
          "2024-05",
          "2024-08",
          "2024-09",
          "2024-10",
          "2024-11",
          "2024-12",
          "2025-01",
          "2025-02",
          "2025-03",
          "2025-04",
          "2025-06",
          "2025-07",
          "2025-08",
          "2025-09",
          "2025-11",
          "2025-12",
          "2026-01",
          "2026-02",
          "2026-04",
          "2026-07",
          "2026-08",
          "2023-02",
          "2023-03",
          "2023-04",
          "2023-05",
          "2023-06",
          "2023-08",
          "2023-11",
          "2023-12",
          "2024-06",
          "2024-08",
          "2024-09",
          "2024-10",
          "2024-11",
          "2024-12",
          "2025-01",
          "2025-03",
          "2025-04",
          "2025-05",
          "2025-06",
          "2025-07",
          "2025-08",
          "2025-10",
          "2025-12",
          "2026-01",
          "2026-02",
          "2026-03",
          "2026-05",
          "2026-06",
          "2026-08",
          "2026-10",
          "2023-06",
          "2023-07",
          "2023-10",
          "2024-03",
          "2024-05",
          "2024-10",
          "2024-12",
          "2025-02",
          "2025-03",
          "2025-07",
          "2025-10",
          "2025-11",
          "2025-12",
          "2026-03",
          "2026-04",
          "2026-09",
          "2023-02",
          "2023-03",
          "2023-06",
          "2023-12",
          "2024-01",
          "2024-03",
          "2024-06",
          "2024-07",
          "2024-08",
          "2024-10",
          "2024-12",
          "2025-01",
          "2025-02",
          "2025-03",
          "2025-04",
          "2025-05",
          "2025-06",
          "2025-07",
          "2025-11",
          "2025-12",
          "2026-01",
          "2026-03",
          "2026-05",
          "2026-10",
          "2023-01",
          "2023-08",
          "2023-09",
          "2023-10",
          "2024-04",
          "2024-08",
          "2024-09",
          "2024-11",
          "2024-12",
          "2025-02",
          "2025-03",
          "2025-04",
          "2025-05",
          "2025-07",
          "2025-08",
          "2025-09",
          "2025-11",
          "2026-01",
          "2026-06",
          "2023-04",
          "2023-05",
          "2024-02",
          "2024-03",
          "2024-04",
          "2024-06",
          "2024-09",
          "2024-10",
          "2024-11",
          "2024-12",
          "2025-01",
          "2025-02",
          "2025-03",
          "2025-05",
          "2025-06",
          "2025-07",
          "2025-09",
          "2025-10",
          "2025-11"
         ],
         "xaxis": "x",
         "xbingroup": "x",
         "y": [
          "Proyecto Aurora",
          "Proyecto Aurora",
          "Proyecto Aurora",
          "Proyecto Aurora",
          "Proyecto Aurora",
          "Proyecto Aurora",
          "Proyecto Aurora",
          "Proyecto Aurora",
          "Proyecto Aurora",
          "Proyecto Aurora",
          "Proyecto Aurora",
          "Proyecto Aurora",
          "Proyecto Aurora",
          "Proyecto Aurora",
          "Proyecto Aurora",
          "Proyecto Aurora",
          "Proyecto Aurora",
          "Proyecto Aurora",
          "Proyecto Aurora",
          "Proyecto Aurora",
          "Proyecto Aurora",
          "Proyecto Aurora",
          "Proyecto Aurora",
          "Proyecto Independencia",
          "Proyecto Independencia",
          "Proyecto Independencia",
          "Proyecto Independencia",
          "Proyecto Independencia",
          "Proyecto Independencia",
          "Proyecto Independencia",
          "Proyecto Independencia",
          "Proyecto Independencia",
          "Proyecto Independencia",
          "Proyecto Independencia",
          "Proyecto Independencia",
          "Proyecto Independencia",
          "Proyecto Independencia",
          "Proyecto Independencia",
          "Proyecto Independencia",
          "Proyecto Independencia",
          "Proyecto Independencia",
          "Proyecto Independencia",
          "Proyecto Independencia",
          "Proyecto Independencia",
          "Proyecto Independencia",
          "Proyecto La Reina",
          "Proyecto La Reina",
          "Proyecto La Reina",
          "Proyecto La Reina",
          "Proyecto La Reina",
          "Proyecto La Reina",
          "Proyecto La Reina",
          "Proyecto La Reina",
          "Proyecto La Reina",
          "Proyecto La Reina",
          "Proyecto La Reina",
          "Proyecto La Reina",
          "Proyecto La Reina",
          "Proyecto La Reina",
          "Proyecto La Reina",
          "Proyecto La Reina",
          "Proyecto La Reina",
          "Proyecto La Reina",
          "Proyecto La Reina",
          "Proyecto La Reina",
          "Proyecto La Reina",
          "Proyecto La Reina",
          "Proyecto La Reina",
          "Proyecto La Reina",
          "Proyecto La Reina",
          "Proyecto La Reina",
          "Proyecto La Reina",
          "Proyecto La Reina",
          "Proyecto La Reina",
          "Proyecto La Reina",
          "Proyecto La Reina",
          "Proyecto La Reina",
          "Proyecto La Reina",
          "Proyecto La Reina",
          "Proyecto Macul",
          "Proyecto Macul",
          "Proyecto Macul",
          "Proyecto Macul",
          "Proyecto Macul",
          "Proyecto Macul",
          "Proyecto Macul",
          "Proyecto Macul",
          "Proyecto Macul",
          "Proyecto Macul",
          "Proyecto Macul",
          "Proyecto Macul",
          "Proyecto Macul",
          "Proyecto Macul",
          "Proyecto Macul",
          "Proyecto Macul",
          "Proyecto Macul",
          "Proyecto Macul",
          "Proyecto Macul",
          "Proyecto Macul",
          "Proyecto Macul",
          "Proyecto Macul",
          "Proyecto Mapocho",
          "Proyecto Mapocho",
          "Proyecto Mapocho",
          "Proyecto Mapocho",
          "Proyecto Mapocho",
          "Proyecto Mapocho",
          "Proyecto Mapocho",
          "Proyecto Mapocho",
          "Proyecto Mapocho",
          "Proyecto Mapocho",
          "Proyecto Mapocho",
          "Proyecto Mapocho",
          "Proyecto Mapocho",
          "Proyecto Mapocho",
          "Proyecto Mapocho",
          "Proyecto Mapocho",
          "Proyecto Mapocho",
          "Proyecto Mapocho",
          "Proyecto Mapocho",
          "Proyecto Mapocho",
          "Proyecto Mapocho",
          "Proyecto Mapocho",
          "Proyecto Mapocho",
          "Proyecto Mapocho",
          "Proyecto Mapocho",
          "Proyecto Mapocho",
          "Proyecto Mapocho",
          "Proyecto Mapocho",
          "Proyecto Mapocho",
          "Proyecto Providencia",
          "Proyecto Providencia",
          "Proyecto Providencia",
          "Proyecto Providencia",
          "Proyecto Providencia",
          "Proyecto Providencia",
          "Proyecto Providencia",
          "Proyecto Providencia",
          "Proyecto Providencia",
          "Proyecto Providencia",
          "Proyecto Providencia",
          "Proyecto Providencia",
          "Proyecto Providencia",
          "Proyecto Providencia",
          "Proyecto Providencia",
          "Proyecto Providencia",
          "Proyecto Providencia",
          "Proyecto Providencia",
          "Proyecto Providencia",
          "Proyecto Providencia",
          "Proyecto Providencia",
          "Proyecto Providencia",
          "Proyecto Providencia",
          "Proyecto Providencia",
          "Proyecto Providencia",
          "Proyecto Providencia",
          "Proyecto Providencia",
          "Proyecto Providencia",
          "Proyecto Providencia",
          "Proyecto Providencia",
          "Proyecto Puente Alto",
          "Proyecto Puente Alto",
          "Proyecto Puente Alto",
          "Proyecto Puente Alto",
          "Proyecto Puente Alto",
          "Proyecto Puente Alto",
          "Proyecto Puente Alto",
          "Proyecto Puente Alto",
          "Proyecto Puente Alto",
          "Proyecto Puente Alto",
          "Proyecto Puente Alto",
          "Proyecto Puente Alto",
          "Proyecto Puente Alto",
          "Proyecto Puente Alto",
          "Proyecto Puente Alto",
          "Proyecto Puente Alto",
          "Proyecto Recoleta",
          "Proyecto Recoleta",
          "Proyecto Recoleta",
          "Proyecto Recoleta",
          "Proyecto Recoleta",
          "Proyecto Recoleta",
          "Proyecto Recoleta",
          "Proyecto Recoleta",
          "Proyecto Recoleta",
          "Proyecto Recoleta",
          "Proyecto Recoleta",
          "Proyecto Recoleta",
          "Proyecto Recoleta",
          "Proyecto Recoleta",
          "Proyecto Recoleta",
          "Proyecto Recoleta",
          "Proyecto Recoleta",
          "Proyecto Recoleta",
          "Proyecto Recoleta",
          "Proyecto Recoleta",
          "Proyecto Recoleta",
          "Proyecto Recoleta",
          "Proyecto Recoleta",
          "Proyecto Recoleta",
          "Proyecto Santa Rosa",
          "Proyecto Santa Rosa",
          "Proyecto Santa Rosa",
          "Proyecto Santa Rosa",
          "Proyecto Santa Rosa",
          "Proyecto Santa Rosa",
          "Proyecto Santa Rosa",
          "Proyecto Santa Rosa",
          "Proyecto Santa Rosa",
          "Proyecto Santa Rosa",
          "Proyecto Santa Rosa",
          "Proyecto Santa Rosa",
          "Proyecto Santa Rosa",
          "Proyecto Santa Rosa",
          "Proyecto Santa Rosa",
          "Proyecto Santa Rosa",
          "Proyecto Santa Rosa",
          "Proyecto Santa Rosa",
          "Proyecto Santa Rosa",
          "Proyecto Vitacura",
          "Proyecto Vitacura",
          "Proyecto Vitacura",
          "Proyecto Vitacura",
          "Proyecto Vitacura",
          "Proyecto Vitacura",
          "Proyecto Vitacura",
          "Proyecto Vitacura",
          "Proyecto Vitacura",
          "Proyecto Vitacura",
          "Proyecto Vitacura",
          "Proyecto Vitacura",
          "Proyecto Vitacura",
          "Proyecto Vitacura",
          "Proyecto Vitacura",
          "Proyecto Vitacura",
          "Proyecto Vitacura",
          "Proyecto Vitacura",
          "Proyecto Vitacura"
         ],
         "yaxis": "y",
         "ybingroup": "y",
         "z": {
          "bdata": "AAAAAAAAAAAAAAAAAAAAAAAAAAAAAAAAAAAAAAAAAAAAAAAAAAAAAAAAAAAAAABAAAAAAAAA8D8AAAAAAAAAAAAAAAAAAAAAAAAAAAAA8D8AAAAAAAAAAAAAAAAAAABAAAAAAAAAAEAAAAAAAADwPwAAAAAAAABAAAAAAAAA8D8AAAAAAADwPwAAAAAAAPA/AAAAAAAAAEAAAAAAAAAAAAAAAAAAAAAAAAAAAAAAAAAAAAAAAAAAAAAAAAAAAAAAAAAAAAAAAAAAAAAAAAAAAAAAAAAAAAAAAAAAAAAAAAAAAAAAAAAAAAAAAAAAAPA/AAAAAAAA8D8AAAAAAAAAQAAAAAAAAABAAAAAAAAAAAAAAAAAAAAAAAAAAAAAAAAAAAAAAAAAAEAAAAAAAADwPwAAAAAAABBAAAAAAAAAAEAAAAAAAAAAQAAAAAAAAPA/AAAAAAAA8D8AAAAAAAAAAAAAAAAAAAAAAAAAAAAAAAAAAAAAAAAAAAAAAAAAAAAAAAAAAAAAAAAAAAAAAAAAAAAAAAAAAAAAAAAAAAAAAAAAAAAAAAAAAAAAAAAAAAAAAAAAAAAAAAAAAAAAAAAAAAAAAAAAAAAAAAAAAAAAAAAAAAAAAAAAAAAAAAAAAPA/AAAAAAAAAEAAAAAAAAAAQAAAAAAAAAhAAAAAAAAAAEAAAAAAAAAAQAAAAAAAAAAAAAAAAAAACEAAAAAAAADwPwAAAAAAAABAAAAAAAAA8D8AAAAAAADwPwAAAAAAAAAAAAAAAAAAAEAAAAAAAAAAQAAAAAAAAAAAAAAAAAAAAEAAAAAAAAAAQAAAAAAAAAAAAAAAAAAAAAAAAAAAAAAAAAAAAAAAAAAAAAAAAAAAAAAAAAAAAAAAAAAAAAAAAABAAAAAAAAA8D8AAAAAAAAAAAAAAAAAAAAAAAAAAAAA8D8AAAAAAAAIQAAAAAAAAABAAAAAAAAA8D8AAAAAAADwPwAAAAAAAAhAAAAAAAAACEAAAAAAAAAAQAAAAAAAAAAAAAAAAAAAAAAAAAAAAAAAAAAAAAAAAAAAAAAAAAAAAAAAAAAAAAAAAAAAAAAAAAAAAAAAAAAAAAAAAAAAAAAAAAAAAAAAAAAAAAAAAAAAAAAAAAAAAAAAAAAAAAAAAAAAAAAAAAAAAAAAAAAAAAAAAAAAAAAAAAhAAAAAAAAAAAAAAAAAAAAAQAAAAAAAAPA/AAAAAAAAAEAAAAAAAAAAQAAAAAAAAPA/AAAAAAAA8D8AAAAAAAAIQAAAAAAAAAAAAAAAAAAAAAAAAAAAAAAIQAAAAAAAAABAAAAAAAAAAEAAAAAAAAAAQAAAAAAAAAAAAAAAAAAACEAAAAAAAAAAAAAAAAAAAAAAAAAAAAAAAAAAAAAAAAAAAAAAAAAAAAAAAAAAAAAAAAAAAAAAAAAAAAAAAAAAAAAAAAAAAAAAAAAAAAAAAAAAAAAAAAAAAAAAAAAAAAAAAAAAAAAAAADwPwAAAAAAAAhAAAAAAAAA8D8AAAAAAADwPwAAAAAAAABAAAAAAAAAAAAAAAAAAADwPwAAAAAAAABAAAAAAAAAAAAAAAAAAADwPwAAAAAAAPA/AAAAAAAACEAAAAAAAADwPwAAAAAAAABAAAAAAAAACEAAAAAAAADwPwAAAAAAAPA/AAAAAAAAAAAAAAAAAAAAAAAAAAAAAAAAAAAAAAAAAAAAAAAAAAAAAAAAAAAAAAAAAAAAAAAAAAAAAAAAAAAAAAAAAAAAAAAAAAAAAAAAAEAAAAAAAADwPwAAAAAAAABAAAAAAAAAAAAAAAAAAADwPwAAAAAAAABAAAAAAAAA8D8AAAAAAAAAQAAAAAAAAPA/AAAAAAAAAAAAAAAAAAAAAAAAAAAAAAAAAAAAAAAAAAAAAAAAAAAAAAAAAAAAAAAAAAAAAAAAAAAAAAAAAAAAAAAAAAAAAAAAAAAAAAAAAAAAAAAAAAAAQAAAAAAAAABAAAAAAAAA8D8AAAAAAAAAQAAAAAAAAPA/AAAAAAAA8D8AAAAAAAAAQAAAAAAAAABAAAAAAAAAAEAAAAAAAADwPwAAAAAAAABAAAAAAAAAAAAAAAAAAADwPwAAAAAAAPA/AAAAAAAAAAAAAAAAAAAAAAAAAAAAAAAAAAAAAAAAAAAAAAAAAAAAAAAAAAAAAAAAAAAAAAAAAAAAAAAAAADwPwAAAAAAAAAAAAAAAAAACEAAAAAAAADwPwAAAAAAAABAAAAAAAAAAAAAAAAAAAAAQAAAAAAAAABAAAAAAAAAEEAAAAAAAADwPwAAAAAAAPA/AAAAAAAA8D8AAAAAAADwPwAAAAAAAAAAAAAAAAAAAAAAAAAAAAAAAAAAAAAAAAAAAAAAAAAAAAAAAAAAAAAAAAAAAAAAAAAAAAAAAAAA8D8AAAAAAADwPwAAAAAAAAAAAAAAAAAAAAAAAAAAAAAAQAAAAAAAAAhAAAAAAAAA8D8AAAAAAAAIQAAAAAAAAABAAAAAAAAAAAAAAAAAAADwPwAAAAAAAABAAAAAAAAAAAA=",
          "dtype": "f8"
         }
        }
       ],
       "layout": {
        "coloraxis": {
         "colorbar": {
          "title": {
           "text": "Cantidad de Incidentes"
          }
         },
         "colorscale": [
          [
           0,
           "rgb(247,251,255)"
          ],
          [
           0.125,
           "rgb(222,235,247)"
          ],
          [
           0.25,
           "rgb(198,219,239)"
          ],
          [
           0.375,
           "rgb(158,202,225)"
          ],
          [
           0.5,
           "rgb(107,174,214)"
          ],
          [
           0.625,
           "rgb(66,146,198)"
          ],
          [
           0.75,
           "rgb(33,113,181)"
          ],
          [
           0.875,
           "rgb(8,81,156)"
          ],
          [
           1,
           "rgb(8,48,107)"
          ]
         ]
        },
        "legend": {
         "tracegroupgap": 0
        },
        "template": {
         "data": {
          "bar": [
           {
            "error_x": {
             "color": "#2a3f5f"
            },
            "error_y": {
             "color": "#2a3f5f"
            },
            "marker": {
             "line": {
              "color": "#E5ECF6",
              "width": 0.5
             },
             "pattern": {
              "fillmode": "overlay",
              "size": 10,
              "solidity": 0.2
             }
            },
            "type": "bar"
           }
          ],
          "barpolar": [
           {
            "marker": {
             "line": {
              "color": "#E5ECF6",
              "width": 0.5
             },
             "pattern": {
              "fillmode": "overlay",
              "size": 10,
              "solidity": 0.2
             }
            },
            "type": "barpolar"
           }
          ],
          "carpet": [
           {
            "aaxis": {
             "endlinecolor": "#2a3f5f",
             "gridcolor": "white",
             "linecolor": "white",
             "minorgridcolor": "white",
             "startlinecolor": "#2a3f5f"
            },
            "baxis": {
             "endlinecolor": "#2a3f5f",
             "gridcolor": "white",
             "linecolor": "white",
             "minorgridcolor": "white",
             "startlinecolor": "#2a3f5f"
            },
            "type": "carpet"
           }
          ],
          "choropleth": [
           {
            "colorbar": {
             "outlinewidth": 0,
             "ticks": ""
            },
            "type": "choropleth"
           }
          ],
          "contour": [
           {
            "colorbar": {
             "outlinewidth": 0,
             "ticks": ""
            },
            "colorscale": [
             [
              0,
              "#0d0887"
             ],
             [
              0.1111111111111111,
              "#46039f"
             ],
             [
              0.2222222222222222,
              "#7201a8"
             ],
             [
              0.3333333333333333,
              "#9c179e"
             ],
             [
              0.4444444444444444,
              "#bd3786"
             ],
             [
              0.5555555555555556,
              "#d8576b"
             ],
             [
              0.6666666666666666,
              "#ed7953"
             ],
             [
              0.7777777777777778,
              "#fb9f3a"
             ],
             [
              0.8888888888888888,
              "#fdca26"
             ],
             [
              1,
              "#f0f921"
             ]
            ],
            "type": "contour"
           }
          ],
          "contourcarpet": [
           {
            "colorbar": {
             "outlinewidth": 0,
             "ticks": ""
            },
            "type": "contourcarpet"
           }
          ],
          "heatmap": [
           {
            "colorbar": {
             "outlinewidth": 0,
             "ticks": ""
            },
            "colorscale": [
             [
              0,
              "#0d0887"
             ],
             [
              0.1111111111111111,
              "#46039f"
             ],
             [
              0.2222222222222222,
              "#7201a8"
             ],
             [
              0.3333333333333333,
              "#9c179e"
             ],
             [
              0.4444444444444444,
              "#bd3786"
             ],
             [
              0.5555555555555556,
              "#d8576b"
             ],
             [
              0.6666666666666666,
              "#ed7953"
             ],
             [
              0.7777777777777778,
              "#fb9f3a"
             ],
             [
              0.8888888888888888,
              "#fdca26"
             ],
             [
              1,
              "#f0f921"
             ]
            ],
            "type": "heatmap"
           }
          ],
          "histogram": [
           {
            "marker": {
             "pattern": {
              "fillmode": "overlay",
              "size": 10,
              "solidity": 0.2
             }
            },
            "type": "histogram"
           }
          ],
          "histogram2d": [
           {
            "colorbar": {
             "outlinewidth": 0,
             "ticks": ""
            },
            "colorscale": [
             [
              0,
              "#0d0887"
             ],
             [
              0.1111111111111111,
              "#46039f"
             ],
             [
              0.2222222222222222,
              "#7201a8"
             ],
             [
              0.3333333333333333,
              "#9c179e"
             ],
             [
              0.4444444444444444,
              "#bd3786"
             ],
             [
              0.5555555555555556,
              "#d8576b"
             ],
             [
              0.6666666666666666,
              "#ed7953"
             ],
             [
              0.7777777777777778,
              "#fb9f3a"
             ],
             [
              0.8888888888888888,
              "#fdca26"
             ],
             [
              1,
              "#f0f921"
             ]
            ],
            "type": "histogram2d"
           }
          ],
          "histogram2dcontour": [
           {
            "colorbar": {
             "outlinewidth": 0,
             "ticks": ""
            },
            "colorscale": [
             [
              0,
              "#0d0887"
             ],
             [
              0.1111111111111111,
              "#46039f"
             ],
             [
              0.2222222222222222,
              "#7201a8"
             ],
             [
              0.3333333333333333,
              "#9c179e"
             ],
             [
              0.4444444444444444,
              "#bd3786"
             ],
             [
              0.5555555555555556,
              "#d8576b"
             ],
             [
              0.6666666666666666,
              "#ed7953"
             ],
             [
              0.7777777777777778,
              "#fb9f3a"
             ],
             [
              0.8888888888888888,
              "#fdca26"
             ],
             [
              1,
              "#f0f921"
             ]
            ],
            "type": "histogram2dcontour"
           }
          ],
          "mesh3d": [
           {
            "colorbar": {
             "outlinewidth": 0,
             "ticks": ""
            },
            "type": "mesh3d"
           }
          ],
          "parcoords": [
           {
            "line": {
             "colorbar": {
              "outlinewidth": 0,
              "ticks": ""
             }
            },
            "type": "parcoords"
           }
          ],
          "pie": [
           {
            "automargin": true,
            "type": "pie"
           }
          ],
          "scatter": [
           {
            "fillpattern": {
             "fillmode": "overlay",
             "size": 10,
             "solidity": 0.2
            },
            "type": "scatter"
           }
          ],
          "scatter3d": [
           {
            "line": {
             "colorbar": {
              "outlinewidth": 0,
              "ticks": ""
             }
            },
            "marker": {
             "colorbar": {
              "outlinewidth": 0,
              "ticks": ""
             }
            },
            "type": "scatter3d"
           }
          ],
          "scattercarpet": [
           {
            "marker": {
             "colorbar": {
              "outlinewidth": 0,
              "ticks": ""
             }
            },
            "type": "scattercarpet"
           }
          ],
          "scattergeo": [
           {
            "marker": {
             "colorbar": {
              "outlinewidth": 0,
              "ticks": ""
             }
            },
            "type": "scattergeo"
           }
          ],
          "scattergl": [
           {
            "marker": {
             "colorbar": {
              "outlinewidth": 0,
              "ticks": ""
             }
            },
            "type": "scattergl"
           }
          ],
          "scattermap": [
           {
            "marker": {
             "colorbar": {
              "outlinewidth": 0,
              "ticks": ""
             }
            },
            "type": "scattermap"
           }
          ],
          "scattermapbox": [
           {
            "marker": {
             "colorbar": {
              "outlinewidth": 0,
              "ticks": ""
             }
            },
            "type": "scattermapbox"
           }
          ],
          "scatterpolar": [
           {
            "marker": {
             "colorbar": {
              "outlinewidth": 0,
              "ticks": ""
             }
            },
            "type": "scatterpolar"
           }
          ],
          "scatterpolargl": [
           {
            "marker": {
             "colorbar": {
              "outlinewidth": 0,
              "ticks": ""
             }
            },
            "type": "scatterpolargl"
           }
          ],
          "scatterternary": [
           {
            "marker": {
             "colorbar": {
              "outlinewidth": 0,
              "ticks": ""
             }
            },
            "type": "scatterternary"
           }
          ],
          "surface": [
           {
            "colorbar": {
             "outlinewidth": 0,
             "ticks": ""
            },
            "colorscale": [
             [
              0,
              "#0d0887"
             ],
             [
              0.1111111111111111,
              "#46039f"
             ],
             [
              0.2222222222222222,
              "#7201a8"
             ],
             [
              0.3333333333333333,
              "#9c179e"
             ],
             [
              0.4444444444444444,
              "#bd3786"
             ],
             [
              0.5555555555555556,
              "#d8576b"
             ],
             [
              0.6666666666666666,
              "#ed7953"
             ],
             [
              0.7777777777777778,
              "#fb9f3a"
             ],
             [
              0.8888888888888888,
              "#fdca26"
             ],
             [
              1,
              "#f0f921"
             ]
            ],
            "type": "surface"
           }
          ],
          "table": [
           {
            "cells": {
             "fill": {
              "color": "#EBF0F8"
             },
             "line": {
              "color": "white"
             }
            },
            "header": {
             "fill": {
              "color": "#C8D4E3"
             },
             "line": {
              "color": "white"
             }
            },
            "type": "table"
           }
          ]
         },
         "layout": {
          "annotationdefaults": {
           "arrowcolor": "#2a3f5f",
           "arrowhead": 0,
           "arrowwidth": 1
          },
          "autotypenumbers": "strict",
          "coloraxis": {
           "colorbar": {
            "outlinewidth": 0,
            "ticks": ""
           }
          },
          "colorscale": {
           "diverging": [
            [
             0,
             "#8e0152"
            ],
            [
             0.1,
             "#c51b7d"
            ],
            [
             0.2,
             "#de77ae"
            ],
            [
             0.3,
             "#f1b6da"
            ],
            [
             0.4,
             "#fde0ef"
            ],
            [
             0.5,
             "#f7f7f7"
            ],
            [
             0.6,
             "#e6f5d0"
            ],
            [
             0.7,
             "#b8e186"
            ],
            [
             0.8,
             "#7fbc41"
            ],
            [
             0.9,
             "#4d9221"
            ],
            [
             1,
             "#276419"
            ]
           ],
           "sequential": [
            [
             0,
             "#0d0887"
            ],
            [
             0.1111111111111111,
             "#46039f"
            ],
            [
             0.2222222222222222,
             "#7201a8"
            ],
            [
             0.3333333333333333,
             "#9c179e"
            ],
            [
             0.4444444444444444,
             "#bd3786"
            ],
            [
             0.5555555555555556,
             "#d8576b"
            ],
            [
             0.6666666666666666,
             "#ed7953"
            ],
            [
             0.7777777777777778,
             "#fb9f3a"
            ],
            [
             0.8888888888888888,
             "#fdca26"
            ],
            [
             1,
             "#f0f921"
            ]
           ],
           "sequentialminus": [
            [
             0,
             "#0d0887"
            ],
            [
             0.1111111111111111,
             "#46039f"
            ],
            [
             0.2222222222222222,
             "#7201a8"
            ],
            [
             0.3333333333333333,
             "#9c179e"
            ],
            [
             0.4444444444444444,
             "#bd3786"
            ],
            [
             0.5555555555555556,
             "#d8576b"
            ],
            [
             0.6666666666666666,
             "#ed7953"
            ],
            [
             0.7777777777777778,
             "#fb9f3a"
            ],
            [
             0.8888888888888888,
             "#fdca26"
            ],
            [
             1,
             "#f0f921"
            ]
           ]
          },
          "colorway": [
           "#636efa",
           "#EF553B",
           "#00cc96",
           "#ab63fa",
           "#FFA15A",
           "#19d3f3",
           "#FF6692",
           "#B6E880",
           "#FF97FF",
           "#FECB52"
          ],
          "font": {
           "color": "#2a3f5f"
          },
          "geo": {
           "bgcolor": "white",
           "lakecolor": "white",
           "landcolor": "#E5ECF6",
           "showlakes": true,
           "showland": true,
           "subunitcolor": "white"
          },
          "hoverlabel": {
           "align": "left"
          },
          "hovermode": "closest",
          "mapbox": {
           "style": "light"
          },
          "paper_bgcolor": "white",
          "plot_bgcolor": "#E5ECF6",
          "polar": {
           "angularaxis": {
            "gridcolor": "white",
            "linecolor": "white",
            "ticks": ""
           },
           "bgcolor": "#E5ECF6",
           "radialaxis": {
            "gridcolor": "white",
            "linecolor": "white",
            "ticks": ""
           }
          },
          "scene": {
           "xaxis": {
            "backgroundcolor": "#E5ECF6",
            "gridcolor": "white",
            "gridwidth": 2,
            "linecolor": "white",
            "showbackground": true,
            "ticks": "",
            "zerolinecolor": "white"
           },
           "yaxis": {
            "backgroundcolor": "#E5ECF6",
            "gridcolor": "white",
            "gridwidth": 2,
            "linecolor": "white",
            "showbackground": true,
            "ticks": "",
            "zerolinecolor": "white"
           },
           "zaxis": {
            "backgroundcolor": "#E5ECF6",
            "gridcolor": "white",
            "gridwidth": 2,
            "linecolor": "white",
            "showbackground": true,
            "ticks": "",
            "zerolinecolor": "white"
           }
          },
          "shapedefaults": {
           "line": {
            "color": "#2a3f5f"
           }
          },
          "ternary": {
           "aaxis": {
            "gridcolor": "white",
            "linecolor": "white",
            "ticks": ""
           },
           "baxis": {
            "gridcolor": "white",
            "linecolor": "white",
            "ticks": ""
           },
           "bgcolor": "#E5ECF6",
           "caxis": {
            "gridcolor": "white",
            "linecolor": "white",
            "ticks": ""
           }
          },
          "title": {
           "x": 0.05
          },
          "xaxis": {
           "automargin": true,
           "gridcolor": "white",
           "linecolor": "white",
           "ticks": "",
           "title": {
            "standoff": 15
           },
           "zerolinecolor": "white",
           "zerolinewidth": 2
          },
          "yaxis": {
           "automargin": true,
           "gridcolor": "white",
           "linecolor": "white",
           "ticks": "",
           "title": {
            "standoff": 15
           },
           "zerolinecolor": "white",
           "zerolinewidth": 2
          }
         }
        },
        "title": {
         "text": "Mapa de Calor - Incidentes por Proyecto y Mes"
        },
        "xaxis": {
         "anchor": "y",
         "domain": [
          0,
          1
         ],
         "title": {
          "text": "Mes"
         }
        },
        "yaxis": {
         "anchor": "x",
         "domain": [
          0,
          1
         ],
         "title": {
          "text": "Proyecto"
         }
        }
       }
      }
     },
     "metadata": {},
     "output_type": "display_data"
    }
   ],
   "source": [
    "import pandas as pd\n",
    "import plotly.express as px\n",
    "\n",
    "# Cargar datos\n",
    "df = pd.read_excel(\"datos_constructora.xlsx\")\n",
    "\n",
    "# Convertir 'Fecha Inicio' y 'Fecha Incidente' a datetime\n",
    "df['Fecha Inicio'] = pd.to_datetime(df['Fecha Inicio'], errors='coerce')\n",
    "df['Fecha Incidente'] = pd.to_datetime(df['Fecha Incidente'], errors='coerce')\n",
    "\n",
    "# ==== Agrupación de Costos Reales ====\n",
    "df_costos = df.groupby([\n",
    "    'Nombre Proyecto',\n",
    "    pd.Grouper(key='Fecha Inicio', freq='M')\n",
    "])['Costo Real'].sum().reset_index()\n",
    "\n",
    "# ==== Agrupación de Incidentes ====\n",
    "df_incidentes = df.groupby([\n",
    "    'Nombre Proyecto',\n",
    "    pd.Grouper(key='Fecha Incidente', freq='M')\n",
    "])['Tipo Incidente'].count().reset_index().rename(columns={'Tipo Incidente': 'Cantidad Incidentes'})\n",
    "\n",
    "# ==== Unir ambos datasets (por Proyecto + Mes) ====\n",
    "df_costos['Mes'] = df_costos['Fecha Inicio'].dt.strftime('%Y-%m')\n",
    "df_incidentes['Mes'] = df_incidentes['Fecha Incidente'].dt.strftime('%Y-%m')\n",
    "\n",
    "# Hacer merge\n",
    "df_final = pd.merge(\n",
    "    df_costos[['Nombre Proyecto', 'Mes', 'Costo Real']],\n",
    "    df_incidentes[['Nombre Proyecto', 'Mes', 'Cantidad Incidentes']],\n",
    "    on=['Nombre Proyecto', 'Mes'],\n",
    "    how='outer'\n",
    ").fillna(0)\n",
    "\n",
    "# ==== Heatmap de Costos Reales ====\n",
    "fig1 = px.density_heatmap(\n",
    "    df_final,\n",
    "    x='Mes',\n",
    "    y='Nombre Proyecto',\n",
    "    z='Costo Real',\n",
    "    color_continuous_scale='Reds',\n",
    "    title='Mapa de Calor - Costos Reales por Proyecto y Mes'\n",
    ")\n",
    "fig1.update_layout(\n",
    "    xaxis_title=\"Mes\",\n",
    "    yaxis_title=\"Proyecto\",\n",
    "    coloraxis_colorbar=dict(title=\"Costo Real ($)\")\n",
    ")\n",
    "fig1.show()\n",
    "\n",
    "# ==== Heatmap de Incidentes ====\n",
    "fig2 = px.density_heatmap(\n",
    "    df_final,\n",
    "    x='Mes',\n",
    "    y='Nombre Proyecto',\n",
    "    z='Cantidad Incidentes',\n",
    "    color_continuous_scale='Blues',\n",
    "    title='Mapa de Calor - Incidentes por Proyecto y Mes'\n",
    ")\n",
    "fig2.update_layout(\n",
    "    xaxis_title=\"Mes\",\n",
    "    yaxis_title=\"Proyecto\",\n",
    "    coloraxis_colorbar=dict(title=\"Cantidad de Incidentes\")\n",
    ")\n",
    "fig2.show()\n"
   ]
  },
  {
   "cell_type": "code",
   "execution_count": 19,
   "id": "1e89c0b8",
   "metadata": {},
   "outputs": [
    {
     "data": {
      "application/vnd.plotly.v1+json": {
       "config": {
        "plotlyServerURL": "https://plot.ly"
       },
       "data": [
        {
         "hovertemplate": "Nombre Proyecto=%{x}<br>Puntaje Promedio=%{y}<extra></extra>",
         "legendgroup": "",
         "marker": {
          "color": "#636efa",
          "pattern": {
           "shape": ""
          }
         },
         "name": "",
         "orientation": "v",
         "showlegend": false,
         "textposition": "auto",
         "type": "bar",
         "x": [
          "Proyecto Aurora",
          "Proyecto Independencia",
          "Proyecto La Reina",
          "Proyecto Macul",
          "Proyecto Mapocho",
          "Proyecto Providencia",
          "Proyecto Puente Alto",
          "Proyecto Recoleta",
          "Proyecto Santa Rosa",
          "Proyecto Vitacura"
         ],
         "xaxis": "x",
         "y": {
          "bdata": "AAAAAAAAFUC9hvIaymsUQEmSJEmSJBJA8xrKayivEUBfQnsJ7SUUQFVVVVVV1RRAq6qqqqqqEkBmZmZmZmYTQIfyGsprKBNAAAAAAABAFkA=",
          "dtype": "f8"
         },
         "yaxis": "y"
        }
       ],
       "layout": {
        "barmode": "relative",
        "legend": {
         "tracegroupgap": 0
        },
        "template": {
         "data": {
          "bar": [
           {
            "error_x": {
             "color": "#2a3f5f"
            },
            "error_y": {
             "color": "#2a3f5f"
            },
            "marker": {
             "line": {
              "color": "#E5ECF6",
              "width": 0.5
             },
             "pattern": {
              "fillmode": "overlay",
              "size": 10,
              "solidity": 0.2
             }
            },
            "type": "bar"
           }
          ],
          "barpolar": [
           {
            "marker": {
             "line": {
              "color": "#E5ECF6",
              "width": 0.5
             },
             "pattern": {
              "fillmode": "overlay",
              "size": 10,
              "solidity": 0.2
             }
            },
            "type": "barpolar"
           }
          ],
          "carpet": [
           {
            "aaxis": {
             "endlinecolor": "#2a3f5f",
             "gridcolor": "white",
             "linecolor": "white",
             "minorgridcolor": "white",
             "startlinecolor": "#2a3f5f"
            },
            "baxis": {
             "endlinecolor": "#2a3f5f",
             "gridcolor": "white",
             "linecolor": "white",
             "minorgridcolor": "white",
             "startlinecolor": "#2a3f5f"
            },
            "type": "carpet"
           }
          ],
          "choropleth": [
           {
            "colorbar": {
             "outlinewidth": 0,
             "ticks": ""
            },
            "type": "choropleth"
           }
          ],
          "contour": [
           {
            "colorbar": {
             "outlinewidth": 0,
             "ticks": ""
            },
            "colorscale": [
             [
              0,
              "#0d0887"
             ],
             [
              0.1111111111111111,
              "#46039f"
             ],
             [
              0.2222222222222222,
              "#7201a8"
             ],
             [
              0.3333333333333333,
              "#9c179e"
             ],
             [
              0.4444444444444444,
              "#bd3786"
             ],
             [
              0.5555555555555556,
              "#d8576b"
             ],
             [
              0.6666666666666666,
              "#ed7953"
             ],
             [
              0.7777777777777778,
              "#fb9f3a"
             ],
             [
              0.8888888888888888,
              "#fdca26"
             ],
             [
              1,
              "#f0f921"
             ]
            ],
            "type": "contour"
           }
          ],
          "contourcarpet": [
           {
            "colorbar": {
             "outlinewidth": 0,
             "ticks": ""
            },
            "type": "contourcarpet"
           }
          ],
          "heatmap": [
           {
            "colorbar": {
             "outlinewidth": 0,
             "ticks": ""
            },
            "colorscale": [
             [
              0,
              "#0d0887"
             ],
             [
              0.1111111111111111,
              "#46039f"
             ],
             [
              0.2222222222222222,
              "#7201a8"
             ],
             [
              0.3333333333333333,
              "#9c179e"
             ],
             [
              0.4444444444444444,
              "#bd3786"
             ],
             [
              0.5555555555555556,
              "#d8576b"
             ],
             [
              0.6666666666666666,
              "#ed7953"
             ],
             [
              0.7777777777777778,
              "#fb9f3a"
             ],
             [
              0.8888888888888888,
              "#fdca26"
             ],
             [
              1,
              "#f0f921"
             ]
            ],
            "type": "heatmap"
           }
          ],
          "histogram": [
           {
            "marker": {
             "pattern": {
              "fillmode": "overlay",
              "size": 10,
              "solidity": 0.2
             }
            },
            "type": "histogram"
           }
          ],
          "histogram2d": [
           {
            "colorbar": {
             "outlinewidth": 0,
             "ticks": ""
            },
            "colorscale": [
             [
              0,
              "#0d0887"
             ],
             [
              0.1111111111111111,
              "#46039f"
             ],
             [
              0.2222222222222222,
              "#7201a8"
             ],
             [
              0.3333333333333333,
              "#9c179e"
             ],
             [
              0.4444444444444444,
              "#bd3786"
             ],
             [
              0.5555555555555556,
              "#d8576b"
             ],
             [
              0.6666666666666666,
              "#ed7953"
             ],
             [
              0.7777777777777778,
              "#fb9f3a"
             ],
             [
              0.8888888888888888,
              "#fdca26"
             ],
             [
              1,
              "#f0f921"
             ]
            ],
            "type": "histogram2d"
           }
          ],
          "histogram2dcontour": [
           {
            "colorbar": {
             "outlinewidth": 0,
             "ticks": ""
            },
            "colorscale": [
             [
              0,
              "#0d0887"
             ],
             [
              0.1111111111111111,
              "#46039f"
             ],
             [
              0.2222222222222222,
              "#7201a8"
             ],
             [
              0.3333333333333333,
              "#9c179e"
             ],
             [
              0.4444444444444444,
              "#bd3786"
             ],
             [
              0.5555555555555556,
              "#d8576b"
             ],
             [
              0.6666666666666666,
              "#ed7953"
             ],
             [
              0.7777777777777778,
              "#fb9f3a"
             ],
             [
              0.8888888888888888,
              "#fdca26"
             ],
             [
              1,
              "#f0f921"
             ]
            ],
            "type": "histogram2dcontour"
           }
          ],
          "mesh3d": [
           {
            "colorbar": {
             "outlinewidth": 0,
             "ticks": ""
            },
            "type": "mesh3d"
           }
          ],
          "parcoords": [
           {
            "line": {
             "colorbar": {
              "outlinewidth": 0,
              "ticks": ""
             }
            },
            "type": "parcoords"
           }
          ],
          "pie": [
           {
            "automargin": true,
            "type": "pie"
           }
          ],
          "scatter": [
           {
            "fillpattern": {
             "fillmode": "overlay",
             "size": 10,
             "solidity": 0.2
            },
            "type": "scatter"
           }
          ],
          "scatter3d": [
           {
            "line": {
             "colorbar": {
              "outlinewidth": 0,
              "ticks": ""
             }
            },
            "marker": {
             "colorbar": {
              "outlinewidth": 0,
              "ticks": ""
             }
            },
            "type": "scatter3d"
           }
          ],
          "scattercarpet": [
           {
            "marker": {
             "colorbar": {
              "outlinewidth": 0,
              "ticks": ""
             }
            },
            "type": "scattercarpet"
           }
          ],
          "scattergeo": [
           {
            "marker": {
             "colorbar": {
              "outlinewidth": 0,
              "ticks": ""
             }
            },
            "type": "scattergeo"
           }
          ],
          "scattergl": [
           {
            "marker": {
             "colorbar": {
              "outlinewidth": 0,
              "ticks": ""
             }
            },
            "type": "scattergl"
           }
          ],
          "scattermap": [
           {
            "marker": {
             "colorbar": {
              "outlinewidth": 0,
              "ticks": ""
             }
            },
            "type": "scattermap"
           }
          ],
          "scattermapbox": [
           {
            "marker": {
             "colorbar": {
              "outlinewidth": 0,
              "ticks": ""
             }
            },
            "type": "scattermapbox"
           }
          ],
          "scatterpolar": [
           {
            "marker": {
             "colorbar": {
              "outlinewidth": 0,
              "ticks": ""
             }
            },
            "type": "scatterpolar"
           }
          ],
          "scatterpolargl": [
           {
            "marker": {
             "colorbar": {
              "outlinewidth": 0,
              "ticks": ""
             }
            },
            "type": "scatterpolargl"
           }
          ],
          "scatterternary": [
           {
            "marker": {
             "colorbar": {
              "outlinewidth": 0,
              "ticks": ""
             }
            },
            "type": "scatterternary"
           }
          ],
          "surface": [
           {
            "colorbar": {
             "outlinewidth": 0,
             "ticks": ""
            },
            "colorscale": [
             [
              0,
              "#0d0887"
             ],
             [
              0.1111111111111111,
              "#46039f"
             ],
             [
              0.2222222222222222,
              "#7201a8"
             ],
             [
              0.3333333333333333,
              "#9c179e"
             ],
             [
              0.4444444444444444,
              "#bd3786"
             ],
             [
              0.5555555555555556,
              "#d8576b"
             ],
             [
              0.6666666666666666,
              "#ed7953"
             ],
             [
              0.7777777777777778,
              "#fb9f3a"
             ],
             [
              0.8888888888888888,
              "#fdca26"
             ],
             [
              1,
              "#f0f921"
             ]
            ],
            "type": "surface"
           }
          ],
          "table": [
           {
            "cells": {
             "fill": {
              "color": "#EBF0F8"
             },
             "line": {
              "color": "white"
             }
            },
            "header": {
             "fill": {
              "color": "#C8D4E3"
             },
             "line": {
              "color": "white"
             }
            },
            "type": "table"
           }
          ]
         },
         "layout": {
          "annotationdefaults": {
           "arrowcolor": "#2a3f5f",
           "arrowhead": 0,
           "arrowwidth": 1
          },
          "autotypenumbers": "strict",
          "coloraxis": {
           "colorbar": {
            "outlinewidth": 0,
            "ticks": ""
           }
          },
          "colorscale": {
           "diverging": [
            [
             0,
             "#8e0152"
            ],
            [
             0.1,
             "#c51b7d"
            ],
            [
             0.2,
             "#de77ae"
            ],
            [
             0.3,
             "#f1b6da"
            ],
            [
             0.4,
             "#fde0ef"
            ],
            [
             0.5,
             "#f7f7f7"
            ],
            [
             0.6,
             "#e6f5d0"
            ],
            [
             0.7,
             "#b8e186"
            ],
            [
             0.8,
             "#7fbc41"
            ],
            [
             0.9,
             "#4d9221"
            ],
            [
             1,
             "#276419"
            ]
           ],
           "sequential": [
            [
             0,
             "#0d0887"
            ],
            [
             0.1111111111111111,
             "#46039f"
            ],
            [
             0.2222222222222222,
             "#7201a8"
            ],
            [
             0.3333333333333333,
             "#9c179e"
            ],
            [
             0.4444444444444444,
             "#bd3786"
            ],
            [
             0.5555555555555556,
             "#d8576b"
            ],
            [
             0.6666666666666666,
             "#ed7953"
            ],
            [
             0.7777777777777778,
             "#fb9f3a"
            ],
            [
             0.8888888888888888,
             "#fdca26"
            ],
            [
             1,
             "#f0f921"
            ]
           ],
           "sequentialminus": [
            [
             0,
             "#0d0887"
            ],
            [
             0.1111111111111111,
             "#46039f"
            ],
            [
             0.2222222222222222,
             "#7201a8"
            ],
            [
             0.3333333333333333,
             "#9c179e"
            ],
            [
             0.4444444444444444,
             "#bd3786"
            ],
            [
             0.5555555555555556,
             "#d8576b"
            ],
            [
             0.6666666666666666,
             "#ed7953"
            ],
            [
             0.7777777777777778,
             "#fb9f3a"
            ],
            [
             0.8888888888888888,
             "#fdca26"
            ],
            [
             1,
             "#f0f921"
            ]
           ]
          },
          "colorway": [
           "#636efa",
           "#EF553B",
           "#00cc96",
           "#ab63fa",
           "#FFA15A",
           "#19d3f3",
           "#FF6692",
           "#B6E880",
           "#FF97FF",
           "#FECB52"
          ],
          "font": {
           "color": "#2a3f5f"
          },
          "geo": {
           "bgcolor": "white",
           "lakecolor": "white",
           "landcolor": "#E5ECF6",
           "showlakes": true,
           "showland": true,
           "subunitcolor": "white"
          },
          "hoverlabel": {
           "align": "left"
          },
          "hovermode": "closest",
          "mapbox": {
           "style": "light"
          },
          "paper_bgcolor": "white",
          "plot_bgcolor": "#E5ECF6",
          "polar": {
           "angularaxis": {
            "gridcolor": "white",
            "linecolor": "white",
            "ticks": ""
           },
           "bgcolor": "#E5ECF6",
           "radialaxis": {
            "gridcolor": "white",
            "linecolor": "white",
            "ticks": ""
           }
          },
          "scene": {
           "xaxis": {
            "backgroundcolor": "#E5ECF6",
            "gridcolor": "white",
            "gridwidth": 2,
            "linecolor": "white",
            "showbackground": true,
            "ticks": "",
            "zerolinecolor": "white"
           },
           "yaxis": {
            "backgroundcolor": "#E5ECF6",
            "gridcolor": "white",
            "gridwidth": 2,
            "linecolor": "white",
            "showbackground": true,
            "ticks": "",
            "zerolinecolor": "white"
           },
           "zaxis": {
            "backgroundcolor": "#E5ECF6",
            "gridcolor": "white",
            "gridwidth": 2,
            "linecolor": "white",
            "showbackground": true,
            "ticks": "",
            "zerolinecolor": "white"
           }
          },
          "shapedefaults": {
           "line": {
            "color": "#2a3f5f"
           }
          },
          "ternary": {
           "aaxis": {
            "gridcolor": "white",
            "linecolor": "white",
            "ticks": ""
           },
           "baxis": {
            "gridcolor": "white",
            "linecolor": "white",
            "ticks": ""
           },
           "bgcolor": "#E5ECF6",
           "caxis": {
            "gridcolor": "white",
            "linecolor": "white",
            "ticks": ""
           }
          },
          "title": {
           "x": 0.05
          },
          "xaxis": {
           "automargin": true,
           "gridcolor": "white",
           "linecolor": "white",
           "ticks": "",
           "title": {
            "standoff": 15
           },
           "zerolinecolor": "white",
           "zerolinewidth": 2
          },
          "yaxis": {
           "automargin": true,
           "gridcolor": "white",
           "linecolor": "white",
           "ticks": "",
           "title": {
            "standoff": 15
           },
           "zerolinecolor": "white",
           "zerolinewidth": 2
          }
         }
        },
        "title": {
         "text": "Promedio de Satisfacción por Proyecto"
        },
        "xaxis": {
         "anchor": "y",
         "domain": [
          0,
          1
         ],
         "title": {
          "text": "Nombre Proyecto"
         }
        },
        "yaxis": {
         "anchor": "x",
         "domain": [
          0,
          1
         ],
         "title": {
          "text": "Puntaje Promedio"
         }
        }
       }
      }
     },
     "metadata": {},
     "output_type": "display_data"
    },
    {
     "data": {
      "application/vnd.plotly.v1+json": {
       "config": {
        "plotlyServerURL": "https://plot.ly"
       },
       "data": [
        {
         "hovertemplate": "Segmento Cliente=%{x}<br>Puntaje Promedio=%{y}<extra></extra>",
         "legendgroup": "",
         "marker": {
          "color": "#636efa",
          "pattern": {
           "shape": ""
          }
         },
         "name": "",
         "orientation": "v",
         "showlegend": false,
         "textposition": "auto",
         "type": "bar",
         "x": [
          "Corporativo",
          "Gobierno",
          "Residencial"
         ],
         "xaxis": "x",
         "y": {
          "bdata": "xSVDsI42E0Dx8PDw8PATQDJ+u9ST8RNA",
          "dtype": "f8"
         },
         "yaxis": "y"
        }
       ],
       "layout": {
        "barmode": "relative",
        "legend": {
         "tracegroupgap": 0
        },
        "template": {
         "data": {
          "bar": [
           {
            "error_x": {
             "color": "#2a3f5f"
            },
            "error_y": {
             "color": "#2a3f5f"
            },
            "marker": {
             "line": {
              "color": "#E5ECF6",
              "width": 0.5
             },
             "pattern": {
              "fillmode": "overlay",
              "size": 10,
              "solidity": 0.2
             }
            },
            "type": "bar"
           }
          ],
          "barpolar": [
           {
            "marker": {
             "line": {
              "color": "#E5ECF6",
              "width": 0.5
             },
             "pattern": {
              "fillmode": "overlay",
              "size": 10,
              "solidity": 0.2
             }
            },
            "type": "barpolar"
           }
          ],
          "carpet": [
           {
            "aaxis": {
             "endlinecolor": "#2a3f5f",
             "gridcolor": "white",
             "linecolor": "white",
             "minorgridcolor": "white",
             "startlinecolor": "#2a3f5f"
            },
            "baxis": {
             "endlinecolor": "#2a3f5f",
             "gridcolor": "white",
             "linecolor": "white",
             "minorgridcolor": "white",
             "startlinecolor": "#2a3f5f"
            },
            "type": "carpet"
           }
          ],
          "choropleth": [
           {
            "colorbar": {
             "outlinewidth": 0,
             "ticks": ""
            },
            "type": "choropleth"
           }
          ],
          "contour": [
           {
            "colorbar": {
             "outlinewidth": 0,
             "ticks": ""
            },
            "colorscale": [
             [
              0,
              "#0d0887"
             ],
             [
              0.1111111111111111,
              "#46039f"
             ],
             [
              0.2222222222222222,
              "#7201a8"
             ],
             [
              0.3333333333333333,
              "#9c179e"
             ],
             [
              0.4444444444444444,
              "#bd3786"
             ],
             [
              0.5555555555555556,
              "#d8576b"
             ],
             [
              0.6666666666666666,
              "#ed7953"
             ],
             [
              0.7777777777777778,
              "#fb9f3a"
             ],
             [
              0.8888888888888888,
              "#fdca26"
             ],
             [
              1,
              "#f0f921"
             ]
            ],
            "type": "contour"
           }
          ],
          "contourcarpet": [
           {
            "colorbar": {
             "outlinewidth": 0,
             "ticks": ""
            },
            "type": "contourcarpet"
           }
          ],
          "heatmap": [
           {
            "colorbar": {
             "outlinewidth": 0,
             "ticks": ""
            },
            "colorscale": [
             [
              0,
              "#0d0887"
             ],
             [
              0.1111111111111111,
              "#46039f"
             ],
             [
              0.2222222222222222,
              "#7201a8"
             ],
             [
              0.3333333333333333,
              "#9c179e"
             ],
             [
              0.4444444444444444,
              "#bd3786"
             ],
             [
              0.5555555555555556,
              "#d8576b"
             ],
             [
              0.6666666666666666,
              "#ed7953"
             ],
             [
              0.7777777777777778,
              "#fb9f3a"
             ],
             [
              0.8888888888888888,
              "#fdca26"
             ],
             [
              1,
              "#f0f921"
             ]
            ],
            "type": "heatmap"
           }
          ],
          "histogram": [
           {
            "marker": {
             "pattern": {
              "fillmode": "overlay",
              "size": 10,
              "solidity": 0.2
             }
            },
            "type": "histogram"
           }
          ],
          "histogram2d": [
           {
            "colorbar": {
             "outlinewidth": 0,
             "ticks": ""
            },
            "colorscale": [
             [
              0,
              "#0d0887"
             ],
             [
              0.1111111111111111,
              "#46039f"
             ],
             [
              0.2222222222222222,
              "#7201a8"
             ],
             [
              0.3333333333333333,
              "#9c179e"
             ],
             [
              0.4444444444444444,
              "#bd3786"
             ],
             [
              0.5555555555555556,
              "#d8576b"
             ],
             [
              0.6666666666666666,
              "#ed7953"
             ],
             [
              0.7777777777777778,
              "#fb9f3a"
             ],
             [
              0.8888888888888888,
              "#fdca26"
             ],
             [
              1,
              "#f0f921"
             ]
            ],
            "type": "histogram2d"
           }
          ],
          "histogram2dcontour": [
           {
            "colorbar": {
             "outlinewidth": 0,
             "ticks": ""
            },
            "colorscale": [
             [
              0,
              "#0d0887"
             ],
             [
              0.1111111111111111,
              "#46039f"
             ],
             [
              0.2222222222222222,
              "#7201a8"
             ],
             [
              0.3333333333333333,
              "#9c179e"
             ],
             [
              0.4444444444444444,
              "#bd3786"
             ],
             [
              0.5555555555555556,
              "#d8576b"
             ],
             [
              0.6666666666666666,
              "#ed7953"
             ],
             [
              0.7777777777777778,
              "#fb9f3a"
             ],
             [
              0.8888888888888888,
              "#fdca26"
             ],
             [
              1,
              "#f0f921"
             ]
            ],
            "type": "histogram2dcontour"
           }
          ],
          "mesh3d": [
           {
            "colorbar": {
             "outlinewidth": 0,
             "ticks": ""
            },
            "type": "mesh3d"
           }
          ],
          "parcoords": [
           {
            "line": {
             "colorbar": {
              "outlinewidth": 0,
              "ticks": ""
             }
            },
            "type": "parcoords"
           }
          ],
          "pie": [
           {
            "automargin": true,
            "type": "pie"
           }
          ],
          "scatter": [
           {
            "fillpattern": {
             "fillmode": "overlay",
             "size": 10,
             "solidity": 0.2
            },
            "type": "scatter"
           }
          ],
          "scatter3d": [
           {
            "line": {
             "colorbar": {
              "outlinewidth": 0,
              "ticks": ""
             }
            },
            "marker": {
             "colorbar": {
              "outlinewidth": 0,
              "ticks": ""
             }
            },
            "type": "scatter3d"
           }
          ],
          "scattercarpet": [
           {
            "marker": {
             "colorbar": {
              "outlinewidth": 0,
              "ticks": ""
             }
            },
            "type": "scattercarpet"
           }
          ],
          "scattergeo": [
           {
            "marker": {
             "colorbar": {
              "outlinewidth": 0,
              "ticks": ""
             }
            },
            "type": "scattergeo"
           }
          ],
          "scattergl": [
           {
            "marker": {
             "colorbar": {
              "outlinewidth": 0,
              "ticks": ""
             }
            },
            "type": "scattergl"
           }
          ],
          "scattermap": [
           {
            "marker": {
             "colorbar": {
              "outlinewidth": 0,
              "ticks": ""
             }
            },
            "type": "scattermap"
           }
          ],
          "scattermapbox": [
           {
            "marker": {
             "colorbar": {
              "outlinewidth": 0,
              "ticks": ""
             }
            },
            "type": "scattermapbox"
           }
          ],
          "scatterpolar": [
           {
            "marker": {
             "colorbar": {
              "outlinewidth": 0,
              "ticks": ""
             }
            },
            "type": "scatterpolar"
           }
          ],
          "scatterpolargl": [
           {
            "marker": {
             "colorbar": {
              "outlinewidth": 0,
              "ticks": ""
             }
            },
            "type": "scatterpolargl"
           }
          ],
          "scatterternary": [
           {
            "marker": {
             "colorbar": {
              "outlinewidth": 0,
              "ticks": ""
             }
            },
            "type": "scatterternary"
           }
          ],
          "surface": [
           {
            "colorbar": {
             "outlinewidth": 0,
             "ticks": ""
            },
            "colorscale": [
             [
              0,
              "#0d0887"
             ],
             [
              0.1111111111111111,
              "#46039f"
             ],
             [
              0.2222222222222222,
              "#7201a8"
             ],
             [
              0.3333333333333333,
              "#9c179e"
             ],
             [
              0.4444444444444444,
              "#bd3786"
             ],
             [
              0.5555555555555556,
              "#d8576b"
             ],
             [
              0.6666666666666666,
              "#ed7953"
             ],
             [
              0.7777777777777778,
              "#fb9f3a"
             ],
             [
              0.8888888888888888,
              "#fdca26"
             ],
             [
              1,
              "#f0f921"
             ]
            ],
            "type": "surface"
           }
          ],
          "table": [
           {
            "cells": {
             "fill": {
              "color": "#EBF0F8"
             },
             "line": {
              "color": "white"
             }
            },
            "header": {
             "fill": {
              "color": "#C8D4E3"
             },
             "line": {
              "color": "white"
             }
            },
            "type": "table"
           }
          ]
         },
         "layout": {
          "annotationdefaults": {
           "arrowcolor": "#2a3f5f",
           "arrowhead": 0,
           "arrowwidth": 1
          },
          "autotypenumbers": "strict",
          "coloraxis": {
           "colorbar": {
            "outlinewidth": 0,
            "ticks": ""
           }
          },
          "colorscale": {
           "diverging": [
            [
             0,
             "#8e0152"
            ],
            [
             0.1,
             "#c51b7d"
            ],
            [
             0.2,
             "#de77ae"
            ],
            [
             0.3,
             "#f1b6da"
            ],
            [
             0.4,
             "#fde0ef"
            ],
            [
             0.5,
             "#f7f7f7"
            ],
            [
             0.6,
             "#e6f5d0"
            ],
            [
             0.7,
             "#b8e186"
            ],
            [
             0.8,
             "#7fbc41"
            ],
            [
             0.9,
             "#4d9221"
            ],
            [
             1,
             "#276419"
            ]
           ],
           "sequential": [
            [
             0,
             "#0d0887"
            ],
            [
             0.1111111111111111,
             "#46039f"
            ],
            [
             0.2222222222222222,
             "#7201a8"
            ],
            [
             0.3333333333333333,
             "#9c179e"
            ],
            [
             0.4444444444444444,
             "#bd3786"
            ],
            [
             0.5555555555555556,
             "#d8576b"
            ],
            [
             0.6666666666666666,
             "#ed7953"
            ],
            [
             0.7777777777777778,
             "#fb9f3a"
            ],
            [
             0.8888888888888888,
             "#fdca26"
            ],
            [
             1,
             "#f0f921"
            ]
           ],
           "sequentialminus": [
            [
             0,
             "#0d0887"
            ],
            [
             0.1111111111111111,
             "#46039f"
            ],
            [
             0.2222222222222222,
             "#7201a8"
            ],
            [
             0.3333333333333333,
             "#9c179e"
            ],
            [
             0.4444444444444444,
             "#bd3786"
            ],
            [
             0.5555555555555556,
             "#d8576b"
            ],
            [
             0.6666666666666666,
             "#ed7953"
            ],
            [
             0.7777777777777778,
             "#fb9f3a"
            ],
            [
             0.8888888888888888,
             "#fdca26"
            ],
            [
             1,
             "#f0f921"
            ]
           ]
          },
          "colorway": [
           "#636efa",
           "#EF553B",
           "#00cc96",
           "#ab63fa",
           "#FFA15A",
           "#19d3f3",
           "#FF6692",
           "#B6E880",
           "#FF97FF",
           "#FECB52"
          ],
          "font": {
           "color": "#2a3f5f"
          },
          "geo": {
           "bgcolor": "white",
           "lakecolor": "white",
           "landcolor": "#E5ECF6",
           "showlakes": true,
           "showland": true,
           "subunitcolor": "white"
          },
          "hoverlabel": {
           "align": "left"
          },
          "hovermode": "closest",
          "mapbox": {
           "style": "light"
          },
          "paper_bgcolor": "white",
          "plot_bgcolor": "#E5ECF6",
          "polar": {
           "angularaxis": {
            "gridcolor": "white",
            "linecolor": "white",
            "ticks": ""
           },
           "bgcolor": "#E5ECF6",
           "radialaxis": {
            "gridcolor": "white",
            "linecolor": "white",
            "ticks": ""
           }
          },
          "scene": {
           "xaxis": {
            "backgroundcolor": "#E5ECF6",
            "gridcolor": "white",
            "gridwidth": 2,
            "linecolor": "white",
            "showbackground": true,
            "ticks": "",
            "zerolinecolor": "white"
           },
           "yaxis": {
            "backgroundcolor": "#E5ECF6",
            "gridcolor": "white",
            "gridwidth": 2,
            "linecolor": "white",
            "showbackground": true,
            "ticks": "",
            "zerolinecolor": "white"
           },
           "zaxis": {
            "backgroundcolor": "#E5ECF6",
            "gridcolor": "white",
            "gridwidth": 2,
            "linecolor": "white",
            "showbackground": true,
            "ticks": "",
            "zerolinecolor": "white"
           }
          },
          "shapedefaults": {
           "line": {
            "color": "#2a3f5f"
           }
          },
          "ternary": {
           "aaxis": {
            "gridcolor": "white",
            "linecolor": "white",
            "ticks": ""
           },
           "baxis": {
            "gridcolor": "white",
            "linecolor": "white",
            "ticks": ""
           },
           "bgcolor": "#E5ECF6",
           "caxis": {
            "gridcolor": "white",
            "linecolor": "white",
            "ticks": ""
           }
          },
          "title": {
           "x": 0.05
          },
          "xaxis": {
           "automargin": true,
           "gridcolor": "white",
           "linecolor": "white",
           "ticks": "",
           "title": {
            "standoff": 15
           },
           "zerolinecolor": "white",
           "zerolinewidth": 2
          },
          "yaxis": {
           "automargin": true,
           "gridcolor": "white",
           "linecolor": "white",
           "ticks": "",
           "title": {
            "standoff": 15
           },
           "zerolinecolor": "white",
           "zerolinewidth": 2
          }
         }
        },
        "title": {
         "text": "Satisfacción Promedio por Segmento de Cliente"
        },
        "xaxis": {
         "anchor": "y",
         "domain": [
          0,
          1
         ],
         "title": {
          "text": "Segmento Cliente"
         }
        },
        "yaxis": {
         "anchor": "x",
         "domain": [
          0,
          1
         ],
         "title": {
          "text": "Puntaje Promedio"
         }
        }
       }
      }
     },
     "metadata": {},
     "output_type": "display_data"
    },
    {
     "ename": "ModuleNotFoundError",
     "evalue": "No module named 'wordcloud'",
     "output_type": "error",
     "traceback": [
      "\u001b[1;31m---------------------------------------------------------------------------\u001b[0m",
      "\u001b[1;31mModuleNotFoundError\u001b[0m                       Traceback (most recent call last)",
      "Cell \u001b[1;32mIn[19], line 34\u001b[0m\n\u001b[0;32m     31\u001b[0m fig2\u001b[38;5;241m.\u001b[39mshow()\n\u001b[0;32m     33\u001b[0m \u001b[38;5;66;03m# Opcional: nube de palabras de comentarios\u001b[39;00m\n\u001b[1;32m---> 34\u001b[0m \u001b[38;5;28;01mfrom\u001b[39;00m\u001b[38;5;250m \u001b[39m\u001b[38;5;21;01mwordcloud\u001b[39;00m\u001b[38;5;250m \u001b[39m\u001b[38;5;28;01mimport\u001b[39;00m wordcloud\n\u001b[0;32m     35\u001b[0m \u001b[38;5;28;01mimport\u001b[39;00m\u001b[38;5;250m \u001b[39m\u001b[38;5;21;01mmatplotlib\u001b[39;00m\u001b[38;5;21;01m.\u001b[39;00m\u001b[38;5;21;01mpyplot\u001b[39;00m\u001b[38;5;250m \u001b[39m\u001b[38;5;28;01mas\u001b[39;00m\u001b[38;5;250m \u001b[39m\u001b[38;5;21;01mplt\u001b[39;00m\n\u001b[0;32m     37\u001b[0m texto_comentarios \u001b[38;5;241m=\u001b[39m \u001b[38;5;124m\"\u001b[39m\u001b[38;5;124m \u001b[39m\u001b[38;5;124m\"\u001b[39m\u001b[38;5;241m.\u001b[39mjoin(\u001b[38;5;28mstr\u001b[39m(c) \u001b[38;5;28;01mfor\u001b[39;00m c \u001b[38;5;129;01min\u001b[39;00m df[\u001b[38;5;124m\"\u001b[39m\u001b[38;5;124mComentarios Cliente\u001b[39m\u001b[38;5;124m\"\u001b[39m]\u001b[38;5;241m.\u001b[39mdropna())\n",
      "\u001b[1;31mModuleNotFoundError\u001b[0m: No module named 'wordcloud'"
     ]
    }
   ],
   "source": [
    "import pandas as pd\n",
    "import plotly.express as px\n",
    "\n",
    "# Cargar datos\n",
    "df = pd.read_excel(\"datos_constructora.xlsx\")\n",
    "\n",
    "# --- Análisis de satisfacción post-venta ---\n",
    "# Promedio de puntaje por proyecto\n",
    "satisfaccion_proyecto = df.groupby(\"Nombre Proyecto\")[\"Puntaje Satisfaccion\"].mean().reset_index()\n",
    "\n",
    "fig1 = px.bar(\n",
    "    satisfaccion_proyecto,\n",
    "    x=\"Nombre Proyecto\",\n",
    "    y=\"Puntaje Satisfaccion\",\n",
    "    title=\"Promedio de Satisfacción por Proyecto\",\n",
    "    labels={\"Puntaje Satisfaccion\": \"Puntaje Promedio\"}\n",
    ")\n",
    "fig1.show()\n",
    "\n",
    "# --- Segmentación de clientes ---\n",
    "# Promedio de satisfacción por segmento\n",
    "satisfaccion_segmento = df.groupby(\"Segmento Cliente\")[\"Puntaje Satisfaccion\"].mean().reset_index()\n",
    "\n",
    "fig2 = px.bar(\n",
    "    satisfaccion_segmento,\n",
    "    x=\"Segmento Cliente\",\n",
    "    y=\"Puntaje Satisfaccion\",\n",
    "    title=\"Satisfacción Promedio por Segmento de Cliente\",\n",
    "    labels={\"Puntaje Satisfaccion\": \"Puntaje Promedio\"}\n",
    ")\n",
    "fig2.show()\n",
    "\n",
    "# Opcional: nube de palabras de comentarios\n",
    "from wordcloud import wordcloud\n",
    "import matplotlib.pyplot as plt\n",
    "\n",
    "texto_comentarios = \" \".join(str(c) for c in df[\"Comentarios Cliente\"].dropna())\n",
    "wordcloud = WordCloud(width=800, height=400, background_color=\"white\").generate(texto_comentarios)\n",
    "\n",
    "plt.figure(figsize=(10,5))\n",
    "plt.imshow(wordcloud, interpolation=\"bilinear\")\n",
    "plt.axis(\"off\")\n",
    "plt.title(\"Nube de Palabras - Comentarios de Clientes\")\n",
    "plt.show()\n"
   ]
  },
  {
   "cell_type": "code",
   "execution_count": 20,
   "id": "6c414f4d",
   "metadata": {},
   "outputs": [
    {
     "data": {
      "application/vnd.plotly.v1+json": {
       "config": {
        "plotlyServerURL": "https://plot.ly"
       },
       "data": [
        {
         "hovertemplate": "Nombre Proyecto=%{x}<br>Consumo (kWh)=%{y}<extra></extra>",
         "legendgroup": "",
         "marker": {
          "color": "#636efa",
          "pattern": {
           "shape": ""
          }
         },
         "name": "",
         "orientation": "v",
         "showlegend": false,
         "textposition": "auto",
         "type": "bar",
         "x": [
          "Proyecto Aurora",
          "Proyecto Independencia",
          "Proyecto La Reina",
          "Proyecto Macul",
          "Proyecto Mapocho",
          "Proyecto Providencia",
          "Proyecto Puente Alto",
          "Proyecto Recoleta",
          "Proyecto Santa Rosa",
          "Proyecto Vitacura"
         ],
         "xaxis": "x",
         "y": {
          "bdata": "u98CAK1tBADypQYAqxkEADHNBQAJlwQAYuoBANupAwCX7QIAbrUDAA==",
          "dtype": "i4"
         },
         "yaxis": "y"
        }
       ],
       "layout": {
        "barmode": "relative",
        "legend": {
         "tracegroupgap": 0
        },
        "template": {
         "data": {
          "bar": [
           {
            "error_x": {
             "color": "#2a3f5f"
            },
            "error_y": {
             "color": "#2a3f5f"
            },
            "marker": {
             "line": {
              "color": "#E5ECF6",
              "width": 0.5
             },
             "pattern": {
              "fillmode": "overlay",
              "size": 10,
              "solidity": 0.2
             }
            },
            "type": "bar"
           }
          ],
          "barpolar": [
           {
            "marker": {
             "line": {
              "color": "#E5ECF6",
              "width": 0.5
             },
             "pattern": {
              "fillmode": "overlay",
              "size": 10,
              "solidity": 0.2
             }
            },
            "type": "barpolar"
           }
          ],
          "carpet": [
           {
            "aaxis": {
             "endlinecolor": "#2a3f5f",
             "gridcolor": "white",
             "linecolor": "white",
             "minorgridcolor": "white",
             "startlinecolor": "#2a3f5f"
            },
            "baxis": {
             "endlinecolor": "#2a3f5f",
             "gridcolor": "white",
             "linecolor": "white",
             "minorgridcolor": "white",
             "startlinecolor": "#2a3f5f"
            },
            "type": "carpet"
           }
          ],
          "choropleth": [
           {
            "colorbar": {
             "outlinewidth": 0,
             "ticks": ""
            },
            "type": "choropleth"
           }
          ],
          "contour": [
           {
            "colorbar": {
             "outlinewidth": 0,
             "ticks": ""
            },
            "colorscale": [
             [
              0,
              "#0d0887"
             ],
             [
              0.1111111111111111,
              "#46039f"
             ],
             [
              0.2222222222222222,
              "#7201a8"
             ],
             [
              0.3333333333333333,
              "#9c179e"
             ],
             [
              0.4444444444444444,
              "#bd3786"
             ],
             [
              0.5555555555555556,
              "#d8576b"
             ],
             [
              0.6666666666666666,
              "#ed7953"
             ],
             [
              0.7777777777777778,
              "#fb9f3a"
             ],
             [
              0.8888888888888888,
              "#fdca26"
             ],
             [
              1,
              "#f0f921"
             ]
            ],
            "type": "contour"
           }
          ],
          "contourcarpet": [
           {
            "colorbar": {
             "outlinewidth": 0,
             "ticks": ""
            },
            "type": "contourcarpet"
           }
          ],
          "heatmap": [
           {
            "colorbar": {
             "outlinewidth": 0,
             "ticks": ""
            },
            "colorscale": [
             [
              0,
              "#0d0887"
             ],
             [
              0.1111111111111111,
              "#46039f"
             ],
             [
              0.2222222222222222,
              "#7201a8"
             ],
             [
              0.3333333333333333,
              "#9c179e"
             ],
             [
              0.4444444444444444,
              "#bd3786"
             ],
             [
              0.5555555555555556,
              "#d8576b"
             ],
             [
              0.6666666666666666,
              "#ed7953"
             ],
             [
              0.7777777777777778,
              "#fb9f3a"
             ],
             [
              0.8888888888888888,
              "#fdca26"
             ],
             [
              1,
              "#f0f921"
             ]
            ],
            "type": "heatmap"
           }
          ],
          "histogram": [
           {
            "marker": {
             "pattern": {
              "fillmode": "overlay",
              "size": 10,
              "solidity": 0.2
             }
            },
            "type": "histogram"
           }
          ],
          "histogram2d": [
           {
            "colorbar": {
             "outlinewidth": 0,
             "ticks": ""
            },
            "colorscale": [
             [
              0,
              "#0d0887"
             ],
             [
              0.1111111111111111,
              "#46039f"
             ],
             [
              0.2222222222222222,
              "#7201a8"
             ],
             [
              0.3333333333333333,
              "#9c179e"
             ],
             [
              0.4444444444444444,
              "#bd3786"
             ],
             [
              0.5555555555555556,
              "#d8576b"
             ],
             [
              0.6666666666666666,
              "#ed7953"
             ],
             [
              0.7777777777777778,
              "#fb9f3a"
             ],
             [
              0.8888888888888888,
              "#fdca26"
             ],
             [
              1,
              "#f0f921"
             ]
            ],
            "type": "histogram2d"
           }
          ],
          "histogram2dcontour": [
           {
            "colorbar": {
             "outlinewidth": 0,
             "ticks": ""
            },
            "colorscale": [
             [
              0,
              "#0d0887"
             ],
             [
              0.1111111111111111,
              "#46039f"
             ],
             [
              0.2222222222222222,
              "#7201a8"
             ],
             [
              0.3333333333333333,
              "#9c179e"
             ],
             [
              0.4444444444444444,
              "#bd3786"
             ],
             [
              0.5555555555555556,
              "#d8576b"
             ],
             [
              0.6666666666666666,
              "#ed7953"
             ],
             [
              0.7777777777777778,
              "#fb9f3a"
             ],
             [
              0.8888888888888888,
              "#fdca26"
             ],
             [
              1,
              "#f0f921"
             ]
            ],
            "type": "histogram2dcontour"
           }
          ],
          "mesh3d": [
           {
            "colorbar": {
             "outlinewidth": 0,
             "ticks": ""
            },
            "type": "mesh3d"
           }
          ],
          "parcoords": [
           {
            "line": {
             "colorbar": {
              "outlinewidth": 0,
              "ticks": ""
             }
            },
            "type": "parcoords"
           }
          ],
          "pie": [
           {
            "automargin": true,
            "type": "pie"
           }
          ],
          "scatter": [
           {
            "fillpattern": {
             "fillmode": "overlay",
             "size": 10,
             "solidity": 0.2
            },
            "type": "scatter"
           }
          ],
          "scatter3d": [
           {
            "line": {
             "colorbar": {
              "outlinewidth": 0,
              "ticks": ""
             }
            },
            "marker": {
             "colorbar": {
              "outlinewidth": 0,
              "ticks": ""
             }
            },
            "type": "scatter3d"
           }
          ],
          "scattercarpet": [
           {
            "marker": {
             "colorbar": {
              "outlinewidth": 0,
              "ticks": ""
             }
            },
            "type": "scattercarpet"
           }
          ],
          "scattergeo": [
           {
            "marker": {
             "colorbar": {
              "outlinewidth": 0,
              "ticks": ""
             }
            },
            "type": "scattergeo"
           }
          ],
          "scattergl": [
           {
            "marker": {
             "colorbar": {
              "outlinewidth": 0,
              "ticks": ""
             }
            },
            "type": "scattergl"
           }
          ],
          "scattermap": [
           {
            "marker": {
             "colorbar": {
              "outlinewidth": 0,
              "ticks": ""
             }
            },
            "type": "scattermap"
           }
          ],
          "scattermapbox": [
           {
            "marker": {
             "colorbar": {
              "outlinewidth": 0,
              "ticks": ""
             }
            },
            "type": "scattermapbox"
           }
          ],
          "scatterpolar": [
           {
            "marker": {
             "colorbar": {
              "outlinewidth": 0,
              "ticks": ""
             }
            },
            "type": "scatterpolar"
           }
          ],
          "scatterpolargl": [
           {
            "marker": {
             "colorbar": {
              "outlinewidth": 0,
              "ticks": ""
             }
            },
            "type": "scatterpolargl"
           }
          ],
          "scatterternary": [
           {
            "marker": {
             "colorbar": {
              "outlinewidth": 0,
              "ticks": ""
             }
            },
            "type": "scatterternary"
           }
          ],
          "surface": [
           {
            "colorbar": {
             "outlinewidth": 0,
             "ticks": ""
            },
            "colorscale": [
             [
              0,
              "#0d0887"
             ],
             [
              0.1111111111111111,
              "#46039f"
             ],
             [
              0.2222222222222222,
              "#7201a8"
             ],
             [
              0.3333333333333333,
              "#9c179e"
             ],
             [
              0.4444444444444444,
              "#bd3786"
             ],
             [
              0.5555555555555556,
              "#d8576b"
             ],
             [
              0.6666666666666666,
              "#ed7953"
             ],
             [
              0.7777777777777778,
              "#fb9f3a"
             ],
             [
              0.8888888888888888,
              "#fdca26"
             ],
             [
              1,
              "#f0f921"
             ]
            ],
            "type": "surface"
           }
          ],
          "table": [
           {
            "cells": {
             "fill": {
              "color": "#EBF0F8"
             },
             "line": {
              "color": "white"
             }
            },
            "header": {
             "fill": {
              "color": "#C8D4E3"
             },
             "line": {
              "color": "white"
             }
            },
            "type": "table"
           }
          ]
         },
         "layout": {
          "annotationdefaults": {
           "arrowcolor": "#2a3f5f",
           "arrowhead": 0,
           "arrowwidth": 1
          },
          "autotypenumbers": "strict",
          "coloraxis": {
           "colorbar": {
            "outlinewidth": 0,
            "ticks": ""
           }
          },
          "colorscale": {
           "diverging": [
            [
             0,
             "#8e0152"
            ],
            [
             0.1,
             "#c51b7d"
            ],
            [
             0.2,
             "#de77ae"
            ],
            [
             0.3,
             "#f1b6da"
            ],
            [
             0.4,
             "#fde0ef"
            ],
            [
             0.5,
             "#f7f7f7"
            ],
            [
             0.6,
             "#e6f5d0"
            ],
            [
             0.7,
             "#b8e186"
            ],
            [
             0.8,
             "#7fbc41"
            ],
            [
             0.9,
             "#4d9221"
            ],
            [
             1,
             "#276419"
            ]
           ],
           "sequential": [
            [
             0,
             "#0d0887"
            ],
            [
             0.1111111111111111,
             "#46039f"
            ],
            [
             0.2222222222222222,
             "#7201a8"
            ],
            [
             0.3333333333333333,
             "#9c179e"
            ],
            [
             0.4444444444444444,
             "#bd3786"
            ],
            [
             0.5555555555555556,
             "#d8576b"
            ],
            [
             0.6666666666666666,
             "#ed7953"
            ],
            [
             0.7777777777777778,
             "#fb9f3a"
            ],
            [
             0.8888888888888888,
             "#fdca26"
            ],
            [
             1,
             "#f0f921"
            ]
           ],
           "sequentialminus": [
            [
             0,
             "#0d0887"
            ],
            [
             0.1111111111111111,
             "#46039f"
            ],
            [
             0.2222222222222222,
             "#7201a8"
            ],
            [
             0.3333333333333333,
             "#9c179e"
            ],
            [
             0.4444444444444444,
             "#bd3786"
            ],
            [
             0.5555555555555556,
             "#d8576b"
            ],
            [
             0.6666666666666666,
             "#ed7953"
            ],
            [
             0.7777777777777778,
             "#fb9f3a"
            ],
            [
             0.8888888888888888,
             "#fdca26"
            ],
            [
             1,
             "#f0f921"
            ]
           ]
          },
          "colorway": [
           "#636efa",
           "#EF553B",
           "#00cc96",
           "#ab63fa",
           "#FFA15A",
           "#19d3f3",
           "#FF6692",
           "#B6E880",
           "#FF97FF",
           "#FECB52"
          ],
          "font": {
           "color": "#2a3f5f"
          },
          "geo": {
           "bgcolor": "white",
           "lakecolor": "white",
           "landcolor": "#E5ECF6",
           "showlakes": true,
           "showland": true,
           "subunitcolor": "white"
          },
          "hoverlabel": {
           "align": "left"
          },
          "hovermode": "closest",
          "mapbox": {
           "style": "light"
          },
          "paper_bgcolor": "white",
          "plot_bgcolor": "#E5ECF6",
          "polar": {
           "angularaxis": {
            "gridcolor": "white",
            "linecolor": "white",
            "ticks": ""
           },
           "bgcolor": "#E5ECF6",
           "radialaxis": {
            "gridcolor": "white",
            "linecolor": "white",
            "ticks": ""
           }
          },
          "scene": {
           "xaxis": {
            "backgroundcolor": "#E5ECF6",
            "gridcolor": "white",
            "gridwidth": 2,
            "linecolor": "white",
            "showbackground": true,
            "ticks": "",
            "zerolinecolor": "white"
           },
           "yaxis": {
            "backgroundcolor": "#E5ECF6",
            "gridcolor": "white",
            "gridwidth": 2,
            "linecolor": "white",
            "showbackground": true,
            "ticks": "",
            "zerolinecolor": "white"
           },
           "zaxis": {
            "backgroundcolor": "#E5ECF6",
            "gridcolor": "white",
            "gridwidth": 2,
            "linecolor": "white",
            "showbackground": true,
            "ticks": "",
            "zerolinecolor": "white"
           }
          },
          "shapedefaults": {
           "line": {
            "color": "#2a3f5f"
           }
          },
          "ternary": {
           "aaxis": {
            "gridcolor": "white",
            "linecolor": "white",
            "ticks": ""
           },
           "baxis": {
            "gridcolor": "white",
            "linecolor": "white",
            "ticks": ""
           },
           "bgcolor": "#E5ECF6",
           "caxis": {
            "gridcolor": "white",
            "linecolor": "white",
            "ticks": ""
           }
          },
          "title": {
           "x": 0.05
          },
          "xaxis": {
           "automargin": true,
           "gridcolor": "white",
           "linecolor": "white",
           "ticks": "",
           "title": {
            "standoff": 15
           },
           "zerolinecolor": "white",
           "zerolinewidth": 2
          },
          "yaxis": {
           "automargin": true,
           "gridcolor": "white",
           "linecolor": "white",
           "ticks": "",
           "title": {
            "standoff": 15
           },
           "zerolinecolor": "white",
           "zerolinewidth": 2
          }
         }
        },
        "title": {
         "text": "Consumo Energético Total por Proyecto"
        },
        "xaxis": {
         "anchor": "y",
         "domain": [
          0,
          1
         ],
         "title": {
          "text": "Nombre Proyecto"
         }
        },
        "yaxis": {
         "anchor": "x",
         "domain": [
          0,
          1
         ],
         "title": {
          "text": "Consumo (kWh)"
         }
        }
       }
      }
     },
     "metadata": {},
     "output_type": "display_data"
    },
    {
     "data": {
      "application/vnd.plotly.v1+json": {
       "config": {
        "plotlyServerURL": "https://plot.ly"
       },
       "data": [
        {
         "hovertemplate": "Tipo Energia=Electrica<br>Consumo Energia (kWh)=%{marker.size}<br>Impacto CO2 (kg)=%{y}<extra></extra>",
         "legendgroup": "Electrica",
         "marker": {
          "color": "#636efa",
          "size": {
           "bdata": "vycOAA==",
           "dtype": "i4"
          },
          "sizemode": "area",
          "sizeref": 2319.1975,
          "symbol": "circle"
         },
         "mode": "markers",
         "name": "Electrica",
         "orientation": "v",
         "showlegend": true,
         "type": "scatter",
         "x": {
          "bdata": "vycOAA==",
          "dtype": "i4"
         },
         "xaxis": "x",
         "y": {
          "bdata": "ZmZmZibMwEA=",
          "dtype": "f8"
         },
         "yaxis": "y"
        },
        {
         "hovertemplate": "Tipo Energia=Gas<br>Consumo Energia (kWh)=%{marker.size}<br>Impacto CO2 (kg)=%{y}<extra></extra>",
         "legendgroup": "Gas",
         "marker": {
          "color": "#EF553B",
          "size": {
           "bdata": "J3wMAA==",
           "dtype": "i4"
          },
          "sizemode": "area",
          "sizeref": 2319.1975,
          "symbol": "circle"
         },
         "mode": "markers",
         "name": "Gas",
         "orientation": "v",
         "showlegend": true,
         "type": "scatter",
         "x": {
          "bdata": "J3wMAA==",
          "dtype": "i4"
         },
         "xaxis": "x",
         "y": {
          "bdata": "16NwPUp9v0A=",
          "dtype": "f8"
         },
         "yaxis": "y"
        },
        {
         "hovertemplate": "Tipo Energia=Solar<br>Consumo Energia (kWh)=%{marker.size}<br>Impacto CO2 (kg)=%{y}<extra></extra>",
         "legendgroup": "Solar",
         "marker": {
          "color": "#00cc96",
          "size": {
           "bdata": "mwQOAA==",
           "dtype": "i4"
          },
          "sizemode": "area",
          "sizeref": 2319.1975,
          "symbol": "circle"
         },
         "mode": "markers",
         "name": "Solar",
         "orientation": "v",
         "showlegend": true,
         "type": "scatter",
         "x": {
          "bdata": "mwQOAA==",
          "dtype": "i4"
         },
         "xaxis": "x",
         "y": {
          "bdata": "9ihcj4Ilw0A=",
          "dtype": "f8"
         },
         "yaxis": "y"
        }
       ],
       "layout": {
        "legend": {
         "itemsizing": "constant",
         "title": {
          "text": "Tipo Energia"
         },
         "tracegroupgap": 0
        },
        "template": {
         "data": {
          "bar": [
           {
            "error_x": {
             "color": "#2a3f5f"
            },
            "error_y": {
             "color": "#2a3f5f"
            },
            "marker": {
             "line": {
              "color": "#E5ECF6",
              "width": 0.5
             },
             "pattern": {
              "fillmode": "overlay",
              "size": 10,
              "solidity": 0.2
             }
            },
            "type": "bar"
           }
          ],
          "barpolar": [
           {
            "marker": {
             "line": {
              "color": "#E5ECF6",
              "width": 0.5
             },
             "pattern": {
              "fillmode": "overlay",
              "size": 10,
              "solidity": 0.2
             }
            },
            "type": "barpolar"
           }
          ],
          "carpet": [
           {
            "aaxis": {
             "endlinecolor": "#2a3f5f",
             "gridcolor": "white",
             "linecolor": "white",
             "minorgridcolor": "white",
             "startlinecolor": "#2a3f5f"
            },
            "baxis": {
             "endlinecolor": "#2a3f5f",
             "gridcolor": "white",
             "linecolor": "white",
             "minorgridcolor": "white",
             "startlinecolor": "#2a3f5f"
            },
            "type": "carpet"
           }
          ],
          "choropleth": [
           {
            "colorbar": {
             "outlinewidth": 0,
             "ticks": ""
            },
            "type": "choropleth"
           }
          ],
          "contour": [
           {
            "colorbar": {
             "outlinewidth": 0,
             "ticks": ""
            },
            "colorscale": [
             [
              0,
              "#0d0887"
             ],
             [
              0.1111111111111111,
              "#46039f"
             ],
             [
              0.2222222222222222,
              "#7201a8"
             ],
             [
              0.3333333333333333,
              "#9c179e"
             ],
             [
              0.4444444444444444,
              "#bd3786"
             ],
             [
              0.5555555555555556,
              "#d8576b"
             ],
             [
              0.6666666666666666,
              "#ed7953"
             ],
             [
              0.7777777777777778,
              "#fb9f3a"
             ],
             [
              0.8888888888888888,
              "#fdca26"
             ],
             [
              1,
              "#f0f921"
             ]
            ],
            "type": "contour"
           }
          ],
          "contourcarpet": [
           {
            "colorbar": {
             "outlinewidth": 0,
             "ticks": ""
            },
            "type": "contourcarpet"
           }
          ],
          "heatmap": [
           {
            "colorbar": {
             "outlinewidth": 0,
             "ticks": ""
            },
            "colorscale": [
             [
              0,
              "#0d0887"
             ],
             [
              0.1111111111111111,
              "#46039f"
             ],
             [
              0.2222222222222222,
              "#7201a8"
             ],
             [
              0.3333333333333333,
              "#9c179e"
             ],
             [
              0.4444444444444444,
              "#bd3786"
             ],
             [
              0.5555555555555556,
              "#d8576b"
             ],
             [
              0.6666666666666666,
              "#ed7953"
             ],
             [
              0.7777777777777778,
              "#fb9f3a"
             ],
             [
              0.8888888888888888,
              "#fdca26"
             ],
             [
              1,
              "#f0f921"
             ]
            ],
            "type": "heatmap"
           }
          ],
          "histogram": [
           {
            "marker": {
             "pattern": {
              "fillmode": "overlay",
              "size": 10,
              "solidity": 0.2
             }
            },
            "type": "histogram"
           }
          ],
          "histogram2d": [
           {
            "colorbar": {
             "outlinewidth": 0,
             "ticks": ""
            },
            "colorscale": [
             [
              0,
              "#0d0887"
             ],
             [
              0.1111111111111111,
              "#46039f"
             ],
             [
              0.2222222222222222,
              "#7201a8"
             ],
             [
              0.3333333333333333,
              "#9c179e"
             ],
             [
              0.4444444444444444,
              "#bd3786"
             ],
             [
              0.5555555555555556,
              "#d8576b"
             ],
             [
              0.6666666666666666,
              "#ed7953"
             ],
             [
              0.7777777777777778,
              "#fb9f3a"
             ],
             [
              0.8888888888888888,
              "#fdca26"
             ],
             [
              1,
              "#f0f921"
             ]
            ],
            "type": "histogram2d"
           }
          ],
          "histogram2dcontour": [
           {
            "colorbar": {
             "outlinewidth": 0,
             "ticks": ""
            },
            "colorscale": [
             [
              0,
              "#0d0887"
             ],
             [
              0.1111111111111111,
              "#46039f"
             ],
             [
              0.2222222222222222,
              "#7201a8"
             ],
             [
              0.3333333333333333,
              "#9c179e"
             ],
             [
              0.4444444444444444,
              "#bd3786"
             ],
             [
              0.5555555555555556,
              "#d8576b"
             ],
             [
              0.6666666666666666,
              "#ed7953"
             ],
             [
              0.7777777777777778,
              "#fb9f3a"
             ],
             [
              0.8888888888888888,
              "#fdca26"
             ],
             [
              1,
              "#f0f921"
             ]
            ],
            "type": "histogram2dcontour"
           }
          ],
          "mesh3d": [
           {
            "colorbar": {
             "outlinewidth": 0,
             "ticks": ""
            },
            "type": "mesh3d"
           }
          ],
          "parcoords": [
           {
            "line": {
             "colorbar": {
              "outlinewidth": 0,
              "ticks": ""
             }
            },
            "type": "parcoords"
           }
          ],
          "pie": [
           {
            "automargin": true,
            "type": "pie"
           }
          ],
          "scatter": [
           {
            "fillpattern": {
             "fillmode": "overlay",
             "size": 10,
             "solidity": 0.2
            },
            "type": "scatter"
           }
          ],
          "scatter3d": [
           {
            "line": {
             "colorbar": {
              "outlinewidth": 0,
              "ticks": ""
             }
            },
            "marker": {
             "colorbar": {
              "outlinewidth": 0,
              "ticks": ""
             }
            },
            "type": "scatter3d"
           }
          ],
          "scattercarpet": [
           {
            "marker": {
             "colorbar": {
              "outlinewidth": 0,
              "ticks": ""
             }
            },
            "type": "scattercarpet"
           }
          ],
          "scattergeo": [
           {
            "marker": {
             "colorbar": {
              "outlinewidth": 0,
              "ticks": ""
             }
            },
            "type": "scattergeo"
           }
          ],
          "scattergl": [
           {
            "marker": {
             "colorbar": {
              "outlinewidth": 0,
              "ticks": ""
             }
            },
            "type": "scattergl"
           }
          ],
          "scattermap": [
           {
            "marker": {
             "colorbar": {
              "outlinewidth": 0,
              "ticks": ""
             }
            },
            "type": "scattermap"
           }
          ],
          "scattermapbox": [
           {
            "marker": {
             "colorbar": {
              "outlinewidth": 0,
              "ticks": ""
             }
            },
            "type": "scattermapbox"
           }
          ],
          "scatterpolar": [
           {
            "marker": {
             "colorbar": {
              "outlinewidth": 0,
              "ticks": ""
             }
            },
            "type": "scatterpolar"
           }
          ],
          "scatterpolargl": [
           {
            "marker": {
             "colorbar": {
              "outlinewidth": 0,
              "ticks": ""
             }
            },
            "type": "scatterpolargl"
           }
          ],
          "scatterternary": [
           {
            "marker": {
             "colorbar": {
              "outlinewidth": 0,
              "ticks": ""
             }
            },
            "type": "scatterternary"
           }
          ],
          "surface": [
           {
            "colorbar": {
             "outlinewidth": 0,
             "ticks": ""
            },
            "colorscale": [
             [
              0,
              "#0d0887"
             ],
             [
              0.1111111111111111,
              "#46039f"
             ],
             [
              0.2222222222222222,
              "#7201a8"
             ],
             [
              0.3333333333333333,
              "#9c179e"
             ],
             [
              0.4444444444444444,
              "#bd3786"
             ],
             [
              0.5555555555555556,
              "#d8576b"
             ],
             [
              0.6666666666666666,
              "#ed7953"
             ],
             [
              0.7777777777777778,
              "#fb9f3a"
             ],
             [
              0.8888888888888888,
              "#fdca26"
             ],
             [
              1,
              "#f0f921"
             ]
            ],
            "type": "surface"
           }
          ],
          "table": [
           {
            "cells": {
             "fill": {
              "color": "#EBF0F8"
             },
             "line": {
              "color": "white"
             }
            },
            "header": {
             "fill": {
              "color": "#C8D4E3"
             },
             "line": {
              "color": "white"
             }
            },
            "type": "table"
           }
          ]
         },
         "layout": {
          "annotationdefaults": {
           "arrowcolor": "#2a3f5f",
           "arrowhead": 0,
           "arrowwidth": 1
          },
          "autotypenumbers": "strict",
          "coloraxis": {
           "colorbar": {
            "outlinewidth": 0,
            "ticks": ""
           }
          },
          "colorscale": {
           "diverging": [
            [
             0,
             "#8e0152"
            ],
            [
             0.1,
             "#c51b7d"
            ],
            [
             0.2,
             "#de77ae"
            ],
            [
             0.3,
             "#f1b6da"
            ],
            [
             0.4,
             "#fde0ef"
            ],
            [
             0.5,
             "#f7f7f7"
            ],
            [
             0.6,
             "#e6f5d0"
            ],
            [
             0.7,
             "#b8e186"
            ],
            [
             0.8,
             "#7fbc41"
            ],
            [
             0.9,
             "#4d9221"
            ],
            [
             1,
             "#276419"
            ]
           ],
           "sequential": [
            [
             0,
             "#0d0887"
            ],
            [
             0.1111111111111111,
             "#46039f"
            ],
            [
             0.2222222222222222,
             "#7201a8"
            ],
            [
             0.3333333333333333,
             "#9c179e"
            ],
            [
             0.4444444444444444,
             "#bd3786"
            ],
            [
             0.5555555555555556,
             "#d8576b"
            ],
            [
             0.6666666666666666,
             "#ed7953"
            ],
            [
             0.7777777777777778,
             "#fb9f3a"
            ],
            [
             0.8888888888888888,
             "#fdca26"
            ],
            [
             1,
             "#f0f921"
            ]
           ],
           "sequentialminus": [
            [
             0,
             "#0d0887"
            ],
            [
             0.1111111111111111,
             "#46039f"
            ],
            [
             0.2222222222222222,
             "#7201a8"
            ],
            [
             0.3333333333333333,
             "#9c179e"
            ],
            [
             0.4444444444444444,
             "#bd3786"
            ],
            [
             0.5555555555555556,
             "#d8576b"
            ],
            [
             0.6666666666666666,
             "#ed7953"
            ],
            [
             0.7777777777777778,
             "#fb9f3a"
            ],
            [
             0.8888888888888888,
             "#fdca26"
            ],
            [
             1,
             "#f0f921"
            ]
           ]
          },
          "colorway": [
           "#636efa",
           "#EF553B",
           "#00cc96",
           "#ab63fa",
           "#FFA15A",
           "#19d3f3",
           "#FF6692",
           "#B6E880",
           "#FF97FF",
           "#FECB52"
          ],
          "font": {
           "color": "#2a3f5f"
          },
          "geo": {
           "bgcolor": "white",
           "lakecolor": "white",
           "landcolor": "#E5ECF6",
           "showlakes": true,
           "showland": true,
           "subunitcolor": "white"
          },
          "hoverlabel": {
           "align": "left"
          },
          "hovermode": "closest",
          "mapbox": {
           "style": "light"
          },
          "paper_bgcolor": "white",
          "plot_bgcolor": "#E5ECF6",
          "polar": {
           "angularaxis": {
            "gridcolor": "white",
            "linecolor": "white",
            "ticks": ""
           },
           "bgcolor": "#E5ECF6",
           "radialaxis": {
            "gridcolor": "white",
            "linecolor": "white",
            "ticks": ""
           }
          },
          "scene": {
           "xaxis": {
            "backgroundcolor": "#E5ECF6",
            "gridcolor": "white",
            "gridwidth": 2,
            "linecolor": "white",
            "showbackground": true,
            "ticks": "",
            "zerolinecolor": "white"
           },
           "yaxis": {
            "backgroundcolor": "#E5ECF6",
            "gridcolor": "white",
            "gridwidth": 2,
            "linecolor": "white",
            "showbackground": true,
            "ticks": "",
            "zerolinecolor": "white"
           },
           "zaxis": {
            "backgroundcolor": "#E5ECF6",
            "gridcolor": "white",
            "gridwidth": 2,
            "linecolor": "white",
            "showbackground": true,
            "ticks": "",
            "zerolinecolor": "white"
           }
          },
          "shapedefaults": {
           "line": {
            "color": "#2a3f5f"
           }
          },
          "ternary": {
           "aaxis": {
            "gridcolor": "white",
            "linecolor": "white",
            "ticks": ""
           },
           "baxis": {
            "gridcolor": "white",
            "linecolor": "white",
            "ticks": ""
           },
           "bgcolor": "#E5ECF6",
           "caxis": {
            "gridcolor": "white",
            "linecolor": "white",
            "ticks": ""
           }
          },
          "title": {
           "x": 0.05
          },
          "xaxis": {
           "automargin": true,
           "gridcolor": "white",
           "linecolor": "white",
           "ticks": "",
           "title": {
            "standoff": 15
           },
           "zerolinecolor": "white",
           "zerolinewidth": 2
          },
          "yaxis": {
           "automargin": true,
           "gridcolor": "white",
           "linecolor": "white",
           "ticks": "",
           "title": {
            "standoff": 15
           },
           "zerolinecolor": "white",
           "zerolinewidth": 2
          }
         }
        },
        "title": {
         "text": "Relación Consumo vs Impacto Ambiental por Tipo de Energía"
        },
        "xaxis": {
         "anchor": "y",
         "domain": [
          0,
          1
         ],
         "title": {
          "text": "Consumo Energia (kWh)"
         }
        },
        "yaxis": {
         "anchor": "x",
         "domain": [
          0,
          1
         ],
         "title": {
          "text": "Impacto CO2 (kg)"
         }
        }
       }
      }
     },
     "metadata": {},
     "output_type": "display_data"
    },
    {
     "data": {
      "application/vnd.plotly.v1+json": {
       "config": {
        "plotlyServerURL": "https://plot.ly"
       },
       "data": [
        {
         "hovertemplate": "Nombre Proyecto=%{x}<br>Puntaje=%{y}<extra></extra>",
         "legendgroup": "",
         "marker": {
          "color": "#636efa",
          "pattern": {
           "shape": ""
          }
         },
         "name": "",
         "orientation": "v",
         "showlegend": false,
         "textposition": "auto",
         "type": "bar",
         "x": [
          "Proyecto Aurora",
          "Proyecto Independencia",
          "Proyecto La Reina",
          "Proyecto Macul",
          "Proyecto Mapocho",
          "Proyecto Providencia",
          "Proyecto Puente Alto",
          "Proyecto Recoleta",
          "Proyecto Santa Rosa",
          "Proyecto Vitacura"
         ],
         "xaxis": "x",
         "y": {
          "bdata": "AAAAAABAT0B5DeU1lFdNQJIkSZIkiUdAr6G8hvKaS0DHcRzHcZxJQKuqqqqqyklAVVVVVVVVTEAzMzMzM3NFQGwor6G8hkdAAAAAAADYREA=",
          "dtype": "f8"
         },
         "yaxis": "y"
        }
       ],
       "layout": {
        "barmode": "relative",
        "legend": {
         "tracegroupgap": 0
        },
        "template": {
         "data": {
          "bar": [
           {
            "error_x": {
             "color": "#2a3f5f"
            },
            "error_y": {
             "color": "#2a3f5f"
            },
            "marker": {
             "line": {
              "color": "#E5ECF6",
              "width": 0.5
             },
             "pattern": {
              "fillmode": "overlay",
              "size": 10,
              "solidity": 0.2
             }
            },
            "type": "bar"
           }
          ],
          "barpolar": [
           {
            "marker": {
             "line": {
              "color": "#E5ECF6",
              "width": 0.5
             },
             "pattern": {
              "fillmode": "overlay",
              "size": 10,
              "solidity": 0.2
             }
            },
            "type": "barpolar"
           }
          ],
          "carpet": [
           {
            "aaxis": {
             "endlinecolor": "#2a3f5f",
             "gridcolor": "white",
             "linecolor": "white",
             "minorgridcolor": "white",
             "startlinecolor": "#2a3f5f"
            },
            "baxis": {
             "endlinecolor": "#2a3f5f",
             "gridcolor": "white",
             "linecolor": "white",
             "minorgridcolor": "white",
             "startlinecolor": "#2a3f5f"
            },
            "type": "carpet"
           }
          ],
          "choropleth": [
           {
            "colorbar": {
             "outlinewidth": 0,
             "ticks": ""
            },
            "type": "choropleth"
           }
          ],
          "contour": [
           {
            "colorbar": {
             "outlinewidth": 0,
             "ticks": ""
            },
            "colorscale": [
             [
              0,
              "#0d0887"
             ],
             [
              0.1111111111111111,
              "#46039f"
             ],
             [
              0.2222222222222222,
              "#7201a8"
             ],
             [
              0.3333333333333333,
              "#9c179e"
             ],
             [
              0.4444444444444444,
              "#bd3786"
             ],
             [
              0.5555555555555556,
              "#d8576b"
             ],
             [
              0.6666666666666666,
              "#ed7953"
             ],
             [
              0.7777777777777778,
              "#fb9f3a"
             ],
             [
              0.8888888888888888,
              "#fdca26"
             ],
             [
              1,
              "#f0f921"
             ]
            ],
            "type": "contour"
           }
          ],
          "contourcarpet": [
           {
            "colorbar": {
             "outlinewidth": 0,
             "ticks": ""
            },
            "type": "contourcarpet"
           }
          ],
          "heatmap": [
           {
            "colorbar": {
             "outlinewidth": 0,
             "ticks": ""
            },
            "colorscale": [
             [
              0,
              "#0d0887"
             ],
             [
              0.1111111111111111,
              "#46039f"
             ],
             [
              0.2222222222222222,
              "#7201a8"
             ],
             [
              0.3333333333333333,
              "#9c179e"
             ],
             [
              0.4444444444444444,
              "#bd3786"
             ],
             [
              0.5555555555555556,
              "#d8576b"
             ],
             [
              0.6666666666666666,
              "#ed7953"
             ],
             [
              0.7777777777777778,
              "#fb9f3a"
             ],
             [
              0.8888888888888888,
              "#fdca26"
             ],
             [
              1,
              "#f0f921"
             ]
            ],
            "type": "heatmap"
           }
          ],
          "histogram": [
           {
            "marker": {
             "pattern": {
              "fillmode": "overlay",
              "size": 10,
              "solidity": 0.2
             }
            },
            "type": "histogram"
           }
          ],
          "histogram2d": [
           {
            "colorbar": {
             "outlinewidth": 0,
             "ticks": ""
            },
            "colorscale": [
             [
              0,
              "#0d0887"
             ],
             [
              0.1111111111111111,
              "#46039f"
             ],
             [
              0.2222222222222222,
              "#7201a8"
             ],
             [
              0.3333333333333333,
              "#9c179e"
             ],
             [
              0.4444444444444444,
              "#bd3786"
             ],
             [
              0.5555555555555556,
              "#d8576b"
             ],
             [
              0.6666666666666666,
              "#ed7953"
             ],
             [
              0.7777777777777778,
              "#fb9f3a"
             ],
             [
              0.8888888888888888,
              "#fdca26"
             ],
             [
              1,
              "#f0f921"
             ]
            ],
            "type": "histogram2d"
           }
          ],
          "histogram2dcontour": [
           {
            "colorbar": {
             "outlinewidth": 0,
             "ticks": ""
            },
            "colorscale": [
             [
              0,
              "#0d0887"
             ],
             [
              0.1111111111111111,
              "#46039f"
             ],
             [
              0.2222222222222222,
              "#7201a8"
             ],
             [
              0.3333333333333333,
              "#9c179e"
             ],
             [
              0.4444444444444444,
              "#bd3786"
             ],
             [
              0.5555555555555556,
              "#d8576b"
             ],
             [
              0.6666666666666666,
              "#ed7953"
             ],
             [
              0.7777777777777778,
              "#fb9f3a"
             ],
             [
              0.8888888888888888,
              "#fdca26"
             ],
             [
              1,
              "#f0f921"
             ]
            ],
            "type": "histogram2dcontour"
           }
          ],
          "mesh3d": [
           {
            "colorbar": {
             "outlinewidth": 0,
             "ticks": ""
            },
            "type": "mesh3d"
           }
          ],
          "parcoords": [
           {
            "line": {
             "colorbar": {
              "outlinewidth": 0,
              "ticks": ""
             }
            },
            "type": "parcoords"
           }
          ],
          "pie": [
           {
            "automargin": true,
            "type": "pie"
           }
          ],
          "scatter": [
           {
            "fillpattern": {
             "fillmode": "overlay",
             "size": 10,
             "solidity": 0.2
            },
            "type": "scatter"
           }
          ],
          "scatter3d": [
           {
            "line": {
             "colorbar": {
              "outlinewidth": 0,
              "ticks": ""
             }
            },
            "marker": {
             "colorbar": {
              "outlinewidth": 0,
              "ticks": ""
             }
            },
            "type": "scatter3d"
           }
          ],
          "scattercarpet": [
           {
            "marker": {
             "colorbar": {
              "outlinewidth": 0,
              "ticks": ""
             }
            },
            "type": "scattercarpet"
           }
          ],
          "scattergeo": [
           {
            "marker": {
             "colorbar": {
              "outlinewidth": 0,
              "ticks": ""
             }
            },
            "type": "scattergeo"
           }
          ],
          "scattergl": [
           {
            "marker": {
             "colorbar": {
              "outlinewidth": 0,
              "ticks": ""
             }
            },
            "type": "scattergl"
           }
          ],
          "scattermap": [
           {
            "marker": {
             "colorbar": {
              "outlinewidth": 0,
              "ticks": ""
             }
            },
            "type": "scattermap"
           }
          ],
          "scattermapbox": [
           {
            "marker": {
             "colorbar": {
              "outlinewidth": 0,
              "ticks": ""
             }
            },
            "type": "scattermapbox"
           }
          ],
          "scatterpolar": [
           {
            "marker": {
             "colorbar": {
              "outlinewidth": 0,
              "ticks": ""
             }
            },
            "type": "scatterpolar"
           }
          ],
          "scatterpolargl": [
           {
            "marker": {
             "colorbar": {
              "outlinewidth": 0,
              "ticks": ""
             }
            },
            "type": "scatterpolargl"
           }
          ],
          "scatterternary": [
           {
            "marker": {
             "colorbar": {
              "outlinewidth": 0,
              "ticks": ""
             }
            },
            "type": "scatterternary"
           }
          ],
          "surface": [
           {
            "colorbar": {
             "outlinewidth": 0,
             "ticks": ""
            },
            "colorscale": [
             [
              0,
              "#0d0887"
             ],
             [
              0.1111111111111111,
              "#46039f"
             ],
             [
              0.2222222222222222,
              "#7201a8"
             ],
             [
              0.3333333333333333,
              "#9c179e"
             ],
             [
              0.4444444444444444,
              "#bd3786"
             ],
             [
              0.5555555555555556,
              "#d8576b"
             ],
             [
              0.6666666666666666,
              "#ed7953"
             ],
             [
              0.7777777777777778,
              "#fb9f3a"
             ],
             [
              0.8888888888888888,
              "#fdca26"
             ],
             [
              1,
              "#f0f921"
             ]
            ],
            "type": "surface"
           }
          ],
          "table": [
           {
            "cells": {
             "fill": {
              "color": "#EBF0F8"
             },
             "line": {
              "color": "white"
             }
            },
            "header": {
             "fill": {
              "color": "#C8D4E3"
             },
             "line": {
              "color": "white"
             }
            },
            "type": "table"
           }
          ]
         },
         "layout": {
          "annotationdefaults": {
           "arrowcolor": "#2a3f5f",
           "arrowhead": 0,
           "arrowwidth": 1
          },
          "autotypenumbers": "strict",
          "coloraxis": {
           "colorbar": {
            "outlinewidth": 0,
            "ticks": ""
           }
          },
          "colorscale": {
           "diverging": [
            [
             0,
             "#8e0152"
            ],
            [
             0.1,
             "#c51b7d"
            ],
            [
             0.2,
             "#de77ae"
            ],
            [
             0.3,
             "#f1b6da"
            ],
            [
             0.4,
             "#fde0ef"
            ],
            [
             0.5,
             "#f7f7f7"
            ],
            [
             0.6,
             "#e6f5d0"
            ],
            [
             0.7,
             "#b8e186"
            ],
            [
             0.8,
             "#7fbc41"
            ],
            [
             0.9,
             "#4d9221"
            ],
            [
             1,
             "#276419"
            ]
           ],
           "sequential": [
            [
             0,
             "#0d0887"
            ],
            [
             0.1111111111111111,
             "#46039f"
            ],
            [
             0.2222222222222222,
             "#7201a8"
            ],
            [
             0.3333333333333333,
             "#9c179e"
            ],
            [
             0.4444444444444444,
             "#bd3786"
            ],
            [
             0.5555555555555556,
             "#d8576b"
            ],
            [
             0.6666666666666666,
             "#ed7953"
            ],
            [
             0.7777777777777778,
             "#fb9f3a"
            ],
            [
             0.8888888888888888,
             "#fdca26"
            ],
            [
             1,
             "#f0f921"
            ]
           ],
           "sequentialminus": [
            [
             0,
             "#0d0887"
            ],
            [
             0.1111111111111111,
             "#46039f"
            ],
            [
             0.2222222222222222,
             "#7201a8"
            ],
            [
             0.3333333333333333,
             "#9c179e"
            ],
            [
             0.4444444444444444,
             "#bd3786"
            ],
            [
             0.5555555555555556,
             "#d8576b"
            ],
            [
             0.6666666666666666,
             "#ed7953"
            ],
            [
             0.7777777777777778,
             "#fb9f3a"
            ],
            [
             0.8888888888888888,
             "#fdca26"
            ],
            [
             1,
             "#f0f921"
            ]
           ]
          },
          "colorway": [
           "#636efa",
           "#EF553B",
           "#00cc96",
           "#ab63fa",
           "#FFA15A",
           "#19d3f3",
           "#FF6692",
           "#B6E880",
           "#FF97FF",
           "#FECB52"
          ],
          "font": {
           "color": "#2a3f5f"
          },
          "geo": {
           "bgcolor": "white",
           "lakecolor": "white",
           "landcolor": "#E5ECF6",
           "showlakes": true,
           "showland": true,
           "subunitcolor": "white"
          },
          "hoverlabel": {
           "align": "left"
          },
          "hovermode": "closest",
          "mapbox": {
           "style": "light"
          },
          "paper_bgcolor": "white",
          "plot_bgcolor": "#E5ECF6",
          "polar": {
           "angularaxis": {
            "gridcolor": "white",
            "linecolor": "white",
            "ticks": ""
           },
           "bgcolor": "#E5ECF6",
           "radialaxis": {
            "gridcolor": "white",
            "linecolor": "white",
            "ticks": ""
           }
          },
          "scene": {
           "xaxis": {
            "backgroundcolor": "#E5ECF6",
            "gridcolor": "white",
            "gridwidth": 2,
            "linecolor": "white",
            "showbackground": true,
            "ticks": "",
            "zerolinecolor": "white"
           },
           "yaxis": {
            "backgroundcolor": "#E5ECF6",
            "gridcolor": "white",
            "gridwidth": 2,
            "linecolor": "white",
            "showbackground": true,
            "ticks": "",
            "zerolinecolor": "white"
           },
           "zaxis": {
            "backgroundcolor": "#E5ECF6",
            "gridcolor": "white",
            "gridwidth": 2,
            "linecolor": "white",
            "showbackground": true,
            "ticks": "",
            "zerolinecolor": "white"
           }
          },
          "shapedefaults": {
           "line": {
            "color": "#2a3f5f"
           }
          },
          "ternary": {
           "aaxis": {
            "gridcolor": "white",
            "linecolor": "white",
            "ticks": ""
           },
           "baxis": {
            "gridcolor": "white",
            "linecolor": "white",
            "ticks": ""
           },
           "bgcolor": "#E5ECF6",
           "caxis": {
            "gridcolor": "white",
            "linecolor": "white",
            "ticks": ""
           }
          },
          "title": {
           "x": 0.05
          },
          "xaxis": {
           "automargin": true,
           "gridcolor": "white",
           "linecolor": "white",
           "ticks": "",
           "title": {
            "standoff": 15
           },
           "zerolinecolor": "white",
           "zerolinewidth": 2
          },
          "yaxis": {
           "automargin": true,
           "gridcolor": "white",
           "linecolor": "white",
           "ticks": "",
           "title": {
            "standoff": 15
           },
           "zerolinecolor": "white",
           "zerolinewidth": 2
          }
         }
        },
        "title": {
         "text": "Puntaje de Eficiencia Energética por Proyecto"
        },
        "xaxis": {
         "anchor": "y",
         "domain": [
          0,
          1
         ],
         "title": {
          "text": "Nombre Proyecto"
         }
        },
        "yaxis": {
         "anchor": "x",
         "domain": [
          0,
          1
         ],
         "title": {
          "text": "Puntaje"
         }
        }
       }
      }
     },
     "metadata": {},
     "output_type": "display_data"
    },
    {
     "data": {
      "application/vnd.plotly.v1+json": {
       "config": {
        "plotlyServerURL": "https://plot.ly"
       },
       "data": [
        {
         "domain": {
          "x": [
           0,
           1
          ],
          "y": [
           0,
           1
          ]
         },
         "hovertemplate": "Certificacion LEED=%{label}<br>Cantidad=%{value}<extra></extra>",
         "labels": [
          "SI",
          "No"
         ],
         "legendgroup": "",
         "name": "",
         "showlegend": true,
         "type": "pie",
         "values": {
          "bdata": "Z2E=",
          "dtype": "i1"
         }
        }
       ],
       "layout": {
        "legend": {
         "tracegroupgap": 0
        },
        "template": {
         "data": {
          "bar": [
           {
            "error_x": {
             "color": "#2a3f5f"
            },
            "error_y": {
             "color": "#2a3f5f"
            },
            "marker": {
             "line": {
              "color": "#E5ECF6",
              "width": 0.5
             },
             "pattern": {
              "fillmode": "overlay",
              "size": 10,
              "solidity": 0.2
             }
            },
            "type": "bar"
           }
          ],
          "barpolar": [
           {
            "marker": {
             "line": {
              "color": "#E5ECF6",
              "width": 0.5
             },
             "pattern": {
              "fillmode": "overlay",
              "size": 10,
              "solidity": 0.2
             }
            },
            "type": "barpolar"
           }
          ],
          "carpet": [
           {
            "aaxis": {
             "endlinecolor": "#2a3f5f",
             "gridcolor": "white",
             "linecolor": "white",
             "minorgridcolor": "white",
             "startlinecolor": "#2a3f5f"
            },
            "baxis": {
             "endlinecolor": "#2a3f5f",
             "gridcolor": "white",
             "linecolor": "white",
             "minorgridcolor": "white",
             "startlinecolor": "#2a3f5f"
            },
            "type": "carpet"
           }
          ],
          "choropleth": [
           {
            "colorbar": {
             "outlinewidth": 0,
             "ticks": ""
            },
            "type": "choropleth"
           }
          ],
          "contour": [
           {
            "colorbar": {
             "outlinewidth": 0,
             "ticks": ""
            },
            "colorscale": [
             [
              0,
              "#0d0887"
             ],
             [
              0.1111111111111111,
              "#46039f"
             ],
             [
              0.2222222222222222,
              "#7201a8"
             ],
             [
              0.3333333333333333,
              "#9c179e"
             ],
             [
              0.4444444444444444,
              "#bd3786"
             ],
             [
              0.5555555555555556,
              "#d8576b"
             ],
             [
              0.6666666666666666,
              "#ed7953"
             ],
             [
              0.7777777777777778,
              "#fb9f3a"
             ],
             [
              0.8888888888888888,
              "#fdca26"
             ],
             [
              1,
              "#f0f921"
             ]
            ],
            "type": "contour"
           }
          ],
          "contourcarpet": [
           {
            "colorbar": {
             "outlinewidth": 0,
             "ticks": ""
            },
            "type": "contourcarpet"
           }
          ],
          "heatmap": [
           {
            "colorbar": {
             "outlinewidth": 0,
             "ticks": ""
            },
            "colorscale": [
             [
              0,
              "#0d0887"
             ],
             [
              0.1111111111111111,
              "#46039f"
             ],
             [
              0.2222222222222222,
              "#7201a8"
             ],
             [
              0.3333333333333333,
              "#9c179e"
             ],
             [
              0.4444444444444444,
              "#bd3786"
             ],
             [
              0.5555555555555556,
              "#d8576b"
             ],
             [
              0.6666666666666666,
              "#ed7953"
             ],
             [
              0.7777777777777778,
              "#fb9f3a"
             ],
             [
              0.8888888888888888,
              "#fdca26"
             ],
             [
              1,
              "#f0f921"
             ]
            ],
            "type": "heatmap"
           }
          ],
          "histogram": [
           {
            "marker": {
             "pattern": {
              "fillmode": "overlay",
              "size": 10,
              "solidity": 0.2
             }
            },
            "type": "histogram"
           }
          ],
          "histogram2d": [
           {
            "colorbar": {
             "outlinewidth": 0,
             "ticks": ""
            },
            "colorscale": [
             [
              0,
              "#0d0887"
             ],
             [
              0.1111111111111111,
              "#46039f"
             ],
             [
              0.2222222222222222,
              "#7201a8"
             ],
             [
              0.3333333333333333,
              "#9c179e"
             ],
             [
              0.4444444444444444,
              "#bd3786"
             ],
             [
              0.5555555555555556,
              "#d8576b"
             ],
             [
              0.6666666666666666,
              "#ed7953"
             ],
             [
              0.7777777777777778,
              "#fb9f3a"
             ],
             [
              0.8888888888888888,
              "#fdca26"
             ],
             [
              1,
              "#f0f921"
             ]
            ],
            "type": "histogram2d"
           }
          ],
          "histogram2dcontour": [
           {
            "colorbar": {
             "outlinewidth": 0,
             "ticks": ""
            },
            "colorscale": [
             [
              0,
              "#0d0887"
             ],
             [
              0.1111111111111111,
              "#46039f"
             ],
             [
              0.2222222222222222,
              "#7201a8"
             ],
             [
              0.3333333333333333,
              "#9c179e"
             ],
             [
              0.4444444444444444,
              "#bd3786"
             ],
             [
              0.5555555555555556,
              "#d8576b"
             ],
             [
              0.6666666666666666,
              "#ed7953"
             ],
             [
              0.7777777777777778,
              "#fb9f3a"
             ],
             [
              0.8888888888888888,
              "#fdca26"
             ],
             [
              1,
              "#f0f921"
             ]
            ],
            "type": "histogram2dcontour"
           }
          ],
          "mesh3d": [
           {
            "colorbar": {
             "outlinewidth": 0,
             "ticks": ""
            },
            "type": "mesh3d"
           }
          ],
          "parcoords": [
           {
            "line": {
             "colorbar": {
              "outlinewidth": 0,
              "ticks": ""
             }
            },
            "type": "parcoords"
           }
          ],
          "pie": [
           {
            "automargin": true,
            "type": "pie"
           }
          ],
          "scatter": [
           {
            "fillpattern": {
             "fillmode": "overlay",
             "size": 10,
             "solidity": 0.2
            },
            "type": "scatter"
           }
          ],
          "scatter3d": [
           {
            "line": {
             "colorbar": {
              "outlinewidth": 0,
              "ticks": ""
             }
            },
            "marker": {
             "colorbar": {
              "outlinewidth": 0,
              "ticks": ""
             }
            },
            "type": "scatter3d"
           }
          ],
          "scattercarpet": [
           {
            "marker": {
             "colorbar": {
              "outlinewidth": 0,
              "ticks": ""
             }
            },
            "type": "scattercarpet"
           }
          ],
          "scattergeo": [
           {
            "marker": {
             "colorbar": {
              "outlinewidth": 0,
              "ticks": ""
             }
            },
            "type": "scattergeo"
           }
          ],
          "scattergl": [
           {
            "marker": {
             "colorbar": {
              "outlinewidth": 0,
              "ticks": ""
             }
            },
            "type": "scattergl"
           }
          ],
          "scattermap": [
           {
            "marker": {
             "colorbar": {
              "outlinewidth": 0,
              "ticks": ""
             }
            },
            "type": "scattermap"
           }
          ],
          "scattermapbox": [
           {
            "marker": {
             "colorbar": {
              "outlinewidth": 0,
              "ticks": ""
             }
            },
            "type": "scattermapbox"
           }
          ],
          "scatterpolar": [
           {
            "marker": {
             "colorbar": {
              "outlinewidth": 0,
              "ticks": ""
             }
            },
            "type": "scatterpolar"
           }
          ],
          "scatterpolargl": [
           {
            "marker": {
             "colorbar": {
              "outlinewidth": 0,
              "ticks": ""
             }
            },
            "type": "scatterpolargl"
           }
          ],
          "scatterternary": [
           {
            "marker": {
             "colorbar": {
              "outlinewidth": 0,
              "ticks": ""
             }
            },
            "type": "scatterternary"
           }
          ],
          "surface": [
           {
            "colorbar": {
             "outlinewidth": 0,
             "ticks": ""
            },
            "colorscale": [
             [
              0,
              "#0d0887"
             ],
             [
              0.1111111111111111,
              "#46039f"
             ],
             [
              0.2222222222222222,
              "#7201a8"
             ],
             [
              0.3333333333333333,
              "#9c179e"
             ],
             [
              0.4444444444444444,
              "#bd3786"
             ],
             [
              0.5555555555555556,
              "#d8576b"
             ],
             [
              0.6666666666666666,
              "#ed7953"
             ],
             [
              0.7777777777777778,
              "#fb9f3a"
             ],
             [
              0.8888888888888888,
              "#fdca26"
             ],
             [
              1,
              "#f0f921"
             ]
            ],
            "type": "surface"
           }
          ],
          "table": [
           {
            "cells": {
             "fill": {
              "color": "#EBF0F8"
             },
             "line": {
              "color": "white"
             }
            },
            "header": {
             "fill": {
              "color": "#C8D4E3"
             },
             "line": {
              "color": "white"
             }
            },
            "type": "table"
           }
          ]
         },
         "layout": {
          "annotationdefaults": {
           "arrowcolor": "#2a3f5f",
           "arrowhead": 0,
           "arrowwidth": 1
          },
          "autotypenumbers": "strict",
          "coloraxis": {
           "colorbar": {
            "outlinewidth": 0,
            "ticks": ""
           }
          },
          "colorscale": {
           "diverging": [
            [
             0,
             "#8e0152"
            ],
            [
             0.1,
             "#c51b7d"
            ],
            [
             0.2,
             "#de77ae"
            ],
            [
             0.3,
             "#f1b6da"
            ],
            [
             0.4,
             "#fde0ef"
            ],
            [
             0.5,
             "#f7f7f7"
            ],
            [
             0.6,
             "#e6f5d0"
            ],
            [
             0.7,
             "#b8e186"
            ],
            [
             0.8,
             "#7fbc41"
            ],
            [
             0.9,
             "#4d9221"
            ],
            [
             1,
             "#276419"
            ]
           ],
           "sequential": [
            [
             0,
             "#0d0887"
            ],
            [
             0.1111111111111111,
             "#46039f"
            ],
            [
             0.2222222222222222,
             "#7201a8"
            ],
            [
             0.3333333333333333,
             "#9c179e"
            ],
            [
             0.4444444444444444,
             "#bd3786"
            ],
            [
             0.5555555555555556,
             "#d8576b"
            ],
            [
             0.6666666666666666,
             "#ed7953"
            ],
            [
             0.7777777777777778,
             "#fb9f3a"
            ],
            [
             0.8888888888888888,
             "#fdca26"
            ],
            [
             1,
             "#f0f921"
            ]
           ],
           "sequentialminus": [
            [
             0,
             "#0d0887"
            ],
            [
             0.1111111111111111,
             "#46039f"
            ],
            [
             0.2222222222222222,
             "#7201a8"
            ],
            [
             0.3333333333333333,
             "#9c179e"
            ],
            [
             0.4444444444444444,
             "#bd3786"
            ],
            [
             0.5555555555555556,
             "#d8576b"
            ],
            [
             0.6666666666666666,
             "#ed7953"
            ],
            [
             0.7777777777777778,
             "#fb9f3a"
            ],
            [
             0.8888888888888888,
             "#fdca26"
            ],
            [
             1,
             "#f0f921"
            ]
           ]
          },
          "colorway": [
           "#636efa",
           "#EF553B",
           "#00cc96",
           "#ab63fa",
           "#FFA15A",
           "#19d3f3",
           "#FF6692",
           "#B6E880",
           "#FF97FF",
           "#FECB52"
          ],
          "font": {
           "color": "#2a3f5f"
          },
          "geo": {
           "bgcolor": "white",
           "lakecolor": "white",
           "landcolor": "#E5ECF6",
           "showlakes": true,
           "showland": true,
           "subunitcolor": "white"
          },
          "hoverlabel": {
           "align": "left"
          },
          "hovermode": "closest",
          "mapbox": {
           "style": "light"
          },
          "paper_bgcolor": "white",
          "plot_bgcolor": "#E5ECF6",
          "polar": {
           "angularaxis": {
            "gridcolor": "white",
            "linecolor": "white",
            "ticks": ""
           },
           "bgcolor": "#E5ECF6",
           "radialaxis": {
            "gridcolor": "white",
            "linecolor": "white",
            "ticks": ""
           }
          },
          "scene": {
           "xaxis": {
            "backgroundcolor": "#E5ECF6",
            "gridcolor": "white",
            "gridwidth": 2,
            "linecolor": "white",
            "showbackground": true,
            "ticks": "",
            "zerolinecolor": "white"
           },
           "yaxis": {
            "backgroundcolor": "#E5ECF6",
            "gridcolor": "white",
            "gridwidth": 2,
            "linecolor": "white",
            "showbackground": true,
            "ticks": "",
            "zerolinecolor": "white"
           },
           "zaxis": {
            "backgroundcolor": "#E5ECF6",
            "gridcolor": "white",
            "gridwidth": 2,
            "linecolor": "white",
            "showbackground": true,
            "ticks": "",
            "zerolinecolor": "white"
           }
          },
          "shapedefaults": {
           "line": {
            "color": "#2a3f5f"
           }
          },
          "ternary": {
           "aaxis": {
            "gridcolor": "white",
            "linecolor": "white",
            "ticks": ""
           },
           "baxis": {
            "gridcolor": "white",
            "linecolor": "white",
            "ticks": ""
           },
           "bgcolor": "#E5ECF6",
           "caxis": {
            "gridcolor": "white",
            "linecolor": "white",
            "ticks": ""
           }
          },
          "title": {
           "x": 0.05
          },
          "xaxis": {
           "automargin": true,
           "gridcolor": "white",
           "linecolor": "white",
           "ticks": "",
           "title": {
            "standoff": 15
           },
           "zerolinecolor": "white",
           "zerolinewidth": 2
          },
          "yaxis": {
           "automargin": true,
           "gridcolor": "white",
           "linecolor": "white",
           "ticks": "",
           "title": {
            "standoff": 15
           },
           "zerolinecolor": "white",
           "zerolinewidth": 2
          }
         }
        },
        "title": {
         "text": "Distribución de Certificación LEED"
        }
       }
      }
     },
     "metadata": {},
     "output_type": "display_data"
    }
   ],
   "source": [
    "# --- Modelado de consumo energético ---\n",
    "consumo_proyecto = df.groupby(\"Nombre Proyecto\")[\"Consumo Energia (kWh)\"].sum().reset_index()\n",
    "\n",
    "fig3 = px.bar(\n",
    "    consumo_proyecto,\n",
    "    x=\"Nombre Proyecto\",\n",
    "    y=\"Consumo Energia (kWh)\",\n",
    "    title=\"Consumo Energético Total por Proyecto\",\n",
    "    labels={\"Consumo Energia (kWh)\": \"Consumo (kWh)\"}\n",
    ")\n",
    "fig3.show()\n",
    "\n",
    "# --- Análisis de impacto ambiental ---\n",
    "impacto = df.groupby(\"Tipo Energia\")[[\"Consumo Energia (kWh)\", \"Impacto CO2 Estimado\"]].sum().reset_index()\n",
    "\n",
    "fig4 = px.scatter(\n",
    "    impacto,\n",
    "    x=\"Consumo Energia (kWh)\",\n",
    "    y=\"Impacto CO2 Estimado\",\n",
    "    size=\"Consumo Energia (kWh)\",\n",
    "    color=\"Tipo Energia\",\n",
    "    title=\"Relación Consumo vs Impacto Ambiental por Tipo de Energía\",\n",
    "    labels={\"Impacto CO2 Estimado\": \"Impacto CO2 (kg)\"}\n",
    ")\n",
    "fig4.show()\n",
    "\n",
    "# --- Puntaje de eficiencia energética por proyecto ---\n",
    "eficiencia = df.groupby(\"Nombre Proyecto\")[\"Puntaje Eficiencia Energetica\"].mean().reset_index()\n",
    "\n",
    "fig5 = px.bar(\n",
    "    eficiencia,\n",
    "    x=\"Nombre Proyecto\",\n",
    "    y=\"Puntaje Eficiencia Energetica\",\n",
    "    title=\"Puntaje de Eficiencia Energética por Proyecto\",\n",
    "    labels={\"Puntaje Eficiencia Energetica\": \"Puntaje\"}\n",
    ")\n",
    "fig5.show()\n",
    "\n",
    "# --- Distribución de certificaciones LEED ---\n",
    "leed = df[\"Certificacion LEED\"].value_counts().reset_index()\n",
    "leed.columns = [\"Certificacion LEED\", \"Cantidad\"]\n",
    "\n",
    "fig6 = px.pie(\n",
    "    leed,\n",
    "    names=\"Certificacion LEED\",\n",
    "    values=\"Cantidad\",\n",
    "    title=\"Distribución de Certificación LEED\"\n",
    ")\n",
    "fig6.show()\n"
   ]
  }
 ],
 "metadata": {
  "kernelspec": {
   "display_name": "Python 3",
   "language": "python",
   "name": "python3"
  },
  "language_info": {
   "codemirror_mode": {
    "name": "ipython",
    "version": 3
   },
   "file_extension": ".py",
   "mimetype": "text/x-python",
   "name": "python",
   "nbconvert_exporter": "python",
   "pygments_lexer": "ipython3",
   "version": "3.13.3"
  }
 },
 "nbformat": 4,
 "nbformat_minor": 5
}
